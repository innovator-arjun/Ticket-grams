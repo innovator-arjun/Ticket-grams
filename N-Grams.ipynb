{
 "cells": [
  {
   "cell_type": "code",
   "execution_count": 25,
   "metadata": {
    "collapsed": true
   },
   "outputs": [],
   "source": [
    "import os\n",
    "import pandas as pd\n",
    "\n",
    "import matplotlib.pyplot as plt\n",
    "%matplotlib inline\n",
    "import seaborn as sns\n",
    "\n",
    "from nltk.tokenize import RegexpTokenizer\n",
    "import re"
   ]
  },
  {
   "cell_type": "code",
   "execution_count": 26,
   "metadata": {
    "collapsed": false
   },
   "outputs": [
    {
     "data": {
      "text/plain": [
       "['CI 99 Cents_636626064943787079.xlsx', 'dict_file.csv', 'sample_words.txtdic']"
      ]
     },
     "execution_count": 26,
     "metadata": {},
     "output_type": "execute_result"
    }
   ],
   "source": [
    "#pointing the source and listing the file names under that path\n",
    "path = os.chdir('C://Users//ar393556//Documents//Ticket grams//sample')\n",
    "files = os.listdir(path)\n",
    "files"
   ]
  },
  {
   "cell_type": "code",
   "execution_count": 27,
   "metadata": {
    "collapsed": false
   },
   "outputs": [
    {
     "data": {
      "text/plain": [
       "['CI 99 Cents_636626064943787079.xlsx']"
      ]
     },
     "execution_count": 27,
     "metadata": {},
     "output_type": "execute_result"
    }
   ],
   "source": [
    "#Fetching only xlsx files\n",
    "files_xls = [f for f in files if f[-4:] == 'xlsx']\n",
    "files_xls"
   ]
  },
  {
   "cell_type": "code",
   "execution_count": 28,
   "metadata": {
    "collapsed": false
   },
   "outputs": [],
   "source": [
    "df = pd.DataFrame()\n",
    "\n",
    "#Reading the files and appending the data in the DataFrame format\n",
    "for f in files_xls:\n",
    "    data = pd.read_excel(f,sheet_name='CI-Data')\n",
    "    df = df.append(data)"
   ]
  },
  {
   "cell_type": "code",
   "execution_count": 29,
   "metadata": {
    "collapsed": true
   },
   "outputs": [],
   "source": [
    "#Taking only TicketID and Summary which are essential\n",
    "\n",
    "ticket_df_full = pd.DataFrame(df, columns= ['Summary'])"
   ]
  },
  {
   "cell_type": "code",
   "execution_count": 30,
   "metadata": {
    "collapsed": false
   },
   "outputs": [],
   "source": [
    "ticket_df=ticket_df_full['Summary']"
   ]
  },
  {
   "cell_type": "code",
   "execution_count": 31,
   "metadata": {
    "collapsed": false
   },
   "outputs": [
    {
     "data": {
      "text/plain": [
       "(43619,)"
      ]
     },
     "execution_count": 31,
     "metadata": {},
     "output_type": "execute_result"
    }
   ],
   "source": [
    "#no. of records and columns\n",
    "ticket_df.shape"
   ]
  },
  {
   "cell_type": "code",
   "execution_count": 32,
   "metadata": {
    "collapsed": true
   },
   "outputs": [],
   "source": [
    "#Dropping null/blank records\n",
    "ticket_df=ticket_df.dropna()"
   ]
  },
  {
   "cell_type": "code",
   "execution_count": 33,
   "metadata": {
    "collapsed": false
   },
   "outputs": [
    {
     "data": {
      "text/plain": [
       "(1098,)"
      ]
     },
     "execution_count": 33,
     "metadata": {},
     "output_type": "execute_result"
    }
   ],
   "source": [
    "#New table data shape\n",
    "ticket_df.shape"
   ]
  },
  {
   "cell_type": "code",
   "execution_count": 34,
   "metadata": {
    "collapsed": false
   },
   "outputs": [
    {
     "data": {
      "text/plain": [
       "0    Alert: PRIORITY 2 - Trickle Files Stuck: STORE_67\n",
       "1    Alert: PRIORITY 2 - Back Office Trickle Files ...\n",
       "2                      Express Server 161 Disk D: 100%\n",
       "3    Alert: PRIORITY 1 - XPS Service has Stopped: S...\n",
       "4    Alert: PRIORITY 1 - XPS Service has Stopped: S...\n",
       "Name: Summary, dtype: object"
      ]
     },
     "execution_count": 34,
     "metadata": {},
     "output_type": "execute_result"
    }
   ],
   "source": [
    "ticket_df.head()"
   ]
  },
  {
   "cell_type": "code",
   "execution_count": 35,
   "metadata": {
    "collapsed": false
   },
   "outputs": [],
   "source": [
    "from nltk.corpus import stopwords\n",
    "stop = stopwords.words('english')\n",
    "ticket_df = ticket_df.apply(lambda x: \" \".join(x for x in x.split() if x not in stop))"
   ]
  },
  {
   "cell_type": "code",
   "execution_count": 36,
   "metadata": {
    "collapsed": false
   },
   "outputs": [],
   "source": [
    "# To remove punchuation, numbers and converting the string to lower\n",
    "ticket_df = ticket_df.str.lower().str.replace(r'[^a-z\\s]', '')\n"
   ]
  },
  {
   "cell_type": "code",
   "execution_count": 37,
   "metadata": {
    "collapsed": false
   },
   "outputs": [
    {
     "data": {
      "text/plain": [
       "0           alert priority   trickle files stuck store\n",
       "1    alert priority   back office trickle files stu...\n",
       "2                              express server  disk d \n",
       "3           alert priority   xps service stopped store\n",
       "4           alert priority   xps service stopped store\n",
       "Name: Summary, dtype: object"
      ]
     },
     "execution_count": 37,
     "metadata": {},
     "output_type": "execute_result"
    }
   ],
   "source": [
    "ticket_df.head()    "
   ]
  },
  {
   "cell_type": "code",
   "execution_count": 38,
   "metadata": {
    "collapsed": false
   },
   "outputs": [],
   "source": [
    "import spacy\n",
    "nlp=spacy.load('en_core_web_sm')"
   ]
  },
  {
   "cell_type": "code",
   "execution_count": 39,
   "metadata": {
    "collapsed": false,
    "scrolled": true
   },
   "outputs": [],
   "source": [
    "ticket_df= ticket_df.apply(lambda row: \" \".join([w.lemma_ for w in nlp(row)]))"
   ]
  },
  {
   "cell_type": "code",
   "execution_count": 40,
   "metadata": {
    "collapsed": false
   },
   "outputs": [
    {
     "data": {
      "text/plain": [
       "0           alert priority    trickle file stick store\n",
       "1    alert priority    back office trickle file sti...\n",
       "2                              express server   disk d\n",
       "3             alert priority    xps service stop store\n",
       "4             alert priority    xps service stop store\n",
       "Name: Summary, dtype: object"
      ]
     },
     "execution_count": 40,
     "metadata": {},
     "output_type": "execute_result"
    }
   ],
   "source": [
    "ticket_df.head()"
   ]
  },
  {
   "cell_type": "code",
   "execution_count": 41,
   "metadata": {
    "collapsed": true
   },
   "outputs": [],
   "source": [
    "freq = pd.Series(' '.join(ticket_df).split()).value_counts()"
   ]
  },
  {
   "cell_type": "code",
   "execution_count": 42,
   "metadata": {
    "collapsed": false
   },
   "outputs": [],
   "source": [
    "imp_words=freq[freq<2]"
   ]
  },
  {
   "cell_type": "code",
   "execution_count": 43,
   "metadata": {
    "collapsed": false
   },
   "outputs": [
    {
     "data": {
      "text/plain": [
       "single            1\n",
       "mic               1\n",
       "brother           1\n",
       "laud              1\n",
       "db                1\n",
       "qty               1\n",
       "regnot            1\n",
       "without           1\n",
       "cradle            1\n",
       "portal            1\n",
       "connectivity      1\n",
       "casxsadonlycom    1\n",
       "ff                1\n",
       "kav               1\n",
       "easter            1\n",
       "isare             1\n",
       "x                 1\n",
       "sapposdm          1\n",
       "point             1\n",
       "laotapvq          1\n",
       "domain            1\n",
       "pro               1\n",
       "nabisco           1\n",
       "dulce             1\n",
       "disabe            1\n",
       "warehouse         1\n",
       "hrs               1\n",
       "explorer          1\n",
       "lang              1\n",
       "out               1\n",
       "                 ..\n",
       "deposit           1\n",
       "hard              1\n",
       "pre               1\n",
       "export            1\n",
       "over              1\n",
       "twice             1\n",
       "black             1\n",
       "incident          1\n",
       "central           1\n",
       "broken            1\n",
       "instance          1\n",
       "paez              1\n",
       "reading           1\n",
       "hole              1\n",
       "force             1\n",
       "ite               1\n",
       "nuy               1\n",
       "retention         1\n",
       "hang              1\n",
       "turning           1\n",
       "mfp               1\n",
       "manzano           1\n",
       "dash              1\n",
       "inside            1\n",
       "policy            1\n",
       "machine           1\n",
       "azdmdbvq          1\n",
       "reimage           1\n",
       "submit            1\n",
       "activate          1\n",
       "dtype: int64"
      ]
     },
     "execution_count": 43,
     "metadata": {},
     "output_type": "execute_result"
    }
   ],
   "source": [
    "imp_words"
   ]
  },
  {
   "cell_type": "code",
   "execution_count": 44,
   "metadata": {
    "collapsed": false
   },
   "outputs": [],
   "source": [
    "freq = list(imp_words.index)\n",
    "ticket_df = ticket_df.apply(lambda x: \" \".join(x for x in x.split() if x not in freq))"
   ]
  },
  {
   "cell_type": "code",
   "execution_count": 45,
   "metadata": {
    "collapsed": false
   },
   "outputs": [
    {
     "data": {
      "text/plain": [
       "0                 alert priority trickle file stick store\n",
       "1       alert priority back office trickle file stick ...\n",
       "2                                           server disk d\n",
       "3                   alert priority xps service stop store\n",
       "4                   alert priority xps service stop store\n",
       "5                   alert priority xps service stop store\n",
       "6                alert priority download file stuck store\n",
       "7        alert priority dbs t service be not run register\n",
       "8                                     back office pc slow\n",
       "9                                                register\n",
       "10         alert priority status update not receive store\n",
       "11         alert priority status update not receive store\n",
       "12                                                sm take\n",
       "13                                               r freeze\n",
       "14          warn disk space utilization production server\n",
       "15                                       sm take password\n",
       "16         alert priority status update not receive store\n",
       "17                                      ceridian question\n",
       "18                                        bo printer work\n",
       "19                alert priority trickle file stick store\n",
       "20                alert priority trickle file stick store\n",
       "21                                      application error\n",
       "22                  sale tax rate change effective sunday\n",
       "23                                     pos password reset\n",
       "24                                               r freeze\n",
       "25                                      ceridian tc error\n",
       "26                alert priority trickle file stick store\n",
       "27                              dayforce password reset e\n",
       "28                                         r pinpad error\n",
       "29                                  dayforce password asm\n",
       "                              ...                        \n",
       "1068                            dayforce password reset e\n",
       "1069                                            rg frozen\n",
       "1070                                        item scanning\n",
       "1071                          learn web site course close\n",
       "1072                                    new item scanning\n",
       "1073                                 learn password reset\n",
       "1074                                     item price check\n",
       "1075    contractor account expire day less active dire...\n",
       "1076                                         inpick order\n",
       "1077                                          camera need\n",
       "1078                                   pos password reset\n",
       "1079                                 outlook error unable\n",
       "1080            dayforce user unable check total schedule\n",
       "1081                                             need new\n",
       "1082                alert priority xps service stop store\n",
       "1083                              rg cashier screen issue\n",
       "1084                                       pos frozen reg\n",
       "1085                                              request\n",
       "1086                                  r frozen responding\n",
       "1087                                    new item scanning\n",
       "1088                            dayforce password reset e\n",
       "1089                                   onboarding process\n",
       "1090                           dayforce unlock pay period\n",
       "1091          alert priority maintenance file stuck store\n",
       "1092           term employee request help access dayforce\n",
       "1093                                        item scanning\n",
       "1094                              change address dayforce\n",
       "1095               dayforce user request access fist time\n",
       "1096                        pos register stuck screen reg\n",
       "1097                                      ism account set\n",
       "Name: Summary, dtype: object"
      ]
     },
     "execution_count": 45,
     "metadata": {},
     "output_type": "execute_result"
    }
   ],
   "source": [
    "ticket_df"
   ]
  },
  {
   "cell_type": "code",
   "execution_count": 46,
   "metadata": {
    "collapsed": false
   },
   "outputs": [],
   "source": [
    "ticket_df = ticket_df.apply(lambda x: \" \".join(x for x in x.split() if len(x)>=3))"
   ]
  },
  {
   "cell_type": "code",
   "execution_count": 47,
   "metadata": {
    "collapsed": false
   },
   "outputs": [
    {
     "data": {
      "text/plain": [
       "0                 alert priority trickle file stick store\n",
       "1       alert priority back office trickle file stick ...\n",
       "2                                             server disk\n",
       "3                   alert priority xps service stop store\n",
       "4                   alert priority xps service stop store\n",
       "5                   alert priority xps service stop store\n",
       "6                alert priority download file stuck store\n",
       "7             alert priority dbs service not run register\n",
       "8                                        back office slow\n",
       "9                                                register\n",
       "10         alert priority status update not receive store\n",
       "11         alert priority status update not receive store\n",
       "12                                                   take\n",
       "13                                                 freeze\n",
       "14          warn disk space utilization production server\n",
       "15                                          take password\n",
       "16         alert priority status update not receive store\n",
       "17                                      ceridian question\n",
       "18                                           printer work\n",
       "19                alert priority trickle file stick store\n",
       "20                alert priority trickle file stick store\n",
       "21                                      application error\n",
       "22                  sale tax rate change effective sunday\n",
       "23                                     pos password reset\n",
       "24                                                 freeze\n",
       "25                                         ceridian error\n",
       "26                alert priority trickle file stick store\n",
       "27                                dayforce password reset\n",
       "28                                           pinpad error\n",
       "29                                  dayforce password asm\n",
       "                              ...                        \n",
       "1068                              dayforce password reset\n",
       "1069                                               frozen\n",
       "1070                                        item scanning\n",
       "1071                          learn web site course close\n",
       "1072                                    new item scanning\n",
       "1073                                 learn password reset\n",
       "1074                                     item price check\n",
       "1075    contractor account expire day less active dire...\n",
       "1076                                         inpick order\n",
       "1077                                          camera need\n",
       "1078                                   pos password reset\n",
       "1079                                 outlook error unable\n",
       "1080            dayforce user unable check total schedule\n",
       "1081                                             need new\n",
       "1082                alert priority xps service stop store\n",
       "1083                                 cashier screen issue\n",
       "1084                                       pos frozen reg\n",
       "1085                                              request\n",
       "1086                                    frozen responding\n",
       "1087                                    new item scanning\n",
       "1088                              dayforce password reset\n",
       "1089                                   onboarding process\n",
       "1090                           dayforce unlock pay period\n",
       "1091          alert priority maintenance file stuck store\n",
       "1092           term employee request help access dayforce\n",
       "1093                                        item scanning\n",
       "1094                              change address dayforce\n",
       "1095               dayforce user request access fist time\n",
       "1096                        pos register stuck screen reg\n",
       "1097                                      ism account set\n",
       "Name: Summary, dtype: object"
      ]
     },
     "execution_count": 47,
     "metadata": {},
     "output_type": "execute_result"
    }
   ],
   "source": [
    "ticket_df"
   ]
  },
  {
   "cell_type": "code",
   "execution_count": null,
   "metadata": {
    "collapsed": true
   },
   "outputs": [],
   "source": []
  },
  {
   "cell_type": "code",
   "execution_count": null,
   "metadata": {
    "collapsed": true
   },
   "outputs": [],
   "source": []
  },
  {
   "cell_type": "code",
   "execution_count": null,
   "metadata": {
    "collapsed": true
   },
   "outputs": [],
   "source": []
  },
  {
   "cell_type": "code",
   "execution_count": 76,
   "metadata": {
    "collapsed": false
   },
   "outputs": [],
   "source": [
    "unigrams  = ticket_df.str.split(expand=True).stack()"
   ]
  },
  {
   "cell_type": "code",
   "execution_count": 77,
   "metadata": {
    "collapsed": false
   },
   "outputs": [],
   "source": [
    "bigrams=unigrams+' '+unigrams.shift(-1)"
   ]
  },
  {
   "cell_type": "code",
   "execution_count": 78,
   "metadata": {
    "collapsed": false
   },
   "outputs": [
    {
     "data": {
      "text/plain": [
       "0  0      alert priority\n",
       "   1    priority trickle\n",
       "   2       trickle files\n",
       "   3         files stuck\n",
       "   4         stuck store\n",
       "dtype: object"
      ]
     },
     "execution_count": 78,
     "metadata": {},
     "output_type": "execute_result"
    }
   ],
   "source": [
    "bigrams[0:5]"
   ]
  },
  {
   "cell_type": "code",
   "execution_count": 79,
   "metadata": {
    "collapsed": false
   },
   "outputs": [],
   "source": [
    "trigrams = bigrams + ' ' + unigrams.shift(-2)"
   ]
  },
  {
   "cell_type": "code",
   "execution_count": 80,
   "metadata": {
    "collapsed": true
   },
   "outputs": [],
   "source": [
    "fourgrams = trigrams + ' ' + unigrams.shift(-4)\n"
   ]
  },
  {
   "cell_type": "code",
   "execution_count": 81,
   "metadata": {
    "collapsed": false
   },
   "outputs": [
    {
     "data": {
      "text/plain": [
       "0  0    alert priority trickle stuck\n",
       "   1    priority trickle files store\n",
       "   2       trickle files stuck alert\n",
       "   3      files stuck store priority\n",
       "   4          stuck store alert back\n",
       "dtype: object"
      ]
     },
     "execution_count": 81,
     "metadata": {},
     "output_type": "execute_result"
    }
   ],
   "source": [
    "fourgrams[0:5]"
   ]
  },
  {
   "cell_type": "code",
   "execution_count": 82,
   "metadata": {
    "collapsed": false
   },
   "outputs": [
    {
     "name": "stdout",
     "output_type": "stream",
     "text": [
      "3670\n"
     ]
    }
   ],
   "source": [
    "print(len(fourgrams))"
   ]
  },
  {
   "cell_type": "code",
   "execution_count": 83,
   "metadata": {
    "collapsed": false
   },
   "outputs": [],
   "source": [
    "# import nltk\n",
    "# is_noun = lambda pos: pos[:2] == 'NN'\n",
    "# nouns = [word for (word, pos) in nltk.pos_tag(ticket_df) if is_noun(pos)] "
   ]
  },
  {
   "cell_type": "code",
   "execution_count": 84,
   "metadata": {
    "collapsed": false
   },
   "outputs": [],
   "source": [
    "# nouns"
   ]
  },
  {
   "cell_type": "code",
   "execution_count": 85,
   "metadata": {
    "collapsed": true
   },
   "outputs": [],
   "source": [
    "def ngrams(s, n=2, i=0):\n",
    "    while len(s[i:i+n]) == n:\n",
    "            yield s[i:i+n]\n",
    "            i += 1"
   ]
  },
  {
   "cell_type": "code",
   "execution_count": 196,
   "metadata": {
    "collapsed": false
   },
   "outputs": [],
   "source": [
    "tri_gram=[]\n",
    "four_gram=[]\n",
    "for sent in ticket_df:\n",
    "#     txt =str(sent)\n",
    "#     txt=sent.split()\n",
    "    sent=str(sent)\n",
    "    blob = TextBlob(sent)\n",
    "    tri = blob.ngrams(n=3)\n",
    "    tri_gram.append(tri)\n",
    "    \n",
    "    blob = TextBlob(sent)\n",
    "    four = blob.ngrams(n=4)\n",
    "    four_gram.append(four)\n"
   ]
  },
  {
   "cell_type": "code",
   "execution_count": 197,
   "metadata": {
    "collapsed": false
   },
   "outputs": [],
   "source": [
    "tri_gram = list(filter(None, tri_gram)) \n",
    "four_gram = list(filter(None, four_gram)) "
   ]
  },
  {
   "cell_type": "code",
   "execution_count": 202,
   "metadata": {
    "collapsed": false
   },
   "outputs": [
    {
     "name": "stdout",
     "output_type": "stream",
     "text": [
      "722\n",
      "428\n"
     ]
    }
   ],
   "source": [
    "print(len(tri_gram))\n",
    "print(len(four_gram))"
   ]
  },
  {
   "cell_type": "code",
   "execution_count": null,
   "metadata": {
    "collapsed": true
   },
   "outputs": [],
   "source": []
  },
  {
   "cell_type": "code",
   "execution_count": 91,
   "metadata": {
    "collapsed": true
   },
   "outputs": [],
   "source": [
    "txt = 'Python is one of the awesomest languages'"
   ]
  },
  {
   "cell_type": "code",
   "execution_count": 93,
   "metadata": {
    "collapsed": false
   },
   "outputs": [
    {
     "data": {
      "text/plain": [
       "str"
      ]
     },
     "execution_count": 93,
     "metadata": {},
     "output_type": "execute_result"
    }
   ],
   "source": [
    "type(txt)"
   ]
  },
  {
   "cell_type": "code",
   "execution_count": 92,
   "metadata": {
    "collapsed": false
   },
   "outputs": [
    {
     "data": {
      "text/plain": [
       "[['Python', 'is', 'one'],\n",
       " ['is', 'one', 'of'],\n",
       " ['one', 'of', 'the'],\n",
       " ['of', 'the', 'awesomest'],\n",
       " ['the', 'awesomest', 'languages']]"
      ]
     },
     "execution_count": 92,
     "metadata": {},
     "output_type": "execute_result"
    }
   ],
   "source": [
    "trigram = ngrams(txt.split(), n=3)\n",
    "list(trigram)"
   ]
  },
  {
   "cell_type": "code",
   "execution_count": null,
   "metadata": {
    "collapsed": true
   },
   "outputs": [],
   "source": [
    "# li=[['Python', 'is', 'one'], ['is', 'one', 'of'], ['one', 'of', 'the'], ['of', 'the', 'awesomest'], ['the', 'awesomest',\n",
    "# 'languages']]"
   ]
  },
  {
   "cell_type": "code",
   "execution_count": 184,
   "metadata": {
    "collapsed": false
   },
   "outputs": [
    {
     "name": "stdout",
     "output_type": "stream",
     "text": [
      "[WordList(['Python', 'is', 'one']), WordList(['is', 'one', 'is']), WordList(['one', 'is', 'python'])]\n"
     ]
    }
   ],
   "source": [
    "from textblob import TextBlob\n",
    "text = \"Python is one is python\"\n",
    "blob = TextBlob(text)\n",
    "tri = blob.ngrams(n=3)\n",
    "print(tri)"
   ]
  },
  {
   "cell_type": "code",
   "execution_count": 185,
   "metadata": {
    "collapsed": false,
    "scrolled": true
   },
   "outputs": [
    {
     "name": "stdout",
     "output_type": "stream",
     "text": [
      "[WordList(['Python', 'is', 'one', 'is']), WordList(['is', 'one', 'is', 'python'])]\n"
     ]
    }
   ],
   "source": [
    "from textblob import TextBlob\n",
    "text = \"Python is one is python\"\n",
    "blob = TextBlob(text)\n",
    "four = blob.ngrams(n=4)\n",
    "print(four)"
   ]
  },
  {
   "cell_type": "code",
   "execution_count": 203,
   "metadata": {
    "collapsed": false
   },
   "outputs": [],
   "source": [
    "tri_gram_df = pd.DataFrame({'Tri_Gram':tri_gram})\n"
   ]
  },
  {
   "cell_type": "code",
   "execution_count": 205,
   "metadata": {
    "collapsed": true
   },
   "outputs": [],
   "source": [
    "four_gram_df = pd.DataFrame({'Four_Gram':four_gram})"
   ]
  },
  {
   "cell_type": "code",
   "execution_count": 204,
   "metadata": {
    "collapsed": false
   },
   "outputs": [
    {
     "data": {
      "text/html": [
       "<div>\n",
       "<table border=\"1\" class=\"dataframe\">\n",
       "  <thead>\n",
       "    <tr style=\"text-align: right;\">\n",
       "      <th></th>\n",
       "      <th>Tri_Gram</th>\n",
       "    </tr>\n",
       "  </thead>\n",
       "  <tbody>\n",
       "    <tr>\n",
       "      <th>0</th>\n",
       "      <td>[[alert, priority, trickle], [priority, trickl...</td>\n",
       "    </tr>\n",
       "    <tr>\n",
       "      <th>1</th>\n",
       "      <td>[[alert, priority, back], [priority, back, off...</td>\n",
       "    </tr>\n",
       "    <tr>\n",
       "      <th>2</th>\n",
       "      <td>[[alert, priority, xps], [priority, xps, servi...</td>\n",
       "    </tr>\n",
       "    <tr>\n",
       "      <th>3</th>\n",
       "      <td>[[alert, priority, xps], [priority, xps, servi...</td>\n",
       "    </tr>\n",
       "    <tr>\n",
       "      <th>4</th>\n",
       "      <td>[[alert, priority, xps], [priority, xps, servi...</td>\n",
       "    </tr>\n",
       "  </tbody>\n",
       "</table>\n",
       "</div>"
      ],
      "text/plain": [
       "                                            Tri_Gram\n",
       "0  [[alert, priority, trickle], [priority, trickl...\n",
       "1  [[alert, priority, back], [priority, back, off...\n",
       "2  [[alert, priority, xps], [priority, xps, servi...\n",
       "3  [[alert, priority, xps], [priority, xps, servi...\n",
       "4  [[alert, priority, xps], [priority, xps, servi..."
      ]
     },
     "execution_count": 204,
     "metadata": {},
     "output_type": "execute_result"
    }
   ],
   "source": [
    "tri_gram_df.head()"
   ]
  },
  {
   "cell_type": "code",
   "execution_count": 210,
   "metadata": {
    "collapsed": false
   },
   "outputs": [
    {
     "data": {
      "text/html": [
       "<div>\n",
       "<table border=\"1\" class=\"dataframe\">\n",
       "  <thead>\n",
       "    <tr style=\"text-align: right;\">\n",
       "      <th></th>\n",
       "      <th>Four_Gram</th>\n",
       "    </tr>\n",
       "  </thead>\n",
       "  <tbody>\n",
       "    <tr>\n",
       "      <th>0</th>\n",
       "      <td>[[alert, priority, trickle, files], [priority,...</td>\n",
       "    </tr>\n",
       "    <tr>\n",
       "      <th>1</th>\n",
       "      <td>[[alert, priority, back, office], [priority, b...</td>\n",
       "    </tr>\n",
       "    <tr>\n",
       "      <th>2</th>\n",
       "      <td>[[alert, priority, xps, service], [priority, x...</td>\n",
       "    </tr>\n",
       "    <tr>\n",
       "      <th>3</th>\n",
       "      <td>[[alert, priority, xps, service], [priority, x...</td>\n",
       "    </tr>\n",
       "    <tr>\n",
       "      <th>4</th>\n",
       "      <td>[[alert, priority, xps, service], [priority, x...</td>\n",
       "    </tr>\n",
       "  </tbody>\n",
       "</table>\n",
       "</div>"
      ],
      "text/plain": [
       "                                           Four_Gram\n",
       "0  [[alert, priority, trickle, files], [priority,...\n",
       "1  [[alert, priority, back, office], [priority, b...\n",
       "2  [[alert, priority, xps, service], [priority, x...\n",
       "3  [[alert, priority, xps, service], [priority, x...\n",
       "4  [[alert, priority, xps, service], [priority, x..."
      ]
     },
     "execution_count": 210,
     "metadata": {},
     "output_type": "execute_result"
    }
   ],
   "source": [
    "four_gram_df.head()"
   ]
  },
  {
   "cell_type": "raw",
   "metadata": {
    "collapsed": false
   },
   "source": []
  },
  {
   "cell_type": "code",
   "execution_count": null,
   "metadata": {
    "collapsed": true
   },
   "outputs": [],
   "source": []
  },
  {
   "cell_type": "code",
   "execution_count": null,
   "metadata": {
    "collapsed": true
   },
   "outputs": [],
   "source": []
  },
  {
   "cell_type": "code",
   "execution_count": null,
   "metadata": {
    "collapsed": true
   },
   "outputs": [],
   "source": []
  },
  {
   "cell_type": "code",
   "execution_count": 48,
   "metadata": {
    "collapsed": false
   },
   "outputs": [
    {
     "name": "stderr",
     "output_type": "stream",
     "text": [
      "C:\\Anaconda3\\lib\\site-packages\\gensim\\utils.py:1197: UserWarning: detected Windows; aliasing chunkize to chunkize_serial\n",
      "  warnings.warn(\"detected Windows; aliasing chunkize to chunkize_serial\")\n"
     ]
    }
   ],
   "source": [
    "from gensim import corpora\n",
    "tokenized_sents= ticket_df.values.tolist()\n",
    "texts = [[i for i in doc.split()] for doc in tokenized_sents]\n",
    "\n",
    "dictionary = corpora.Dictionary(texts)"
   ]
  },
  {
   "cell_type": "code",
   "execution_count": 49,
   "metadata": {
    "collapsed": false
   },
   "outputs": [
    {
     "name": "stdout",
     "output_type": "stream",
     "text": [
      "Dictionary(296 unique tokens: ['gonzalez', 'physically', 'retrieve', 'receive', 'count']...)\n"
     ]
    }
   ],
   "source": [
    "print(dictionary)"
   ]
  },
  {
   "cell_type": "code",
   "execution_count": 50,
   "metadata": {
    "collapsed": false
   },
   "outputs": [
    {
     "name": "stdout",
     "output_type": "stream",
     "text": [
      "gonzalez\n",
      "physically\n",
      "retrieve\n",
      "receive\n",
      "count\n",
      "low\n",
      "part\n",
      "backup\n",
      "screen\n",
      "noise\n",
      "connection\n",
      "critical\n",
      "receipt\n",
      "loss\n",
      "validation\n",
      "surface\n",
      "web\n",
      "vigil\n",
      "prod\n",
      "cashout\n",
      "key\n",
      "payroll\n",
      "sunday\n",
      "sign\n",
      "lasodbbp\n",
      "back\n",
      "close\n",
      "scanner\n",
      "need\n",
      "learn\n",
      "conflict\n",
      "txsbw\n",
      "multiple\n",
      "check\n",
      "transaction\n",
      "sam\n",
      "week\n",
      "line\n",
      "tax\n",
      "onboarding\n",
      "rate\n",
      "odm\n",
      "punch\n",
      "application\n",
      "slow\n",
      "employee\n",
      "amount\n",
      "xpress\n",
      "window\n",
      "work\n",
      "liquid\n",
      "clock\n",
      "latmapvp\n",
      "priority\n",
      "information\n",
      "system\n",
      "space\n",
      "recall\n",
      "able\n",
      "payment\n",
      "dbs\n",
      "account\n",
      "unit\n",
      "gift\n",
      "maintenance\n",
      "address\n",
      "course\n",
      "display\n",
      "eod\n",
      "ping\n",
      "computer\n",
      "error\n",
      "behalf\n",
      "active\n",
      "label\n",
      "unload\n",
      "cashdrawer\n",
      "customer\n",
      "down\n",
      "show\n",
      "money\n",
      "drop\n",
      "pricing\n",
      "incorrectly\n",
      "daily\n",
      "send\n",
      "elearn\n",
      "dynakey\n",
      "job\n",
      "server\n",
      "upc\n",
      "agent\n",
      "day\n",
      "memory\n",
      "utilization\n",
      "hsir\n",
      "pay\n",
      "pinpad\n",
      "holder\n",
      "network\n",
      "jedi\n",
      "cable\n",
      "freeze\n",
      "serve\n",
      "unlock\n",
      "cashier\n",
      "schedule\n",
      "unable\n",
      "cash\n",
      "pin\n",
      "frozen\n",
      "app\n",
      "period\n",
      "regwarn\n",
      "reg\n",
      "monitor\n",
      "shift\n",
      "electronic\n",
      "ana\n",
      "internet\n",
      "assistance\n",
      "change\n",
      "multifunction\n",
      "confirm\n",
      "cartridge\n",
      "first\n",
      "business\n",
      "eft\n",
      "request\n",
      "informational\n",
      "timeclock\n",
      "status\n",
      "record\n",
      "print\n",
      "incorrect\n",
      "ebt\n",
      "fist\n",
      "damage\n",
      "katy\n",
      "sap\n",
      "call\n",
      "user\n",
      "corporate\n",
      "form\n",
      "total\n",
      "printing\n",
      "last\n",
      "break\n",
      "outage\n",
      "complete\n",
      "stocker\n",
      "failure\n",
      "sql\n",
      "opening\n",
      "laeptnbp\n",
      "time\n",
      "dsd\n",
      "lock\n",
      "term\n",
      "report\n",
      "run\n",
      "currently\n",
      "order\n",
      "replacement\n",
      "please\n",
      "scanning\n",
      "finish\n",
      "password\n",
      "headset\n",
      "serious\n",
      "expire\n",
      "pad\n",
      "site\n",
      "drive\n",
      "inpick\n",
      "miss\n",
      "ink\n",
      "manager\n",
      "camera\n",
      "video\n",
      "find\n",
      "correct\n",
      "azdmdbvp\n",
      "question\n",
      "dayforce\n",
      "fax\n",
      "outlook\n",
      "asm\n",
      "latmdbpd\n",
      "directory\n",
      "stop\n",
      "warn\n",
      "stock\n",
      "mssqlserver\n",
      "file\n",
      "casrg\n",
      "hire\n",
      "reset\n",
      "log\n",
      "loading\n",
      "set\n",
      "constantly\n",
      "service\n",
      "permission\n",
      "load\n",
      "primary\n",
      "trickle\n",
      "phone\n",
      "posdm\n",
      "item\n",
      "offline\n",
      "microphone\n",
      "front\n",
      "ncr\n",
      "effective\n",
      "xps\n",
      "ktmsdbdv\n",
      "office\n",
      "make\n",
      "can\n",
      "working\n",
      "price\n",
      "open\n",
      "issue\n",
      "board\n",
      "contractor\n",
      "transfer\n",
      "closeout\n",
      "respond\n",
      "signal\n",
      "link\n",
      "message\n",
      "txsrg\n",
      "highjump\n",
      "disk\n",
      "desktop\n",
      "download\n",
      "datum\n",
      "register\n",
      "production\n",
      "storage\n",
      "all\n",
      "detach\n",
      "vocollect\n",
      "rest\n",
      "store\n",
      "pos\n",
      "update\n",
      "ism\n",
      "card\n",
      "alert\n",
      "former\n",
      "truck\n",
      "the\n",
      "access\n",
      "talent\n",
      "cpu\n",
      "take\n",
      "power\n",
      "how\n",
      "turn\n",
      "accuterm\n",
      "miscellaneous\n",
      "connect\n",
      "scale\n",
      "printer\n",
      "not\n",
      "process\n",
      "email\n",
      "scan\n",
      "client\n",
      "website\n",
      "tellermate\n",
      "help\n",
      "ceridian\n",
      "fail\n",
      "stick\n",
      "get\n",
      "toner\n",
      "laotdbbp\n",
      "gun\n",
      "new\n",
      "scrap\n",
      "for\n",
      "perform\n",
      "drawer\n",
      "scrpat\n",
      "physical\n",
      "workstation\n",
      "stuck\n",
      "tape\n",
      "prior\n",
      "less\n",
      "responding\n",
      "sale\n",
      "lead\n"
     ]
    }
   ],
   "source": [
    "for words in dictionary.values():\n",
    "    print(words)"
   ]
  },
  {
   "cell_type": "code",
   "execution_count": 51,
   "metadata": {
    "collapsed": true
   },
   "outputs": [],
   "source": [
    "import pandas as pd\n",
    "\n",
    "(pd.DataFrame.from_dict(data=dictionary, orient='index')\n",
    "   .to_csv('dict_file.csv', header=False))"
   ]
  },
  {
   "cell_type": "code",
   "execution_count": null,
   "metadata": {
    "collapsed": true
   },
   "outputs": [],
   "source": []
  }
 ],
 "metadata": {
  "anaconda-cloud": {},
  "kernelspec": {
   "display_name": "Python [Anaconda3]",
   "language": "python",
   "name": "Python [Anaconda3]"
  },
  "language_info": {
   "codemirror_mode": {
    "name": "ipython",
    "version": 3
   },
   "file_extension": ".py",
   "mimetype": "text/x-python",
   "name": "python",
   "nbconvert_exporter": "python",
   "pygments_lexer": "ipython3",
   "version": "3.5.2"
  }
 },
 "nbformat": 4,
 "nbformat_minor": 0
}
