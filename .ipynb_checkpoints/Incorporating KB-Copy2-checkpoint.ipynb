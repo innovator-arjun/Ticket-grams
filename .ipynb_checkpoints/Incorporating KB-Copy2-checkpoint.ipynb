{
 "cells": [
  {
   "cell_type": "code",
   "execution_count": 42,
   "metadata": {
    "collapsed": true
   },
   "outputs": [],
   "source": [
    "import os\n",
    "import pandas as pd\n",
    "\n",
    "import matplotlib.pyplot as plt\n",
    "%matplotlib inline\n",
    "import seaborn as sns\n",
    "\n",
    "from nltk.tokenize import RegexpTokenizer\n",
    "import re"
   ]
  },
  {
   "cell_type": "code",
   "execution_count": 43,
   "metadata": {
    "collapsed": false
   },
   "outputs": [
    {
     "data": {
      "text/plain": [
       "['bigrams.csv',\n",
       " 'CIandSI_Test1.xlsx',\n",
       " 'dict_file.csv',\n",
       " 'Diff_words.csv',\n",
       " 'final words.csv',\n",
       " 'sample_words.txtdic',\n",
       " 'ticket_df_with_bigram.csv']"
      ]
     },
     "execution_count": 43,
     "metadata": {},
     "output_type": "execute_result"
    }
   ],
   "source": [
    "#pointing the source and listing the file names under that path\n",
    "path = os.chdir('C://Users//ar393556//Documents//Ticket grams//sample')\n",
    "files = os.listdir(path)\n",
    "files"
   ]
  },
  {
   "cell_type": "code",
   "execution_count": 44,
   "metadata": {
    "collapsed": false
   },
   "outputs": [
    {
     "data": {
      "text/plain": [
       "['CIandSI_Test1.xlsx']"
      ]
     },
     "execution_count": 44,
     "metadata": {},
     "output_type": "execute_result"
    }
   ],
   "source": [
    "#Fetching only xlsx files\n",
    "files_xls = [f for f in files if f[-4:] == 'xlsx']\n",
    "files_xls"
   ]
  },
  {
   "cell_type": "code",
   "execution_count": 45,
   "metadata": {
    "collapsed": false
   },
   "outputs": [],
   "source": [
    "df = pd.DataFrame()\n",
    "\n",
    "#Reading the files and appending the data in the DataFrame format\n",
    "for f in files_xls:\n",
    "    data = pd.read_excel(f,sheet_name='CI-Data')\n",
    "    df = df.append(data)"
   ]
  },
  {
   "cell_type": "code",
   "execution_count": 46,
   "metadata": {
    "collapsed": false
   },
   "outputs": [],
   "source": [
    "#Taking only TicketID and Summary which are essential\n",
    "\n",
    "ticket_df_full = pd.DataFrame(df, columns= ['TicketID','Summary'])\n",
    "\n",
    "ticket_df=ticket_df_full[['TicketID','Summary']]\n",
    "\n",
    "#no. of records and columns\n",
    "ticket_df.shape\n",
    "\n",
    "#Dropping null/blank records\n",
    "ticket_df=ticket_df.dropna()"
   ]
  },
  {
   "cell_type": "code",
   "execution_count": 47,
   "metadata": {
    "collapsed": false
   },
   "outputs": [
    {
     "data": {
      "text/plain": [
       "(2561, 2)"
      ]
     },
     "execution_count": 47,
     "metadata": {},
     "output_type": "execute_result"
    }
   ],
   "source": [
    "#New table data shape\n",
    "ticket_df.shape"
   ]
  },
  {
   "cell_type": "code",
   "execution_count": 48,
   "metadata": {
    "collapsed": false
   },
   "outputs": [
    {
     "data": {
      "text/html": [
       "<div>\n",
       "<table border=\"1\" class=\"dataframe\">\n",
       "  <thead>\n",
       "    <tr style=\"text-align: right;\">\n",
       "      <th></th>\n",
       "      <th>TicketID</th>\n",
       "      <th>Summary</th>\n",
       "    </tr>\n",
       "  </thead>\n",
       "  <tbody>\n",
       "    <tr>\n",
       "      <th>0</th>\n",
       "      <td>543244</td>\n",
       "      <td>Class bandwidth Allocation</td>\n",
       "    </tr>\n",
       "    <tr>\n",
       "      <th>1</th>\n",
       "      <td>675379</td>\n",
       "      <td>Classification change</td>\n",
       "    </tr>\n",
       "    <tr>\n",
       "      <th>2</th>\n",
       "      <td>1077865</td>\n",
       "      <td>client latop – office 365 , not working</td>\n",
       "    </tr>\n",
       "    <tr>\n",
       "      <th>3</th>\n",
       "      <td>1018957</td>\n",
       "      <td>Client Mail box needs to be configure in outlook</td>\n",
       "    </tr>\n",
       "    <tr>\n",
       "      <th>4</th>\n",
       "      <td>801584</td>\n",
       "      <td>Client need to install software</td>\n",
       "    </tr>\n",
       "  </tbody>\n",
       "</table>\n",
       "</div>"
      ],
      "text/plain": [
       "   TicketID                                           Summary\n",
       "0    543244                        Class bandwidth Allocation\n",
       "1    675379                             Classification change\n",
       "2   1077865           client latop – office 365 , not working\n",
       "3   1018957  Client Mail box needs to be configure in outlook\n",
       "4    801584                   Client need to install software"
      ]
     },
     "execution_count": 48,
     "metadata": {},
     "output_type": "execute_result"
    }
   ],
   "source": [
    "ticket_df.head()"
   ]
  },
  {
   "cell_type": "code",
   "execution_count": 49,
   "metadata": {
    "collapsed": true
   },
   "outputs": [],
   "source": [
    "ticket_df['unclean']=ticket_df['Summary']"
   ]
  },
  {
   "cell_type": "code",
   "execution_count": 50,
   "metadata": {
    "collapsed": false
   },
   "outputs": [
    {
     "data": {
      "text/html": [
       "<div>\n",
       "<table border=\"1\" class=\"dataframe\">\n",
       "  <thead>\n",
       "    <tr style=\"text-align: right;\">\n",
       "      <th></th>\n",
       "      <th>TicketID</th>\n",
       "      <th>Summary</th>\n",
       "      <th>unclean</th>\n",
       "    </tr>\n",
       "  </thead>\n",
       "  <tbody>\n",
       "    <tr>\n",
       "      <th>0</th>\n",
       "      <td>543244</td>\n",
       "      <td>Class bandwidth Allocation</td>\n",
       "      <td>Class bandwidth Allocation</td>\n",
       "    </tr>\n",
       "    <tr>\n",
       "      <th>1</th>\n",
       "      <td>675379</td>\n",
       "      <td>Classification change</td>\n",
       "      <td>Classification change</td>\n",
       "    </tr>\n",
       "    <tr>\n",
       "      <th>2</th>\n",
       "      <td>1077865</td>\n",
       "      <td>client latop – office 365 , not working</td>\n",
       "      <td>client latop – office 365 , not working</td>\n",
       "    </tr>\n",
       "    <tr>\n",
       "      <th>3</th>\n",
       "      <td>1018957</td>\n",
       "      <td>Client Mail box needs to be configure in outlook</td>\n",
       "      <td>Client Mail box needs to be configure in outlook</td>\n",
       "    </tr>\n",
       "    <tr>\n",
       "      <th>4</th>\n",
       "      <td>801584</td>\n",
       "      <td>Client need to install software</td>\n",
       "      <td>Client need to install software</td>\n",
       "    </tr>\n",
       "  </tbody>\n",
       "</table>\n",
       "</div>"
      ],
      "text/plain": [
       "   TicketID                                           Summary  \\\n",
       "0    543244                        Class bandwidth Allocation   \n",
       "1    675379                             Classification change   \n",
       "2   1077865           client latop – office 365 , not working   \n",
       "3   1018957  Client Mail box needs to be configure in outlook   \n",
       "4    801584                   Client need to install software   \n",
       "\n",
       "                                            unclean  \n",
       "0                        Class bandwidth Allocation  \n",
       "1                             Classification change  \n",
       "2           client latop – office 365 , not working  \n",
       "3  Client Mail box needs to be configure in outlook  \n",
       "4                   Client need to install software  "
      ]
     },
     "execution_count": 50,
     "metadata": {},
     "output_type": "execute_result"
    }
   ],
   "source": [
    "ticket_df.head()"
   ]
  },
  {
   "cell_type": "code",
   "execution_count": 51,
   "metadata": {
    "collapsed": false
   },
   "outputs": [],
   "source": [
    "# knowledge_base=pd.read_csv('dict_file.csv')"
   ]
  },
  {
   "cell_type": "code",
   "execution_count": 52,
   "metadata": {
    "collapsed": false
   },
   "outputs": [],
   "source": [
    "# knowledge_base=knowledge_base['Words']"
   ]
  },
  {
   "cell_type": "code",
   "execution_count": 53,
   "metadata": {
    "collapsed": false
   },
   "outputs": [],
   "source": [
    "# knowledge_base=knowledge_base.tolist()"
   ]
  },
  {
   "cell_type": "code",
   "execution_count": 54,
   "metadata": {
    "collapsed": false
   },
   "outputs": [],
   "source": [
    "# len(knowledge_base)"
   ]
  },
  {
   "cell_type": "code",
   "execution_count": 55,
   "metadata": {
    "collapsed": false
   },
   "outputs": [],
   "source": [
    "# To remove punchuation, numbers and converting the string to lower\n",
    "ticket_df['Summary'] = ticket_df['Summary'].str.lower().str.replace(r'[^a-z\\s]', '')\n"
   ]
  },
  {
   "cell_type": "code",
   "execution_count": 56,
   "metadata": {
    "collapsed": false
   },
   "outputs": [
    {
     "data": {
      "text/html": [
       "<div>\n",
       "<table border=\"1\" class=\"dataframe\">\n",
       "  <thead>\n",
       "    <tr style=\"text-align: right;\">\n",
       "      <th></th>\n",
       "      <th>TicketID</th>\n",
       "      <th>Summary</th>\n",
       "      <th>unclean</th>\n",
       "    </tr>\n",
       "  </thead>\n",
       "  <tbody>\n",
       "    <tr>\n",
       "      <th>0</th>\n",
       "      <td>543244</td>\n",
       "      <td>class bandwidth allocation</td>\n",
       "      <td>Class bandwidth Allocation</td>\n",
       "    </tr>\n",
       "    <tr>\n",
       "      <th>1</th>\n",
       "      <td>675379</td>\n",
       "      <td>classification change</td>\n",
       "      <td>Classification change</td>\n",
       "    </tr>\n",
       "    <tr>\n",
       "      <th>2</th>\n",
       "      <td>1077865</td>\n",
       "      <td>client latop  office   not working</td>\n",
       "      <td>client latop – office 365 , not working</td>\n",
       "    </tr>\n",
       "    <tr>\n",
       "      <th>3</th>\n",
       "      <td>1018957</td>\n",
       "      <td>client mail box needs to be configure in outlook</td>\n",
       "      <td>Client Mail box needs to be configure in outlook</td>\n",
       "    </tr>\n",
       "    <tr>\n",
       "      <th>4</th>\n",
       "      <td>801584</td>\n",
       "      <td>client need to install software</td>\n",
       "      <td>Client need to install software</td>\n",
       "    </tr>\n",
       "  </tbody>\n",
       "</table>\n",
       "</div>"
      ],
      "text/plain": [
       "   TicketID                                           Summary  \\\n",
       "0    543244                        class bandwidth allocation   \n",
       "1    675379                             classification change   \n",
       "2   1077865                client latop  office   not working   \n",
       "3   1018957  client mail box needs to be configure in outlook   \n",
       "4    801584                   client need to install software   \n",
       "\n",
       "                                            unclean  \n",
       "0                        Class bandwidth Allocation  \n",
       "1                             Classification change  \n",
       "2           client latop – office 365 , not working  \n",
       "3  Client Mail box needs to be configure in outlook  \n",
       "4                   Client need to install software  "
      ]
     },
     "execution_count": 56,
     "metadata": {},
     "output_type": "execute_result"
    }
   ],
   "source": [
    "ticket_df.head()    "
   ]
  },
  {
   "cell_type": "code",
   "execution_count": 57,
   "metadata": {
    "collapsed": true
   },
   "outputs": [],
   "source": [
    "import spacy\n",
    "nlp=spacy.load('en_core_web_sm')"
   ]
  },
  {
   "cell_type": "code",
   "execution_count": 58,
   "metadata": {
    "collapsed": true
   },
   "outputs": [],
   "source": [
    "# ticket_df= ticket_df.apply(lambda row: \" \".join([w.lemma_ for w in nlp(row)]))"
   ]
  },
  {
   "cell_type": "code",
   "execution_count": 59,
   "metadata": {
    "collapsed": false
   },
   "outputs": [],
   "source": [
    "# from nltk.corpus import stopwords\n",
    "# # stop_words = stopwords.words('english')\n",
    "# len(stop_words)"
   ]
  },
  {
   "cell_type": "code",
   "execution_count": 60,
   "metadata": {
    "collapsed": false
   },
   "outputs": [],
   "source": [
    "#print(nlp.Defaults.stop_words)"
   ]
  },
  {
   "cell_type": "code",
   "execution_count": 61,
   "metadata": {
    "collapsed": false
   },
   "outputs": [],
   "source": [
    "nlp.Defaults.stop_words.add('thanks')\n",
    "nlp.Defaults.stop_words.add('please')\n",
    "nlp.Defaults.stop_words.add('team')\n",
    "nlp.Defaults.stop_words.add('dear')\n",
    "nlp.Defaults.stop_words.add('hi')"
   ]
  },
  {
   "cell_type": "code",
   "execution_count": 62,
   "metadata": {
    "collapsed": false
   },
   "outputs": [
    {
     "ename": "KeyError",
     "evalue": "'not'",
     "output_type": "error",
     "traceback": [
      "\u001b[1;31m---------------------------------------------------------------------------\u001b[0m",
      "\u001b[1;31mKeyError\u001b[0m                                  Traceback (most recent call last)",
      "\u001b[1;32m<ipython-input-62-40411a0e944f>\u001b[0m in \u001b[0;36m<module>\u001b[1;34m()\u001b[0m\n\u001b[1;32m----> 1\u001b[1;33m \u001b[0mnlp\u001b[0m\u001b[1;33m.\u001b[0m\u001b[0mDefaults\u001b[0m\u001b[1;33m.\u001b[0m\u001b[0mstop_words\u001b[0m\u001b[1;33m.\u001b[0m\u001b[0mremove\u001b[0m\u001b[1;33m(\u001b[0m\u001b[1;34m'not'\u001b[0m\u001b[1;33m)\u001b[0m\u001b[1;33m\u001b[0m\u001b[0m\n\u001b[0m\u001b[0;32m      2\u001b[0m \u001b[0mnlp\u001b[0m\u001b[1;33m.\u001b[0m\u001b[0mDefaults\u001b[0m\u001b[1;33m.\u001b[0m\u001b[0mstop_words\u001b[0m\u001b[1;33m.\u001b[0m\u001b[0mremove\u001b[0m\u001b[1;33m(\u001b[0m\u001b[1;34m'cannot'\u001b[0m\u001b[1;33m)\u001b[0m\u001b[1;33m\u001b[0m\u001b[0m\n\u001b[0;32m      3\u001b[0m \u001b[0mnlp\u001b[0m\u001b[1;33m.\u001b[0m\u001b[0mDefaults\u001b[0m\u001b[1;33m.\u001b[0m\u001b[0mstop_words\u001b[0m\u001b[1;33m.\u001b[0m\u001b[0mremove\u001b[0m\u001b[1;33m(\u001b[0m\u001b[1;34m'nothing'\u001b[0m\u001b[1;33m)\u001b[0m\u001b[1;33m\u001b[0m\u001b[0m\n",
      "\u001b[1;31mKeyError\u001b[0m: 'not'"
     ]
    }
   ],
   "source": [
    "nlp.Defaults.stop_words.remove('not')\n",
    "nlp.Defaults.stop_words.remove('cannot')\n",
    "nlp.Defaults.stop_words.remove('nothing')"
   ]
  },
  {
   "cell_type": "code",
   "execution_count": null,
   "metadata": {
    "collapsed": true
   },
   "outputs": [],
   "source": [
    "stop_words=nlp.Defaults.stop_words"
   ]
  },
  {
   "cell_type": "code",
   "execution_count": null,
   "metadata": {
    "collapsed": true
   },
   "outputs": [],
   "source": []
  },
  {
   "cell_type": "code",
   "execution_count": null,
   "metadata": {
    "collapsed": false
   },
   "outputs": [],
   "source": [
    "# stop_words=stopword"
   ]
  },
  {
   "cell_type": "code",
   "execution_count": null,
   "metadata": {
    "collapsed": false
   },
   "outputs": [],
   "source": [
    "\n",
    "\n",
    "# new_stopwords = ['thanks','please','team','dear']\n",
    "# new_stopwords_list = stop_words.update(new_stopwords)\n",
    "# not_stopwords = {'not'} \n",
    "# final_stop_words = set([word for word in new_stopwords_list if word not in not_stopwords])\n",
    "\n",
    "\n",
    "ticket_df['Summary'] = ticket_df['Summary'].apply(lambda x: \" \".join(x for x in x.split() if x not in stop_words))"
   ]
  },
  {
   "cell_type": "code",
   "execution_count": null,
   "metadata": {
    "collapsed": false
   },
   "outputs": [],
   "source": [
    "# ticket_df.head()"
   ]
  },
  {
   "cell_type": "code",
   "execution_count": null,
   "metadata": {
    "collapsed": true
   },
   "outputs": [],
   "source": [
    "# freq = pd.Series(' '.join(ticket_df).split()).value_counts()\n",
    "# imp_words=freq[freq<2]"
   ]
  },
  {
   "cell_type": "code",
   "execution_count": 63,
   "metadata": {
    "collapsed": true
   },
   "outputs": [],
   "source": [
    "# freq = list(imp_words.index)\n",
    "# ticket_df['Summary'] = ticket_df['Summary'].apply(lambda x: \" \".join(x for x in x.split() if x not in freq))"
   ]
  },
  {
   "cell_type": "code",
   "execution_count": 64,
   "metadata": {
    "collapsed": true
   },
   "outputs": [],
   "source": [
    "ticket_df['Summary'] = ticket_df['Summary'].apply(lambda x: \" \".join(x for x in x.split() if len(x)>=2 and len(x)<15))"
   ]
  },
  {
   "cell_type": "code",
   "execution_count": 65,
   "metadata": {
    "collapsed": true
   },
   "outputs": [],
   "source": [
    "ticket_df['Summary']= ticket_df['Summary'].apply(lambda row: \" \".join([w.lemma_ for w in nlp(row)]))"
   ]
  },
  {
   "cell_type": "code",
   "execution_count": null,
   "metadata": {
    "collapsed": true
   },
   "outputs": [],
   "source": []
  },
  {
   "cell_type": "code",
   "execution_count": null,
   "metadata": {
    "collapsed": true
   },
   "outputs": [],
   "source": []
  },
  {
   "cell_type": "code",
   "execution_count": null,
   "metadata": {
    "collapsed": true
   },
   "outputs": [],
   "source": []
  },
  {
   "cell_type": "code",
   "execution_count": 399,
   "metadata": {
    "collapsed": false
   },
   "outputs": [],
   "source": [
    "# knowledge_base = list(knowledge_base)\n",
    "# ticket_df['Summary'] = ticket_df['Summary'].apply(lambda x: \" \".join(x for x in x.split() if x in knowledge_base))"
   ]
  },
  {
   "cell_type": "code",
   "execution_count": 66,
   "metadata": {
    "collapsed": false
   },
   "outputs": [
    {
     "data": {
      "text/html": [
       "<div>\n",
       "<table border=\"1\" class=\"dataframe\">\n",
       "  <thead>\n",
       "    <tr style=\"text-align: right;\">\n",
       "      <th></th>\n",
       "      <th>TicketID</th>\n",
       "      <th>Summary</th>\n",
       "      <th>unclean</th>\n",
       "    </tr>\n",
       "  </thead>\n",
       "  <tbody>\n",
       "    <tr>\n",
       "      <th>0</th>\n",
       "      <td>543244</td>\n",
       "      <td>class bandwidth allocation</td>\n",
       "      <td>Class bandwidth Allocation</td>\n",
       "    </tr>\n",
       "    <tr>\n",
       "      <th>1</th>\n",
       "      <td>675379</td>\n",
       "      <td>classification change</td>\n",
       "      <td>Classification change</td>\n",
       "    </tr>\n",
       "    <tr>\n",
       "      <th>2</th>\n",
       "      <td>1077865</td>\n",
       "      <td>client latop office not work</td>\n",
       "      <td>client latop – office 365 , not working</td>\n",
       "    </tr>\n",
       "    <tr>\n",
       "      <th>3</th>\n",
       "      <td>1018957</td>\n",
       "      <td>client mail box need to be configure in outlook</td>\n",
       "      <td>Client Mail box needs to be configure in outlook</td>\n",
       "    </tr>\n",
       "    <tr>\n",
       "      <th>4</th>\n",
       "      <td>801584</td>\n",
       "      <td>client need to install software</td>\n",
       "      <td>Client need to install software</td>\n",
       "    </tr>\n",
       "    <tr>\n",
       "      <th>5</th>\n",
       "      <td>1051754</td>\n",
       "      <td>client vpn issue</td>\n",
       "      <td>Client VPN issue</td>\n",
       "    </tr>\n",
       "    <tr>\n",
       "      <th>6</th>\n",
       "      <td>1170038</td>\n",
       "      <td>cm raise</td>\n",
       "      <td>cm # 30202 raised</td>\n",
       "    </tr>\n",
       "    <tr>\n",
       "      <th>7</th>\n",
       "      <td>938538</td>\n",
       "      <td>cmd error popup</td>\n",
       "      <td>CMD Error popup</td>\n",
       "    </tr>\n",
       "    <tr>\n",
       "      <th>8</th>\n",
       "      <td>726914</td>\n",
       "      <td>cmf sit</td>\n",
       "      <td>CMF SIT</td>\n",
       "    </tr>\n",
       "    <tr>\n",
       "      <th>9</th>\n",
       "      <td>899330</td>\n",
       "      <td>cmf sit request to check ip clash with wt</td>\n",
       "      <td>CMF SIT request to check IP clash with WT</td>\n",
       "    </tr>\n",
       "    <tr>\n",
       "      <th>10</th>\n",
       "      <td>393203</td>\n",
       "      <td>cmr for travel class</td>\n",
       "      <td>CMR implkementation for K2 travel class.</td>\n",
       "    </tr>\n",
       "    <tr>\n",
       "      <th>11</th>\n",
       "      <td>829973</td>\n",
       "      <td>cmr need to be raise for the below requirement...</td>\n",
       "      <td>CMR need to be raised for the below requiremen...</td>\n",
       "    </tr>\n",
       "    <tr>\n",
       "      <th>12</th>\n",
       "      <td>565693</td>\n",
       "      <td>cmr need to be raise for the below requirement...</td>\n",
       "      <td>CMR need to be raised for the below requiremen...</td>\n",
       "    </tr>\n",
       "    <tr>\n",
       "      <th>13</th>\n",
       "      <td>524202</td>\n",
       "      <td>cmr need to be raise for the below requirement...</td>\n",
       "      <td>CMR need to be raised for the below requiremen...</td>\n",
       "    </tr>\n",
       "    <tr>\n",
       "      <th>14</th>\n",
       "      <td>602403</td>\n",
       "      <td>cmr need to be raise for the below requirement...</td>\n",
       "      <td>CMR need to be raised for the below requiremen...</td>\n",
       "    </tr>\n",
       "    <tr>\n",
       "      <th>15</th>\n",
       "      <td>627653</td>\n",
       "      <td>cmr impelematation</td>\n",
       "      <td>CMR# Impelematation.</td>\n",
       "    </tr>\n",
       "    <tr>\n",
       "      <th>16</th>\n",
       "      <td>627641</td>\n",
       "      <td>cmr</td>\n",
       "      <td>CMR#2515</td>\n",
       "    </tr>\n",
       "    <tr>\n",
       "      <th>17</th>\n",
       "      <td>530180</td>\n",
       "      <td>cneed to configure</td>\n",
       "      <td>cNeed to configure O365</td>\n",
       "    </tr>\n",
       "    <tr>\n",
       "      <th>18</th>\n",
       "      <td>483488</td>\n",
       "      <td>coach project device installation</td>\n",
       "      <td>Coach project device installation</td>\n",
       "    </tr>\n",
       "    <tr>\n",
       "      <th>19</th>\n",
       "      <td>505188</td>\n",
       "      <td>colour printer issue</td>\n",
       "      <td>Colour Printer Issue.</td>\n",
       "    </tr>\n",
       "  </tbody>\n",
       "</table>\n",
       "</div>"
      ],
      "text/plain": [
       "    TicketID                                            Summary  \\\n",
       "0     543244                         class bandwidth allocation   \n",
       "1     675379                              classification change   \n",
       "2    1077865                       client latop office not work   \n",
       "3    1018957    client mail box need to be configure in outlook   \n",
       "4     801584                    client need to install software   \n",
       "5    1051754                                   client vpn issue   \n",
       "6    1170038                                           cm raise   \n",
       "7     938538                                    cmd error popup   \n",
       "8     726914                                            cmf sit   \n",
       "9     899330          cmf sit request to check ip clash with wt   \n",
       "10    393203                               cmr for travel class   \n",
       "11    829973  cmr need to be raise for the below requirement...   \n",
       "12    565693  cmr need to be raise for the below requirement...   \n",
       "13    524202  cmr need to be raise for the below requirement...   \n",
       "14    602403  cmr need to be raise for the below requirement...   \n",
       "15    627653                                 cmr impelematation   \n",
       "16    627641                                                cmr   \n",
       "17    530180                                 cneed to configure   \n",
       "18    483488                  coach project device installation   \n",
       "19    505188                               colour printer issue   \n",
       "\n",
       "                                              unclean  \n",
       "0                          Class bandwidth Allocation  \n",
       "1                               Classification change  \n",
       "2             client latop – office 365 , not working  \n",
       "3    Client Mail box needs to be configure in outlook  \n",
       "4                     Client need to install software  \n",
       "5                                    Client VPN issue  \n",
       "6                                   cm # 30202 raised  \n",
       "7                                     CMD Error popup  \n",
       "8                                             CMF SIT  \n",
       "9           CMF SIT request to check IP clash with WT  \n",
       "10           CMR implkementation for K2 travel class.  \n",
       "11  CMR need to be raised for the below requiremen...  \n",
       "12  CMR need to be raised for the below requiremen...  \n",
       "13  CMR need to be raised for the below requiremen...  \n",
       "14  CMR need to be raised for the below requiremen...  \n",
       "15                               CMR# Impelematation.  \n",
       "16                                           CMR#2515  \n",
       "17                            cNeed to configure O365  \n",
       "18                  Coach project device installation  \n",
       "19                              Colour Printer Issue.  "
      ]
     },
     "execution_count": 66,
     "metadata": {},
     "output_type": "execute_result"
    }
   ],
   "source": [
    "ticket_df.head(20)"
   ]
  },
  {
   "cell_type": "code",
   "execution_count": null,
   "metadata": {
    "collapsed": true
   },
   "outputs": [],
   "source": []
  },
  {
   "cell_type": "code",
   "execution_count": 67,
   "metadata": {
    "collapsed": false
   },
   "outputs": [],
   "source": [
    "# ticket_df.to_csv('final words.csv')"
   ]
  },
  {
   "cell_type": "code",
   "execution_count": 68,
   "metadata": {
    "collapsed": false
   },
   "outputs": [],
   "source": [
    "import collections\n",
    "bi=collections.Counter()\n",
    "for i in ticket_df['Summary']:\n",
    "    x = i.rstrip().split(\" \")\n",
    "    bi.update(set(zip(x[:-1],x[1:])))"
   ]
  },
  {
   "cell_type": "code",
   "execution_count": 69,
   "metadata": {
    "collapsed": false
   },
   "outputs": [],
   "source": [
    "# type(bi)"
   ]
  },
  {
   "cell_type": "code",
   "execution_count": 70,
   "metadata": {
    "collapsed": false
   },
   "outputs": [],
   "source": [
    "bigram_counter = pd.DataFrame.from_dict(bi, orient='index')"
   ]
  },
  {
   "cell_type": "code",
   "execution_count": 28,
   "metadata": {
    "collapsed": false
   },
   "outputs": [],
   "source": [
    "# bigram_counter= bigram_counter.sort_values(by =0, ascending=False)"
   ]
  },
  {
   "cell_type": "code",
   "execution_count": 71,
   "metadata": {
    "collapsed": false,
    "scrolled": true
   },
   "outputs": [
    {
     "data": {
      "text/html": [
       "<div>\n",
       "<table border=\"1\" class=\"dataframe\">\n",
       "  <thead>\n",
       "    <tr style=\"text-align: right;\">\n",
       "      <th></th>\n",
       "      <th>0</th>\n",
       "    </tr>\n",
       "  </thead>\n",
       "  <tbody>\n",
       "    <tr>\n",
       "      <th>(the, proxy)</th>\n",
       "      <td>1</td>\n",
       "    </tr>\n",
       "    <tr>\n",
       "      <th>(while, access)</th>\n",
       "      <td>2</td>\n",
       "    </tr>\n",
       "    <tr>\n",
       "      <th>(user, be)</th>\n",
       "      <td>12</td>\n",
       "    </tr>\n",
       "    <tr>\n",
       "      <th>(hmala, password)</th>\n",
       "      <td>1</td>\n",
       "    </tr>\n",
       "    <tr>\n",
       "      <th>(network, slownesswe)</th>\n",
       "      <td>1</td>\n",
       "    </tr>\n",
       "  </tbody>\n",
       "</table>\n",
       "</div>"
      ],
      "text/plain": [
       "                        0\n",
       "(the, proxy)            1\n",
       "(while, access)         2\n",
       "(user, be)             12\n",
       "(hmala, password)       1\n",
       "(network, slownesswe)   1"
      ]
     },
     "execution_count": 71,
     "metadata": {},
     "output_type": "execute_result"
    }
   ],
   "source": [
    "bigram_counter.head()"
   ]
  },
  {
   "cell_type": "code",
   "execution_count": 72,
   "metadata": {
    "collapsed": false
   },
   "outputs": [],
   "source": [
    "bigram_counter.to_csv('bigrams.csv')"
   ]
  },
  {
   "cell_type": "code",
   "execution_count": 73,
   "metadata": {
    "collapsed": false
   },
   "outputs": [],
   "source": [
    "bigram_df=pd.read_csv('bigrams.csv',index_col=False)"
   ]
  },
  {
   "cell_type": "code",
   "execution_count": 74,
   "metadata": {
    "collapsed": false,
    "scrolled": true
   },
   "outputs": [
    {
     "data": {
      "text/html": [
       "<div>\n",
       "<table border=\"1\" class=\"dataframe\">\n",
       "  <thead>\n",
       "    <tr style=\"text-align: right;\">\n",
       "      <th></th>\n",
       "      <th>Unnamed: 0</th>\n",
       "      <th>0</th>\n",
       "    </tr>\n",
       "  </thead>\n",
       "  <tbody>\n",
       "    <tr>\n",
       "      <th>0</th>\n",
       "      <td>('the', 'proxy')</td>\n",
       "      <td>1</td>\n",
       "    </tr>\n",
       "    <tr>\n",
       "      <th>1</th>\n",
       "      <td>('while', 'access')</td>\n",
       "      <td>2</td>\n",
       "    </tr>\n",
       "    <tr>\n",
       "      <th>2</th>\n",
       "      <td>('user', 'be')</td>\n",
       "      <td>12</td>\n",
       "    </tr>\n",
       "    <tr>\n",
       "      <th>3</th>\n",
       "      <td>('hmala', 'password')</td>\n",
       "      <td>1</td>\n",
       "    </tr>\n",
       "    <tr>\n",
       "      <th>4</th>\n",
       "      <td>('network', 'slownesswe')</td>\n",
       "      <td>1</td>\n",
       "    </tr>\n",
       "  </tbody>\n",
       "</table>\n",
       "</div>"
      ],
      "text/plain": [
       "                  Unnamed: 0   0\n",
       "0           ('the', 'proxy')   1\n",
       "1        ('while', 'access')   2\n",
       "2             ('user', 'be')  12\n",
       "3      ('hmala', 'password')   1\n",
       "4  ('network', 'slownesswe')   1"
      ]
     },
     "execution_count": 74,
     "metadata": {},
     "output_type": "execute_result"
    }
   ],
   "source": [
    "bigram_df.head()"
   ]
  },
  {
   "cell_type": "code",
   "execution_count": 75,
   "metadata": {
    "collapsed": false
   },
   "outputs": [],
   "source": [
    "bigram_df['Unnamed: 0'] = bigram_df['Unnamed: 0'].str.lower().str.replace(r'[^a-z\\s]', '')\n"
   ]
  },
  {
   "cell_type": "code",
   "execution_count": 76,
   "metadata": {
    "collapsed": false,
    "scrolled": true
   },
   "outputs": [],
   "source": [
    "dict_bigram=bigram_df.set_index('Unnamed: 0')['0'].to_dict()"
   ]
  },
  {
   "cell_type": "code",
   "execution_count": null,
   "metadata": {
    "collapsed": false
   },
   "outputs": [],
   "source": []
  },
  {
   "cell_type": "code",
   "execution_count": 460,
   "metadata": {
    "collapsed": false
   },
   "outputs": [],
   "source": [
    "# lis = ['client mail', 'mail box', 'box needs', 'needs configure', 'configure outlook']\n",
    "# n = {k: dict_bigram[k] for k in lis if k in dict_bigram}\n",
    "# print(n)\n",
    "# print(max(n, key=n.get))"
   ]
  },
  {
   "cell_type": "code",
   "execution_count": null,
   "metadata": {
    "collapsed": false,
    "scrolled": true
   },
   "outputs": [],
   "source": []
  },
  {
   "cell_type": "code",
   "execution_count": null,
   "metadata": {
    "collapsed": false
   },
   "outputs": [],
   "source": []
  },
  {
   "cell_type": "code",
   "execution_count": null,
   "metadata": {
    "collapsed": false
   },
   "outputs": [],
   "source": []
  },
  {
   "cell_type": "code",
   "execution_count": null,
   "metadata": {
    "collapsed": false
   },
   "outputs": [],
   "source": []
  },
  {
   "cell_type": "code",
   "execution_count": 34,
   "metadata": {
    "collapsed": false
   },
   "outputs": [],
   "source": [
    "from nltk.tokenize import word_tokenize\n",
    "from nltk.util import ngrams\n",
    "\n",
    "def get_ngrams(text, n ):\n",
    "    n_grams = ngrams(word_tokenize(text), n)\n",
    "    return [ ' '.join(grams) for grams in n_grams]"
   ]
  },
  {
   "cell_type": "code",
   "execution_count": null,
   "metadata": {
    "collapsed": false
   },
   "outputs": [],
   "source": []
  },
  {
   "cell_type": "code",
   "execution_count": 37,
   "metadata": {
    "collapsed": false
   },
   "outputs": [],
   "source": [
    "from past.builtins import xrange\n",
    "\n",
    "def top_grams(N):\n",
    "    res_bigram=[]\n",
    "    for text in ticket_df['Summary']:\n",
    "        comp_list=get_ngrams(text,N)\n",
    "        n = {k: dict_bigram[k] for k in comp_list if k in dict_bigram}\n",
    "        flag=bool(n)\n",
    "        res=''\n",
    "        if flag==True:\n",
    "            res=max(n, key=n.get)\n",
    "        else:\n",
    "            res='No Pattern'\n",
    "        res_bigram.append(res)"
   ]
  },
  {
   "cell_type": "code",
   "execution_count": 38,
   "metadata": {
    "collapsed": false
   },
   "outputs": [
    {
     "data": {
      "text/plain": [
       "2561"
      ]
     },
     "execution_count": 38,
     "metadata": {},
     "output_type": "execute_result"
    }
   ],
   "source": [
    "len(res_bigram)"
   ]
  },
  {
   "cell_type": "code",
   "execution_count": 39,
   "metadata": {
    "collapsed": false
   },
   "outputs": [],
   "source": [
    "top_grams(2)\n",
    "ticket_df['Top2Grams']=pd.DataFrame({'Top2Grams':res_bigram})"
   ]
  },
  {
   "cell_type": "code",
   "execution_count": 40,
   "metadata": {
    "collapsed": true
   },
   "outputs": [],
   "source": [
    "top_grams(3)\n",
    "ticket_df['Top3Grams']=pd.DataFrame({'Top3Grams':res_bigram})"
   ]
  },
  {
   "cell_type": "code",
   "execution_count": null,
   "metadata": {
    "collapsed": true
   },
   "outputs": [],
   "source": []
  },
  {
   "cell_type": "code",
   "execution_count": 466,
   "metadata": {
    "collapsed": false
   },
   "outputs": [],
   "source": [
    "ticket_df.to_csv('ticket_df_with_bigram.csv')"
   ]
  },
  {
   "cell_type": "code",
   "execution_count": 41,
   "metadata": {
    "collapsed": false
   },
   "outputs": [
    {
     "data": {
      "text/html": [
       "<div>\n",
       "<table border=\"1\" class=\"dataframe\">\n",
       "  <thead>\n",
       "    <tr style=\"text-align: right;\">\n",
       "      <th></th>\n",
       "      <th>TicketID</th>\n",
       "      <th>Summary</th>\n",
       "      <th>unclean</th>\n",
       "      <th>Top2Grams</th>\n",
       "      <th>Top3Grams</th>\n",
       "    </tr>\n",
       "  </thead>\n",
       "  <tbody>\n",
       "    <tr>\n",
       "      <th>0</th>\n",
       "      <td>543244</td>\n",
       "      <td>class bandwidth allocation</td>\n",
       "      <td>Class bandwidth Allocation</td>\n",
       "      <td>bandwidth allocation</td>\n",
       "      <td>bandwidth allocation</td>\n",
       "    </tr>\n",
       "    <tr>\n",
       "      <th>1</th>\n",
       "      <td>675379</td>\n",
       "      <td>classification change</td>\n",
       "      <td>Classification change</td>\n",
       "      <td>classification change</td>\n",
       "      <td>classification change</td>\n",
       "    </tr>\n",
       "    <tr>\n",
       "      <th>2</th>\n",
       "      <td>1077865</td>\n",
       "      <td>client latop office not work</td>\n",
       "      <td>client latop – office 365 , not working</td>\n",
       "      <td>not work</td>\n",
       "      <td>not work</td>\n",
       "    </tr>\n",
       "    <tr>\n",
       "      <th>3</th>\n",
       "      <td>1018957</td>\n",
       "      <td>client mail box need configure outlook</td>\n",
       "      <td>Client Mail box needs to be configure in outlook</td>\n",
       "      <td>need configure</td>\n",
       "      <td>need configure</td>\n",
       "    </tr>\n",
       "    <tr>\n",
       "      <th>4</th>\n",
       "      <td>801584</td>\n",
       "      <td>client need install software</td>\n",
       "      <td>Client need to install software</td>\n",
       "      <td>install software</td>\n",
       "      <td>install software</td>\n",
       "    </tr>\n",
       "    <tr>\n",
       "      <th>5</th>\n",
       "      <td>1051754</td>\n",
       "      <td>client vpn issue</td>\n",
       "      <td>Client VPN issue</td>\n",
       "      <td>vpn issue</td>\n",
       "      <td>vpn issue</td>\n",
       "    </tr>\n",
       "    <tr>\n",
       "      <th>6</th>\n",
       "      <td>1170038</td>\n",
       "      <td>cm raise</td>\n",
       "      <td>cm # 30202 raised</td>\n",
       "      <td>cm raise</td>\n",
       "      <td>cm raise</td>\n",
       "    </tr>\n",
       "    <tr>\n",
       "      <th>7</th>\n",
       "      <td>938538</td>\n",
       "      <td>cmd error popup</td>\n",
       "      <td>CMD Error popup</td>\n",
       "      <td>error popup</td>\n",
       "      <td>error popup</td>\n",
       "    </tr>\n",
       "    <tr>\n",
       "      <th>8</th>\n",
       "      <td>726914</td>\n",
       "      <td>cmf sit</td>\n",
       "      <td>CMF SIT</td>\n",
       "      <td>cmf sit</td>\n",
       "      <td>cmf sit</td>\n",
       "    </tr>\n",
       "    <tr>\n",
       "      <th>9</th>\n",
       "      <td>899330</td>\n",
       "      <td>cmf sit request check ip clash wt</td>\n",
       "      <td>CMF SIT request to check IP clash with WT</td>\n",
       "      <td>cmf sit</td>\n",
       "      <td>cmf sit</td>\n",
       "    </tr>\n",
       "    <tr>\n",
       "      <th>10</th>\n",
       "      <td>393203</td>\n",
       "      <td>cmr travel class</td>\n",
       "      <td>CMR implkementation for K2 travel class.</td>\n",
       "      <td>travel class</td>\n",
       "      <td>travel class</td>\n",
       "    </tr>\n",
       "    <tr>\n",
       "      <th>11</th>\n",
       "      <td>829973</td>\n",
       "      <td>cmr need raise requirement description</td>\n",
       "      <td>CMR need to be raised for the below requiremen...</td>\n",
       "      <td>raise requirement</td>\n",
       "      <td>raise requirement</td>\n",
       "    </tr>\n",
       "    <tr>\n",
       "      <th>12</th>\n",
       "      <td>565693</td>\n",
       "      <td>cmr need raise requirement description</td>\n",
       "      <td>CMR need to be raised for the below requiremen...</td>\n",
       "      <td>raise requirement</td>\n",
       "      <td>raise requirement</td>\n",
       "    </tr>\n",
       "    <tr>\n",
       "      <th>13</th>\n",
       "      <td>524202</td>\n",
       "      <td>cmr need raise requirement description</td>\n",
       "      <td>CMR need to be raised for the below requiremen...</td>\n",
       "      <td>raise requirement</td>\n",
       "      <td>raise requirement</td>\n",
       "    </tr>\n",
       "    <tr>\n",
       "      <th>14</th>\n",
       "      <td>602403</td>\n",
       "      <td>cmr need raise requirement description</td>\n",
       "      <td>CMR need to be raised for the below requiremen...</td>\n",
       "      <td>raise requirement</td>\n",
       "      <td>raise requirement</td>\n",
       "    </tr>\n",
       "    <tr>\n",
       "      <th>15</th>\n",
       "      <td>627653</td>\n",
       "      <td>cmr impelematation</td>\n",
       "      <td>CMR# Impelematation.</td>\n",
       "      <td>cmr impelematation</td>\n",
       "      <td>cmr impelematation</td>\n",
       "    </tr>\n",
       "    <tr>\n",
       "      <th>16</th>\n",
       "      <td>627641</td>\n",
       "      <td>cmr</td>\n",
       "      <td>CMR#2515</td>\n",
       "      <td>No Pattern</td>\n",
       "      <td>No Pattern</td>\n",
       "    </tr>\n",
       "    <tr>\n",
       "      <th>17</th>\n",
       "      <td>530180</td>\n",
       "      <td>cneed configure</td>\n",
       "      <td>cNeed to configure O365</td>\n",
       "      <td>cneed configure</td>\n",
       "      <td>cneed configure</td>\n",
       "    </tr>\n",
       "    <tr>\n",
       "      <th>18</th>\n",
       "      <td>483488</td>\n",
       "      <td>coach project device installation</td>\n",
       "      <td>Coach project device installation</td>\n",
       "      <td>coach project</td>\n",
       "      <td>coach project</td>\n",
       "    </tr>\n",
       "    <tr>\n",
       "      <th>19</th>\n",
       "      <td>505188</td>\n",
       "      <td>colour printer issue</td>\n",
       "      <td>Colour Printer Issue.</td>\n",
       "      <td>colour printer</td>\n",
       "      <td>colour printer</td>\n",
       "    </tr>\n",
       "    <tr>\n",
       "      <th>20</th>\n",
       "      <td>465447</td>\n",
       "      <td>colour print attention</td>\n",
       "      <td>Coloured Printed Attention</td>\n",
       "      <td>colour print</td>\n",
       "      <td>colour print</td>\n",
       "    </tr>\n",
       "    <tr>\n",
       "      <th>21</th>\n",
       "      <td>466210</td>\n",
       "      <td>colour printer check</td>\n",
       "      <td>Coloured printer check</td>\n",
       "      <td>colour printer</td>\n",
       "      <td>colour printer</td>\n",
       "    </tr>\n",
       "    <tr>\n",
       "      <th>22</th>\n",
       "      <td>433005</td>\n",
       "      <td>commit bw netsuite mb mb confirm</td>\n",
       "      <td>Committed BW for NetSuite from 1 MB to 3 MB an...</td>\n",
       "      <td>mb mb</td>\n",
       "      <td>mb mb</td>\n",
       "    </tr>\n",
       "    <tr>\n",
       "      <th>23</th>\n",
       "      <td>635110</td>\n",
       "      <td>computer closing</td>\n",
       "      <td>Computer closing down</td>\n",
       "      <td>computer closing</td>\n",
       "      <td>computer closing</td>\n",
       "    </tr>\n",
       "    <tr>\n",
       "      <th>24</th>\n",
       "      <td>19156</td>\n",
       "      <td>not work segment sa location</td>\n",
       "      <td>comtrac.wipro.com is not working for 10.195.0....</td>\n",
       "      <td>not work</td>\n",
       "      <td>not work</td>\n",
       "    </tr>\n",
       "    <tr>\n",
       "      <th>25</th>\n",
       "      <td>689473</td>\n",
       "      <td>conference need join kdc tjx slow ness issue pm</td>\n",
       "      <td>Conference call needs to be joined for KDC TJX...</td>\n",
       "      <td>ness issue</td>\n",
       "      <td>ness issue</td>\n",
       "    </tr>\n",
       "    <tr>\n",
       "      <th>26</th>\n",
       "      <td>573192</td>\n",
       "      <td>configuration softvoip laptop</td>\n",
       "      <td>configuration of softvoip in laptop</td>\n",
       "      <td>configuration softvoip</td>\n",
       "      <td>configuration softvoip</td>\n",
       "    </tr>\n",
       "    <tr>\n",
       "      <th>27</th>\n",
       "      <td>510381</td>\n",
       "      <td>configure multicast broadcast cdc vtp switch e...</td>\n",
       "      <td>Configure  multicast &amp; broadcast in CDC 5 VTP ...</td>\n",
       "      <td>vtp switch</td>\n",
       "      <td>vtp switch</td>\n",
       "    </tr>\n",
       "    <tr>\n",
       "      <th>28</th>\n",
       "      <td>486145</td>\n",
       "      <td>configure log sap vpn</td>\n",
       "      <td>configure Logging to SAP from VPN</td>\n",
       "      <td>configure log</td>\n",
       "      <td>configure log</td>\n",
       "    </tr>\n",
       "    <tr>\n",
       "      <th>29</th>\n",
       "      <td>622937</td>\n",
       "      <td>configure new laptop</td>\n",
       "      <td>Configure new laptop</td>\n",
       "      <td>new laptop</td>\n",
       "      <td>new laptop</td>\n",
       "    </tr>\n",
       "    <tr>\n",
       "      <th>...</th>\n",
       "      <td>...</td>\n",
       "      <td>...</td>\n",
       "      <td>...</td>\n",
       "      <td>...</td>\n",
       "      <td>...</td>\n",
       "    </tr>\n",
       "    <tr>\n",
       "      <th>2531</th>\n",
       "      <td>695979</td>\n",
       "      <td>need add pst file</td>\n",
       "      <td>Need to add the PST file</td>\n",
       "      <td>need add</td>\n",
       "      <td>need add</td>\n",
       "    </tr>\n",
       "    <tr>\n",
       "      <th>2532</th>\n",
       "      <td>687439</td>\n",
       "      <td>need add pst file</td>\n",
       "      <td>Need to add the PST file</td>\n",
       "      <td>need add</td>\n",
       "      <td>need add</td>\n",
       "    </tr>\n",
       "    <tr>\n",
       "      <th>2533</th>\n",
       "      <td>581003</td>\n",
       "      <td>need add pst file</td>\n",
       "      <td>Need to add the pst file</td>\n",
       "      <td>need add</td>\n",
       "      <td>need add</td>\n",
       "    </tr>\n",
       "    <tr>\n",
       "      <th>2534</th>\n",
       "      <td>618168</td>\n",
       "      <td>need add pst file</td>\n",
       "      <td>Need to add the PST file</td>\n",
       "      <td>need add</td>\n",
       "      <td>need add</td>\n",
       "    </tr>\n",
       "    <tr>\n",
       "      <th>2535</th>\n",
       "      <td>751390</td>\n",
       "      <td>need add pst file outlook</td>\n",
       "      <td>Need to add the PST file in outlook</td>\n",
       "      <td>need add</td>\n",
       "      <td>need add</td>\n",
       "    </tr>\n",
       "    <tr>\n",
       "      <th>2536</th>\n",
       "      <td>961208</td>\n",
       "      <td>need add pst file</td>\n",
       "      <td>Need to add the pst files in O365</td>\n",
       "      <td>need add</td>\n",
       "      <td>need add</td>\n",
       "    </tr>\n",
       "    <tr>\n",
       "      <th>2537</th>\n",
       "      <td>16100</td>\n",
       "      <td>need add pst file</td>\n",
       "      <td>Need to add the PST files in O365</td>\n",
       "      <td>need add</td>\n",
       "      <td>need add</td>\n",
       "    </tr>\n",
       "    <tr>\n",
       "      <th>2538</th>\n",
       "      <td>957368</td>\n",
       "      <td>need add pst file</td>\n",
       "      <td>Need to add the PST files in O365</td>\n",
       "      <td>need add</td>\n",
       "      <td>need add</td>\n",
       "    </tr>\n",
       "    <tr>\n",
       "      <th>2539</th>\n",
       "      <td>676427</td>\n",
       "      <td>need add pst file outlook</td>\n",
       "      <td>Need to add the pst files in outlook</td>\n",
       "      <td>need add</td>\n",
       "      <td>need add</td>\n",
       "    </tr>\n",
       "    <tr>\n",
       "      <th>2540</th>\n",
       "      <td>725386</td>\n",
       "      <td>need add user -PRON- would debug list uninstal...</td>\n",
       "      <td>Need to add the user ID in Debug list to unins...</td>\n",
       "      <td>need add</td>\n",
       "      <td>need add</td>\n",
       "    </tr>\n",
       "    <tr>\n",
       "      <th>2541</th>\n",
       "      <td>758745</td>\n",
       "      <td>need add user -PRON- would ou min unlock</td>\n",
       "      <td>Need to add user ID in OU for 2 min unlock</td>\n",
       "      <td>need add</td>\n",
       "      <td>need add</td>\n",
       "    </tr>\n",
       "    <tr>\n",
       "      <th>2542</th>\n",
       "      <td>1035488</td>\n",
       "      <td>need add user wipro domain</td>\n",
       "      <td>Need to add user in wipro domain</td>\n",
       "      <td>need add</td>\n",
       "      <td>need add</td>\n",
       "    </tr>\n",
       "    <tr>\n",
       "      <th>2543</th>\n",
       "      <td>889876</td>\n",
       "      <td>need add user wipro domain</td>\n",
       "      <td>Need to add user to wipro domain</td>\n",
       "      <td>need add</td>\n",
       "      <td>need add</td>\n",
       "    </tr>\n",
       "    <tr>\n",
       "      <th>2544</th>\n",
       "      <td>430122</td>\n",
       "      <td>need advertise schwab wifi segment router</td>\n",
       "      <td>Need to advertise the schwab Wifi segment on A...</td>\n",
       "      <td>segment router</td>\n",
       "      <td>segment router</td>\n",
       "    </tr>\n",
       "    <tr>\n",
       "      <th>2545</th>\n",
       "      <td>505266</td>\n",
       "      <td>need allocate ip segment maxi ss ec</td>\n",
       "      <td>Need to allocate IP segment for Maxis S2S from...</td>\n",
       "      <td>ip segment</td>\n",
       "      <td>ip segment</td>\n",
       "    </tr>\n",
       "    <tr>\n",
       "      <th>2546</th>\n",
       "      <td>505274</td>\n",
       "      <td>need allow access allow ec pasa firewall</td>\n",
       "      <td>Need to allow below access allowed in EC PASA ...</td>\n",
       "      <td>allow access</td>\n",
       "      <td>allow access</td>\n",
       "    </tr>\n",
       "    <tr>\n",
       "      <th>2547</th>\n",
       "      <td>627677</td>\n",
       "      <td>need allow access ec internet firewall share b...</td>\n",
       "      <td>Need to allow the access in EC Internet firewa...</td>\n",
       "      <td>allow access</td>\n",
       "      <td>allow access</td>\n",
       "    </tr>\n",
       "    <tr>\n",
       "      <th>2548</th>\n",
       "      <td>937838</td>\n",
       "      <td>need allow access walmart firewall</td>\n",
       "      <td>Need to allow the below access is walmart fire...</td>\n",
       "      <td>allow access</td>\n",
       "      <td>allow access</td>\n",
       "    </tr>\n",
       "    <tr>\n",
       "      <th>2549</th>\n",
       "      <td>718850</td>\n",
       "      <td>need allow destination access vpn</td>\n",
       "      <td>Need to allow the below destination to access vpn</td>\n",
       "      <td>need allow</td>\n",
       "      <td>need allow</td>\n",
       "    </tr>\n",
       "    <tr>\n",
       "      <th>2550</th>\n",
       "      <td>842540</td>\n",
       "      <td>ne allow scanner ip citi device</td>\n",
       "      <td>Need to allow the CA scanner ip Citi device</td>\n",
       "      <td>ne allow</td>\n",
       "      <td>ne allow</td>\n",
       "    </tr>\n",
       "    <tr>\n",
       "      <th>2551</th>\n",
       "      <td>634368</td>\n",
       "      <td>ne allow wipro backbone server access odc fire...</td>\n",
       "      <td>Need to allow Wipro Backbone server access at ...</td>\n",
       "      <td>ne allow</td>\n",
       "      <td>ne allow</td>\n",
       "    </tr>\n",
       "    <tr>\n",
       "      <th>2552</th>\n",
       "      <td>630735</td>\n",
       "      <td>need bind mac address schwab ec</td>\n",
       "      <td>Need to bind the mac address on schwab @ EC</td>\n",
       "      <td>mac address</td>\n",
       "      <td>mac address</td>\n",
       "    </tr>\n",
       "    <tr>\n",
       "      <th>2553</th>\n",
       "      <td>798293</td>\n",
       "      <td>need bind mac address schwab ec</td>\n",
       "      <td>Need to bind the mac address on schwab @ EC</td>\n",
       "      <td>mac address</td>\n",
       "      <td>mac address</td>\n",
       "    </tr>\n",
       "    <tr>\n",
       "      <th>2554</th>\n",
       "      <td>907391</td>\n",
       "      <td>need bind mac address schwab ec</td>\n",
       "      <td>Need to bind the mac address on schwab @ EC</td>\n",
       "      <td>mac address</td>\n",
       "      <td>mac address</td>\n",
       "    </tr>\n",
       "    <tr>\n",
       "      <th>2555</th>\n",
       "      <td>759409</td>\n",
       "      <td>need bind mac address schwab ec</td>\n",
       "      <td>Need to bind the mac address on schwab @ EC</td>\n",
       "      <td>mac address</td>\n",
       "      <td>mac address</td>\n",
       "    </tr>\n",
       "    <tr>\n",
       "      <th>2556</th>\n",
       "      <td>803493</td>\n",
       "      <td>need bind mac address schwab ec</td>\n",
       "      <td>Need to bind the mac address on schwab @ EC</td>\n",
       "      <td>mac address</td>\n",
       "      <td>mac address</td>\n",
       "    </tr>\n",
       "    <tr>\n",
       "      <th>2557</th>\n",
       "      <td>431839</td>\n",
       "      <td>need bind mac address schwab ec</td>\n",
       "      <td>Need to bind the mac address on schwab @ EC</td>\n",
       "      <td>mac address</td>\n",
       "      <td>mac address</td>\n",
       "    </tr>\n",
       "    <tr>\n",
       "      <th>2558</th>\n",
       "      <td>896847</td>\n",
       "      <td>need bind mac address schwab sjp</td>\n",
       "      <td>Need to bind the mac address on schwab @ SJP</td>\n",
       "      <td>mac address</td>\n",
       "      <td>mac address</td>\n",
       "    </tr>\n",
       "    <tr>\n",
       "      <th>2559</th>\n",
       "      <td>619910</td>\n",
       "      <td>need bind mac address schwab sjp</td>\n",
       "      <td>Need to bind the mac address on schwab @ SJP</td>\n",
       "      <td>mac address</td>\n",
       "      <td>mac address</td>\n",
       "    </tr>\n",
       "    <tr>\n",
       "      <th>2560</th>\n",
       "      <td>796602</td>\n",
       "      <td>need bit lokcer encryption key</td>\n",
       "      <td>Need to Bit lokcer encryption key</td>\n",
       "      <td>need bit</td>\n",
       "      <td>need bit</td>\n",
       "    </tr>\n",
       "  </tbody>\n",
       "</table>\n",
       "<p>2561 rows × 5 columns</p>\n",
       "</div>"
      ],
      "text/plain": [
       "      TicketID                                            Summary  \\\n",
       "0       543244                         class bandwidth allocation   \n",
       "1       675379                              classification change   \n",
       "2      1077865                       client latop office not work   \n",
       "3      1018957             client mail box need configure outlook   \n",
       "4       801584                       client need install software   \n",
       "5      1051754                                   client vpn issue   \n",
       "6      1170038                                           cm raise   \n",
       "7       938538                                    cmd error popup   \n",
       "8       726914                                            cmf sit   \n",
       "9       899330                  cmf sit request check ip clash wt   \n",
       "10      393203                                   cmr travel class   \n",
       "11      829973             cmr need raise requirement description   \n",
       "12      565693             cmr need raise requirement description   \n",
       "13      524202             cmr need raise requirement description   \n",
       "14      602403             cmr need raise requirement description   \n",
       "15      627653                                 cmr impelematation   \n",
       "16      627641                                                cmr   \n",
       "17      530180                                    cneed configure   \n",
       "18      483488                  coach project device installation   \n",
       "19      505188                               colour printer issue   \n",
       "20      465447                             colour print attention   \n",
       "21      466210                               colour printer check   \n",
       "22      433005                   commit bw netsuite mb mb confirm   \n",
       "23      635110                                   computer closing   \n",
       "24       19156                       not work segment sa location   \n",
       "25      689473    conference need join kdc tjx slow ness issue pm   \n",
       "26      573192                      configuration softvoip laptop   \n",
       "27      510381  configure multicast broadcast cdc vtp switch e...   \n",
       "28      486145                              configure log sap vpn   \n",
       "29      622937                               configure new laptop   \n",
       "...        ...                                                ...   \n",
       "2531    695979                                  need add pst file   \n",
       "2532    687439                                  need add pst file   \n",
       "2533    581003                                  need add pst file   \n",
       "2534    618168                                  need add pst file   \n",
       "2535    751390                          need add pst file outlook   \n",
       "2536    961208                                  need add pst file   \n",
       "2537     16100                                  need add pst file   \n",
       "2538    957368                                  need add pst file   \n",
       "2539    676427                          need add pst file outlook   \n",
       "2540    725386  need add user -PRON- would debug list uninstal...   \n",
       "2541    758745           need add user -PRON- would ou min unlock   \n",
       "2542   1035488                         need add user wipro domain   \n",
       "2543    889876                         need add user wipro domain   \n",
       "2544    430122          need advertise schwab wifi segment router   \n",
       "2545    505266                need allocate ip segment maxi ss ec   \n",
       "2546    505274           need allow access allow ec pasa firewall   \n",
       "2547    627677  need allow access ec internet firewall share b...   \n",
       "2548    937838                 need allow access walmart firewall   \n",
       "2549    718850                  need allow destination access vpn   \n",
       "2550    842540                    ne allow scanner ip citi device   \n",
       "2551    634368  ne allow wipro backbone server access odc fire...   \n",
       "2552    630735                    need bind mac address schwab ec   \n",
       "2553    798293                    need bind mac address schwab ec   \n",
       "2554    907391                    need bind mac address schwab ec   \n",
       "2555    759409                    need bind mac address schwab ec   \n",
       "2556    803493                    need bind mac address schwab ec   \n",
       "2557    431839                    need bind mac address schwab ec   \n",
       "2558    896847                   need bind mac address schwab sjp   \n",
       "2559    619910                   need bind mac address schwab sjp   \n",
       "2560    796602                     need bit lokcer encryption key   \n",
       "\n",
       "                                                unclean  \\\n",
       "0                            Class bandwidth Allocation   \n",
       "1                                 Classification change   \n",
       "2               client latop – office 365 , not working   \n",
       "3      Client Mail box needs to be configure in outlook   \n",
       "4                       Client need to install software   \n",
       "5                                      Client VPN issue   \n",
       "6                                     cm # 30202 raised   \n",
       "7                                       CMD Error popup   \n",
       "8                                               CMF SIT   \n",
       "9             CMF SIT request to check IP clash with WT   \n",
       "10             CMR implkementation for K2 travel class.   \n",
       "11    CMR need to be raised for the below requiremen...   \n",
       "12    CMR need to be raised for the below requiremen...   \n",
       "13    CMR need to be raised for the below requiremen...   \n",
       "14    CMR need to be raised for the below requiremen...   \n",
       "15                                 CMR# Impelematation.   \n",
       "16                                             CMR#2515   \n",
       "17                              cNeed to configure O365   \n",
       "18                    Coach project device installation   \n",
       "19                                Colour Printer Issue.   \n",
       "20                           Coloured Printed Attention   \n",
       "21                               Coloured printer check   \n",
       "22    Committed BW for NetSuite from 1 MB to 3 MB an...   \n",
       "23                                Computer closing down   \n",
       "24    comtrac.wipro.com is not working for 10.195.0....   \n",
       "25    Conference call needs to be joined for KDC TJX...   \n",
       "26                  configuration of softvoip in laptop   \n",
       "27    Configure  multicast & broadcast in CDC 5 VTP ...   \n",
       "28                    configure Logging to SAP from VPN   \n",
       "29                                 Configure new laptop   \n",
       "...                                                 ...   \n",
       "2531                           Need to add the PST file   \n",
       "2532                           Need to add the PST file   \n",
       "2533                           Need to add the pst file   \n",
       "2534                           Need to add the PST file   \n",
       "2535                Need to add the PST file in outlook   \n",
       "2536                  Need to add the pst files in O365   \n",
       "2537                  Need to add the PST files in O365   \n",
       "2538                  Need to add the PST files in O365   \n",
       "2539               Need to add the pst files in outlook   \n",
       "2540  Need to add the user ID in Debug list to unins...   \n",
       "2541         Need to add user ID in OU for 2 min unlock   \n",
       "2542                   Need to add user in wipro domain   \n",
       "2543                   Need to add user to wipro domain   \n",
       "2544  Need to advertise the schwab Wifi segment on A...   \n",
       "2545  Need to allocate IP segment for Maxis S2S from...   \n",
       "2546  Need to allow below access allowed in EC PASA ...   \n",
       "2547  Need to allow the access in EC Internet firewa...   \n",
       "2548  Need to allow the below access is walmart fire...   \n",
       "2549  Need to allow the below destination to access vpn   \n",
       "2550        Need to allow the CA scanner ip Citi device   \n",
       "2551  Need to allow Wipro Backbone server access at ...   \n",
       "2552        Need to bind the mac address on schwab @ EC   \n",
       "2553        Need to bind the mac address on schwab @ EC   \n",
       "2554        Need to bind the mac address on schwab @ EC   \n",
       "2555        Need to bind the mac address on schwab @ EC   \n",
       "2556        Need to bind the mac address on schwab @ EC   \n",
       "2557        Need to bind the mac address on schwab @ EC   \n",
       "2558       Need to bind the mac address on schwab @ SJP   \n",
       "2559       Need to bind the mac address on schwab @ SJP   \n",
       "2560                  Need to Bit lokcer encryption key   \n",
       "\n",
       "                   Top2Grams               Top3Grams  \n",
       "0       bandwidth allocation    bandwidth allocation  \n",
       "1      classification change   classification change  \n",
       "2                   not work                not work  \n",
       "3             need configure          need configure  \n",
       "4           install software        install software  \n",
       "5                  vpn issue               vpn issue  \n",
       "6                   cm raise                cm raise  \n",
       "7                error popup             error popup  \n",
       "8                    cmf sit                 cmf sit  \n",
       "9                    cmf sit                 cmf sit  \n",
       "10              travel class            travel class  \n",
       "11         raise requirement       raise requirement  \n",
       "12         raise requirement       raise requirement  \n",
       "13         raise requirement       raise requirement  \n",
       "14         raise requirement       raise requirement  \n",
       "15        cmr impelematation      cmr impelematation  \n",
       "16                No Pattern              No Pattern  \n",
       "17           cneed configure         cneed configure  \n",
       "18             coach project           coach project  \n",
       "19            colour printer          colour printer  \n",
       "20              colour print            colour print  \n",
       "21            colour printer          colour printer  \n",
       "22                     mb mb                   mb mb  \n",
       "23          computer closing        computer closing  \n",
       "24                  not work                not work  \n",
       "25                ness issue              ness issue  \n",
       "26    configuration softvoip  configuration softvoip  \n",
       "27                vtp switch              vtp switch  \n",
       "28             configure log           configure log  \n",
       "29                new laptop              new laptop  \n",
       "...                      ...                     ...  \n",
       "2531                need add                need add  \n",
       "2532                need add                need add  \n",
       "2533                need add                need add  \n",
       "2534                need add                need add  \n",
       "2535                need add                need add  \n",
       "2536                need add                need add  \n",
       "2537                need add                need add  \n",
       "2538                need add                need add  \n",
       "2539                need add                need add  \n",
       "2540                need add                need add  \n",
       "2541                need add                need add  \n",
       "2542                need add                need add  \n",
       "2543                need add                need add  \n",
       "2544          segment router          segment router  \n",
       "2545              ip segment              ip segment  \n",
       "2546            allow access            allow access  \n",
       "2547            allow access            allow access  \n",
       "2548            allow access            allow access  \n",
       "2549              need allow              need allow  \n",
       "2550                ne allow                ne allow  \n",
       "2551                ne allow                ne allow  \n",
       "2552             mac address             mac address  \n",
       "2553             mac address             mac address  \n",
       "2554             mac address             mac address  \n",
       "2555             mac address             mac address  \n",
       "2556             mac address             mac address  \n",
       "2557             mac address             mac address  \n",
       "2558             mac address             mac address  \n",
       "2559             mac address             mac address  \n",
       "2560                need bit                need bit  \n",
       "\n",
       "[2561 rows x 5 columns]"
      ]
     },
     "execution_count": 41,
     "metadata": {},
     "output_type": "execute_result"
    }
   ],
   "source": [
    "ticket_df"
   ]
  },
  {
   "cell_type": "code",
   "execution_count": 469,
   "metadata": {
    "collapsed": false
   },
   "outputs": [],
   "source": []
  },
  {
   "cell_type": "code",
   "execution_count": null,
   "metadata": {
    "collapsed": false
   },
   "outputs": [],
   "source": []
  },
  {
   "cell_type": "code",
   "execution_count": null,
   "metadata": {
    "collapsed": true
   },
   "outputs": [],
   "source": []
  },
  {
   "cell_type": "code",
   "execution_count": 36,
   "metadata": {
    "collapsed": false
   },
   "outputs": [
    {
     "data": {
      "text/plain": [
       "(1904, 2)"
      ]
     },
     "execution_count": 36,
     "metadata": {},
     "output_type": "execute_result"
    }
   ],
   "source": [
    "bigram_counter.shape"
   ]
  },
  {
   "cell_type": "code",
   "execution_count": 37,
   "metadata": {
    "collapsed": true
   },
   "outputs": [],
   "source": [
    "import collections\n",
    "tri=collections.Counter()\n",
    "for i in ticket_df['Summary']:\n",
    "    x = i.rstrip().split(\" \")\n",
    "    tri.update(set(zip(x[:-2],x[1:-1],x[2:])))"
   ]
  },
  {
   "cell_type": "code",
   "execution_count": 38,
   "metadata": {
    "collapsed": false
   },
   "outputs": [],
   "source": [
    "trigram_counter = pd.DataFrame.from_dict(tri,orient='index').reset_index()\n",
    "trigram_counter= trigram_counter.sort_values(by =0, ascending=False)"
   ]
  },
  {
   "cell_type": "code",
   "execution_count": 39,
   "metadata": {
    "collapsed": false
   },
   "outputs": [
    {
     "data": {
      "text/html": [
       "<div>\n",
       "<table border=\"1\" class=\"dataframe\">\n",
       "  <thead>\n",
       "    <tr style=\"text-align: right;\">\n",
       "      <th></th>\n",
       "      <th>index</th>\n",
       "      <th>0</th>\n",
       "    </tr>\n",
       "  </thead>\n",
       "  <tbody>\n",
       "    <tr>\n",
       "      <th>1643</th>\n",
       "      <td>(mail, not, work)</td>\n",
       "      <td>151</td>\n",
       "    </tr>\n",
       "    <tr>\n",
       "      <th>996</th>\n",
       "      <td>(lan, port, need)</td>\n",
       "      <td>72</td>\n",
       "    </tr>\n",
       "    <tr>\n",
       "      <th>178</th>\n",
       "      <td>(vlan, switch, port)</td>\n",
       "      <td>68</td>\n",
       "    </tr>\n",
       "    <tr>\n",
       "      <th>289</th>\n",
       "      <td>(port, need, configure)</td>\n",
       "      <td>67</td>\n",
       "    </tr>\n",
       "    <tr>\n",
       "      <th>1198</th>\n",
       "      <td>(need, configure, vlan)</td>\n",
       "      <td>67</td>\n",
       "    </tr>\n",
       "    <tr>\n",
       "      <th>507</th>\n",
       "      <td>(configure, vlan, switch)</td>\n",
       "      <td>63</td>\n",
       "    </tr>\n",
       "    <tr>\n",
       "      <th>452</th>\n",
       "      <td>(license, expire, change)</td>\n",
       "      <td>48</td>\n",
       "    </tr>\n",
       "    <tr>\n",
       "      <th>1015</th>\n",
       "      <td>(user, reset, password)</td>\n",
       "      <td>46</td>\n",
       "    </tr>\n",
       "    <tr>\n",
       "      <th>469</th>\n",
       "      <td>(help, user, reset)</td>\n",
       "      <td>46</td>\n",
       "    </tr>\n",
       "    <tr>\n",
       "      <th>485</th>\n",
       "      <td>(frequent, account, lockout)</td>\n",
       "      <td>42</td>\n",
       "    </tr>\n",
       "    <tr>\n",
       "      <th>1115</th>\n",
       "      <td>(need, admin, access)</td>\n",
       "      <td>36</td>\n",
       "    </tr>\n",
       "    <tr>\n",
       "      <th>1251</th>\n",
       "      <td>(access, need, enable)</td>\n",
       "      <td>21</td>\n",
       "    </tr>\n",
       "    <tr>\n",
       "      <th>978</th>\n",
       "      <td>(direct, access, issue)</td>\n",
       "      <td>21</td>\n",
       "    </tr>\n",
       "    <tr>\n",
       "      <th>138</th>\n",
       "      <td>(need, activate, office)</td>\n",
       "      <td>21</td>\n",
       "    </tr>\n",
       "    <tr>\n",
       "      <th>1357</th>\n",
       "      <td>(activate, office, key)</td>\n",
       "      <td>16</td>\n",
       "    </tr>\n",
       "    <tr>\n",
       "      <th>732</th>\n",
       "      <td>(daily, critical, device)</td>\n",
       "      <td>16</td>\n",
       "    </tr>\n",
       "    <tr>\n",
       "      <th>1044</th>\n",
       "      <td>(device, not, reachable)</td>\n",
       "      <td>16</td>\n",
       "    </tr>\n",
       "    <tr>\n",
       "      <th>327</th>\n",
       "      <td>(add, pst, file)</td>\n",
       "      <td>14</td>\n",
       "    </tr>\n",
       "    <tr>\n",
       "      <th>1070</th>\n",
       "      <td>(need, add, laptop)</td>\n",
       "      <td>14</td>\n",
       "    </tr>\n",
       "    <tr>\n",
       "      <th>1598</th>\n",
       "      <td>(need, add, pst)</td>\n",
       "      <td>14</td>\n",
       "    </tr>\n",
       "  </tbody>\n",
       "</table>\n",
       "</div>"
      ],
      "text/plain": [
       "                             index    0\n",
       "1643             (mail, not, work)  151\n",
       "996              (lan, port, need)   72\n",
       "178           (vlan, switch, port)   68\n",
       "289        (port, need, configure)   67\n",
       "1198       (need, configure, vlan)   67\n",
       "507      (configure, vlan, switch)   63\n",
       "452      (license, expire, change)   48\n",
       "1015       (user, reset, password)   46\n",
       "469            (help, user, reset)   46\n",
       "485   (frequent, account, lockout)   42\n",
       "1115         (need, admin, access)   36\n",
       "1251        (access, need, enable)   21\n",
       "978        (direct, access, issue)   21\n",
       "138       (need, activate, office)   21\n",
       "1357       (activate, office, key)   16\n",
       "732      (daily, critical, device)   16\n",
       "1044      (device, not, reachable)   16\n",
       "327               (add, pst, file)   14\n",
       "1070           (need, add, laptop)   14\n",
       "1598              (need, add, pst)   14"
      ]
     },
     "execution_count": 39,
     "metadata": {},
     "output_type": "execute_result"
    }
   ],
   "source": [
    "trigram_counter.head(20)"
   ]
  },
  {
   "cell_type": "code",
   "execution_count": null,
   "metadata": {
    "collapsed": false,
    "scrolled": false
   },
   "outputs": [],
   "source": []
  },
  {
   "cell_type": "code",
   "execution_count": 41,
   "metadata": {
    "collapsed": false
   },
   "outputs": [
    {
     "name": "stdout",
     "output_type": "stream",
     "text": [
      "['client', 'office']\n",
      "['office', 'not']\n",
      "['not', 'working']\n"
     ]
    }
   ],
   "source": [
    "for gram in grams: print(gram)"
   ]
  },
  {
   "cell_type": "code",
   "execution_count": 42,
   "metadata": {
    "collapsed": false
   },
   "outputs": [
    {
     "ename": "NameError",
     "evalue": "name 'OrderedDict' is not defined",
     "output_type": "error",
     "traceback": [
      "\u001b[1;31m---------------------------------------------------------------------------\u001b[0m",
      "\u001b[1;31mNameError\u001b[0m                                 Traceback (most recent call last)",
      "\u001b[1;32m<ipython-input-42-9e1db30b948a>\u001b[0m in \u001b[0;36m<module>\u001b[1;34m()\u001b[0m\n\u001b[1;32m----> 1\u001b[1;33m \u001b[0msorted_bi\u001b[0m \u001b[1;33m=\u001b[0m \u001b[0mOrderedDict\u001b[0m\u001b[1;33m(\u001b[0m\u001b[0msorted\u001b[0m\u001b[1;33m(\u001b[0m\u001b[0mbi\u001b[0m\u001b[1;33m.\u001b[0m\u001b[0mitems\u001b[0m\u001b[1;33m(\u001b[0m\u001b[1;33m)\u001b[0m\u001b[1;33m,\u001b[0m \u001b[0mkey\u001b[0m \u001b[1;33m=\u001b[0m \u001b[1;32mlambda\u001b[0m \u001b[0mkv\u001b[0m \u001b[1;33m:\u001b[0m \u001b[0mkv\u001b[0m\u001b[1;33m[\u001b[0m\u001b[1;36m1\u001b[0m\u001b[1;33m]\u001b[0m\u001b[1;33m,\u001b[0m \u001b[0mreverse\u001b[0m\u001b[1;33m=\u001b[0m\u001b[1;32mTrue\u001b[0m\u001b[1;33m)\u001b[0m\u001b[1;33m)\u001b[0m\u001b[1;33m\u001b[0m\u001b[0m\n\u001b[0m",
      "\u001b[1;31mNameError\u001b[0m: name 'OrderedDict' is not defined"
     ]
    }
   ],
   "source": [
    "sorted_bi = OrderedDict(sorted(bi.items(), key = lambda kv : kv[1], reverse=True))"
   ]
  },
  {
   "cell_type": "code",
   "execution_count": null,
   "metadata": {
    "collapsed": false
   },
   "outputs": [],
   "source": [
    "# for k,v in bi.items():\n",
    "#     print(k,v)"
   ]
  },
  {
   "cell_type": "code",
   "execution_count": 45,
   "metadata": {
    "collapsed": false
   },
   "outputs": [
    {
     "data": {
      "text/html": [
       "<div>\n",
       "<table border=\"1\" class=\"dataframe\">\n",
       "  <thead>\n",
       "    <tr style=\"text-align: right;\">\n",
       "      <th></th>\n",
       "      <th>index</th>\n",
       "      <th>0</th>\n",
       "    </tr>\n",
       "  </thead>\n",
       "  <tbody>\n",
       "    <tr>\n",
       "      <th>493</th>\n",
       "      <td>(not, work)</td>\n",
       "      <td>262</td>\n",
       "    </tr>\n",
       "    <tr>\n",
       "      <th>331</th>\n",
       "      <td>(help, user)</td>\n",
       "      <td>195</td>\n",
       "    </tr>\n",
       "    <tr>\n",
       "      <th>541</th>\n",
       "      <td>(mail, not)</td>\n",
       "      <td>158</td>\n",
       "    </tr>\n",
       "    <tr>\n",
       "      <th>890</th>\n",
       "      <td>(port, need)</td>\n",
       "      <td>75</td>\n",
       "    </tr>\n",
       "    <tr>\n",
       "      <th>1165</th>\n",
       "      <td>(lan, port)</td>\n",
       "      <td>73</td>\n",
       "    </tr>\n",
       "  </tbody>\n",
       "</table>\n",
       "</div>"
      ],
      "text/plain": [
       "             index    0\n",
       "493    (not, work)  262\n",
       "331   (help, user)  195\n",
       "541    (mail, not)  158\n",
       "890   (port, need)   75\n",
       "1165   (lan, port)   73"
      ]
     },
     "execution_count": 45,
     "metadata": {},
     "output_type": "execute_result"
    }
   ],
   "source": [
    "bigram_counter.head()"
   ]
  },
  {
   "cell_type": "code",
   "execution_count": 44,
   "metadata": {
    "collapsed": false
   },
   "outputs": [
    {
     "data": {
      "text/plain": [
       "(2561, 2)"
      ]
     },
     "execution_count": 44,
     "metadata": {},
     "output_type": "execute_result"
    }
   ],
   "source": [
    "ticket_df.shape"
   ]
  },
  {
   "cell_type": "code",
   "execution_count": null,
   "metadata": {
    "collapsed": true
   },
   "outputs": [],
   "source": []
  }
 ],
 "metadata": {
  "kernelspec": {
   "display_name": "Python [Anaconda3]",
   "language": "python",
   "name": "Python [Anaconda3]"
  },
  "language_info": {
   "codemirror_mode": {
    "name": "ipython",
    "version": 3
   },
   "file_extension": ".py",
   "mimetype": "text/x-python",
   "name": "python",
   "nbconvert_exporter": "python",
   "pygments_lexer": "ipython3",
   "version": "3.5.2"
  }
 },
 "nbformat": 4,
 "nbformat_minor": 0
}
