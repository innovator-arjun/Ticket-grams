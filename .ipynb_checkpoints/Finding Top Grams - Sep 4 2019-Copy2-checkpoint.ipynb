{
 "cells": [
  {
   "cell_type": "code",
   "execution_count": 187,
   "metadata": {
    "collapsed": true
   },
   "outputs": [],
   "source": [
    "import os\n",
    "import pandas as pd\n",
    "from nltk.tokenize import word_tokenize\n",
    "from nltk.util import ngrams\n",
    "import matplotlib.pyplot as plt\n",
    "%matplotlib inline\n",
    "import seaborn as sns\n",
    "from string import punctuation\n",
    "from nltk.tokenize import RegexpTokenizer\n",
    "import re\n",
    "import collections\n",
    "from past.builtins import xrange\n",
    "import spacy\n",
    "nlp=spacy.load('en_core_web_sm')"
   ]
  },
  {
   "cell_type": "code",
   "execution_count": 188,
   "metadata": {
    "collapsed": false
   },
   "outputs": [
    {
     "data": {
      "text/plain": [
       "['back 1-ticket_df_with_topgrams_automation_category.csv',\n",
       " 'bigrams.csv',\n",
       " 'CITemplate.xlsx',\n",
       " 'dict_file.csv',\n",
       " 'Diff_words.csv',\n",
       " 'final words.csv',\n",
       " 'fourgram.csv',\n",
       " 'sample_words.txtdic',\n",
       " 'ticket_df_with_bigram.csv',\n",
       " 'ticket_df_with_topgrams.csv',\n",
       " 'trigram.csv',\n",
       " 'uigrams.csv']"
      ]
     },
     "execution_count": 188,
     "metadata": {},
     "output_type": "execute_result"
    }
   ],
   "source": [
    "#pointing the source and listing the file names under that path\n",
    "path = os.chdir('C://Users//ar393556//Documents//Ticket grams//sample')\n",
    "files = os.listdir(path)\n",
    "files"
   ]
  },
  {
   "cell_type": "code",
   "execution_count": 189,
   "metadata": {
    "collapsed": false
   },
   "outputs": [
    {
     "data": {
      "text/plain": [
       "['CITemplate.xlsx']"
      ]
     },
     "execution_count": 189,
     "metadata": {},
     "output_type": "execute_result"
    }
   ],
   "source": [
    "#Fetching only xlsx files\n",
    "files_xls = [f for f in files if f[-4:] == 'xlsx']\n",
    "files_xls"
   ]
  },
  {
   "cell_type": "code",
   "execution_count": 190,
   "metadata": {
    "collapsed": false
   },
   "outputs": [],
   "source": [
    "df = pd.DataFrame()\n",
    "\n",
    "#Reading the files and appending the data in the DataFrame format\n",
    "for f in files_xls:\n",
    "    data = pd.read_excel(f,sheet_name='CI-Data')\n",
    "    df = df.append(data)"
   ]
  },
  {
   "cell_type": "code",
   "execution_count": 191,
   "metadata": {
    "collapsed": false
   },
   "outputs": [],
   "source": [
    "#Taking only TicketID and Summary which are essential\n",
    "\n",
    "ticket_df_full = pd.DataFrame(df, columns= ['TicketID','Summary'])\n",
    "\n",
    "ticket_df=ticket_df_full[['TicketID','Summary']]\n",
    "\n",
    "#no. of records and columns\n",
    "ticket_df.shape\n",
    "\n",
    "#Dropping null/blank records\n",
    "ticket_df=ticket_df.dropna()"
   ]
  },
  {
   "cell_type": "code",
   "execution_count": 192,
   "metadata": {
    "collapsed": false
   },
   "outputs": [
    {
     "data": {
      "text/plain": [
       "(4999, 2)"
      ]
     },
     "execution_count": 192,
     "metadata": {},
     "output_type": "execute_result"
    }
   ],
   "source": [
    "#New table data shape\n",
    "ticket_df.shape"
   ]
  },
  {
   "cell_type": "code",
   "execution_count": 193,
   "metadata": {
    "collapsed": false
   },
   "outputs": [
    {
     "data": {
      "text/html": [
       "<div>\n",
       "<table border=\"1\" class=\"dataframe\">\n",
       "  <thead>\n",
       "    <tr style=\"text-align: right;\">\n",
       "      <th></th>\n",
       "      <th>TicketID</th>\n",
       "      <th>Summary</th>\n",
       "    </tr>\n",
       "  </thead>\n",
       "  <tbody>\n",
       "    <tr>\n",
       "      <th>0</th>\n",
       "      <td>INC0812702</td>\n",
       "      <td>[April month end - Critical/High] Request for ...</td>\n",
       "    </tr>\n",
       "    <tr>\n",
       "      <th>1</th>\n",
       "      <td>INC0812704</td>\n",
       "      <td>USCHIBKCLU -Data Protection - Job Failed</td>\n",
       "    </tr>\n",
       "    <tr>\n",
       "      <th>2</th>\n",
       "      <td>INC0812705</td>\n",
       "      <td>MAJOR: Problem occurred on uswstssqld01.na.glo...</td>\n",
       "    </tr>\n",
       "    <tr>\n",
       "      <th>3</th>\n",
       "      <td>INC0812706</td>\n",
       "      <td>% of transaction log space used (91.00%) in da...</td>\n",
       "    </tr>\n",
       "    <tr>\n",
       "      <th>4</th>\n",
       "      <td>INC0812707</td>\n",
       "      <td>% locks in use (81.37%) too high (&gt;=80.00%) fo...</td>\n",
       "    </tr>\n",
       "  </tbody>\n",
       "</table>\n",
       "</div>"
      ],
      "text/plain": [
       "     TicketID                                            Summary\n",
       "0  INC0812702  [April month end - Critical/High] Request for ...\n",
       "1  INC0812704           USCHIBKCLU -Data Protection - Job Failed\n",
       "2  INC0812705  MAJOR: Problem occurred on uswstssqld01.na.glo...\n",
       "3  INC0812706  % of transaction log space used (91.00%) in da...\n",
       "4  INC0812707  % locks in use (81.37%) too high (>=80.00%) fo..."
      ]
     },
     "execution_count": 193,
     "metadata": {},
     "output_type": "execute_result"
    }
   ],
   "source": [
    "ticket_df.head()"
   ]
  },
  {
   "cell_type": "code",
   "execution_count": 194,
   "metadata": {
    "collapsed": true
   },
   "outputs": [],
   "source": [
    "ticket_df['unclean']=ticket_df['Summary']"
   ]
  },
  {
   "cell_type": "code",
   "execution_count": 195,
   "metadata": {
    "collapsed": false
   },
   "outputs": [
    {
     "data": {
      "text/html": [
       "<div>\n",
       "<table border=\"1\" class=\"dataframe\">\n",
       "  <thead>\n",
       "    <tr style=\"text-align: right;\">\n",
       "      <th></th>\n",
       "      <th>TicketID</th>\n",
       "      <th>Summary</th>\n",
       "      <th>unclean</th>\n",
       "    </tr>\n",
       "  </thead>\n",
       "  <tbody>\n",
       "    <tr>\n",
       "      <th>0</th>\n",
       "      <td>INC0812702</td>\n",
       "      <td>[April month end - Critical/High] Request for ...</td>\n",
       "      <td>[April month end - Critical/High] Request for ...</td>\n",
       "    </tr>\n",
       "    <tr>\n",
       "      <th>1</th>\n",
       "      <td>INC0812704</td>\n",
       "      <td>USCHIBKCLU -Data Protection - Job Failed</td>\n",
       "      <td>USCHIBKCLU -Data Protection - Job Failed</td>\n",
       "    </tr>\n",
       "    <tr>\n",
       "      <th>2</th>\n",
       "      <td>INC0812705</td>\n",
       "      <td>MAJOR: Problem occurred on uswstssqld01.na.glo...</td>\n",
       "      <td>MAJOR: Problem occurred on uswstssqld01.na.glo...</td>\n",
       "    </tr>\n",
       "    <tr>\n",
       "      <th>3</th>\n",
       "      <td>INC0812706</td>\n",
       "      <td>% of transaction log space used (91.00%) in da...</td>\n",
       "      <td>% of transaction log space used (91.00%) in da...</td>\n",
       "    </tr>\n",
       "    <tr>\n",
       "      <th>4</th>\n",
       "      <td>INC0812707</td>\n",
       "      <td>% locks in use (81.37%) too high (&gt;=80.00%) fo...</td>\n",
       "      <td>% locks in use (81.37%) too high (&gt;=80.00%) fo...</td>\n",
       "    </tr>\n",
       "  </tbody>\n",
       "</table>\n",
       "</div>"
      ],
      "text/plain": [
       "     TicketID                                            Summary  \\\n",
       "0  INC0812702  [April month end - Critical/High] Request for ...   \n",
       "1  INC0812704           USCHIBKCLU -Data Protection - Job Failed   \n",
       "2  INC0812705  MAJOR: Problem occurred on uswstssqld01.na.glo...   \n",
       "3  INC0812706  % of transaction log space used (91.00%) in da...   \n",
       "4  INC0812707  % locks in use (81.37%) too high (>=80.00%) fo...   \n",
       "\n",
       "                                             unclean  \n",
       "0  [April month end - Critical/High] Request for ...  \n",
       "1           USCHIBKCLU -Data Protection - Job Failed  \n",
       "2  MAJOR: Problem occurred on uswstssqld01.na.glo...  \n",
       "3  % of transaction log space used (91.00%) in da...  \n",
       "4  % locks in use (81.37%) too high (>=80.00%) fo...  "
      ]
     },
     "execution_count": 195,
     "metadata": {},
     "output_type": "execute_result"
    }
   ],
   "source": [
    "ticket_df.head()"
   ]
  },
  {
   "cell_type": "code",
   "execution_count": 196,
   "metadata": {
    "collapsed": false
   },
   "outputs": [],
   "source": [
    "# To remove punchuation, numbers and converting the string to lower\n",
    "ticket_df['Summary'] = ticket_df['Summary'].str.lower().str.replace(r'[^a-z\\s]', '')\n"
   ]
  },
  {
   "cell_type": "code",
   "execution_count": 197,
   "metadata": {
    "collapsed": false
   },
   "outputs": [
    {
     "data": {
      "text/html": [
       "<div>\n",
       "<table border=\"1\" class=\"dataframe\">\n",
       "  <thead>\n",
       "    <tr style=\"text-align: right;\">\n",
       "      <th></th>\n",
       "      <th>TicketID</th>\n",
       "      <th>Summary</th>\n",
       "      <th>unclean</th>\n",
       "    </tr>\n",
       "  </thead>\n",
       "  <tbody>\n",
       "    <tr>\n",
       "      <th>0</th>\n",
       "      <td>INC0812702</td>\n",
       "      <td>april month end  criticalhigh request for lock...</td>\n",
       "      <td>[April month end - Critical/High] Request for ...</td>\n",
       "    </tr>\n",
       "    <tr>\n",
       "      <th>1</th>\n",
       "      <td>INC0812704</td>\n",
       "      <td>uschibkclu data protection  job failed</td>\n",
       "      <td>USCHIBKCLU -Data Protection - Job Failed</td>\n",
       "    </tr>\n",
       "    <tr>\n",
       "      <th>2</th>\n",
       "      <td>INC0812705</td>\n",
       "      <td>major problem occurred on uswstssqldnaglobalad...</td>\n",
       "      <td>MAJOR: Problem occurred on uswstssqld01.na.glo...</td>\n",
       "    </tr>\n",
       "    <tr>\n",
       "      <th>3</th>\n",
       "      <td>INC0812706</td>\n",
       "      <td>of transaction log space used  in database lo...</td>\n",
       "      <td>% of transaction log space used (91.00%) in da...</td>\n",
       "    </tr>\n",
       "    <tr>\n",
       "      <th>4</th>\n",
       "      <td>INC0812707</td>\n",
       "      <td>locks in use  too high  for uswstssqld   poli...</td>\n",
       "      <td>% locks in use (81.37%) too high (&gt;=80.00%) fo...</td>\n",
       "    </tr>\n",
       "  </tbody>\n",
       "</table>\n",
       "</div>"
      ],
      "text/plain": [
       "     TicketID                                            Summary  \\\n",
       "0  INC0812702  april month end  criticalhigh request for lock...   \n",
       "1  INC0812704             uschibkclu data protection  job failed   \n",
       "2  INC0812705  major problem occurred on uswstssqldnaglobalad...   \n",
       "3  INC0812706   of transaction log space used  in database lo...   \n",
       "4  INC0812707   locks in use  too high  for uswstssqld   poli...   \n",
       "\n",
       "                                             unclean  \n",
       "0  [April month end - Critical/High] Request for ...  \n",
       "1           USCHIBKCLU -Data Protection - Job Failed  \n",
       "2  MAJOR: Problem occurred on uswstssqld01.na.glo...  \n",
       "3  % of transaction log space used (91.00%) in da...  \n",
       "4  % locks in use (81.37%) too high (>=80.00%) fo...  "
      ]
     },
     "execution_count": 197,
     "metadata": {},
     "output_type": "execute_result"
    }
   ],
   "source": [
    "ticket_df.head()    "
   ]
  },
  {
   "cell_type": "code",
   "execution_count": null,
   "metadata": {
    "collapsed": true
   },
   "outputs": [],
   "source": []
  },
  {
   "cell_type": "code",
   "execution_count": 198,
   "metadata": {
    "collapsed": false
   },
   "outputs": [],
   "source": [
    "nlp.Defaults.stop_words.add('thanks')\n",
    "nlp.Defaults.stop_words.add('please')\n",
    "nlp.Defaults.stop_words.add('team')\n",
    "nlp.Defaults.stop_words.add('dear')\n",
    "nlp.Defaults.stop_words.add('hi')"
   ]
  },
  {
   "cell_type": "code",
   "execution_count": 199,
   "metadata": {
    "collapsed": false
   },
   "outputs": [
    {
     "ename": "KeyError",
     "evalue": "'not'",
     "output_type": "error",
     "traceback": [
      "\u001b[1;31m---------------------------------------------------------------------------\u001b[0m",
      "\u001b[1;31mKeyError\u001b[0m                                  Traceback (most recent call last)",
      "\u001b[1;32m<ipython-input-199-40411a0e944f>\u001b[0m in \u001b[0;36m<module>\u001b[1;34m()\u001b[0m\n\u001b[1;32m----> 1\u001b[1;33m \u001b[0mnlp\u001b[0m\u001b[1;33m.\u001b[0m\u001b[0mDefaults\u001b[0m\u001b[1;33m.\u001b[0m\u001b[0mstop_words\u001b[0m\u001b[1;33m.\u001b[0m\u001b[0mremove\u001b[0m\u001b[1;33m(\u001b[0m\u001b[1;34m'not'\u001b[0m\u001b[1;33m)\u001b[0m\u001b[1;33m\u001b[0m\u001b[0m\n\u001b[0m\u001b[0;32m      2\u001b[0m \u001b[0mnlp\u001b[0m\u001b[1;33m.\u001b[0m\u001b[0mDefaults\u001b[0m\u001b[1;33m.\u001b[0m\u001b[0mstop_words\u001b[0m\u001b[1;33m.\u001b[0m\u001b[0mremove\u001b[0m\u001b[1;33m(\u001b[0m\u001b[1;34m'cannot'\u001b[0m\u001b[1;33m)\u001b[0m\u001b[1;33m\u001b[0m\u001b[0m\n\u001b[0;32m      3\u001b[0m \u001b[0mnlp\u001b[0m\u001b[1;33m.\u001b[0m\u001b[0mDefaults\u001b[0m\u001b[1;33m.\u001b[0m\u001b[0mstop_words\u001b[0m\u001b[1;33m.\u001b[0m\u001b[0mremove\u001b[0m\u001b[1;33m(\u001b[0m\u001b[1;34m'nothing'\u001b[0m\u001b[1;33m)\u001b[0m\u001b[1;33m\u001b[0m\u001b[0m\n",
      "\u001b[1;31mKeyError\u001b[0m: 'not'"
     ]
    }
   ],
   "source": [
    "nlp.Defaults.stop_words.remove('not')\n",
    "nlp.Defaults.stop_words.remove('cannot')\n",
    "nlp.Defaults.stop_words.remove('nothing')"
   ]
  },
  {
   "cell_type": "code",
   "execution_count": 200,
   "metadata": {
    "collapsed": true
   },
   "outputs": [],
   "source": [
    "stop_words=nlp.Defaults.stop_words"
   ]
  },
  {
   "cell_type": "code",
   "execution_count": 201,
   "metadata": {
    "collapsed": true
   },
   "outputs": [],
   "source": [
    "\n",
    "\n",
    "ticket_df['Summary'] = ticket_df['Summary'].apply(lambda x: \" \".join(x for x in x.split() if x not in stop_words))"
   ]
  },
  {
   "cell_type": "code",
   "execution_count": 202,
   "metadata": {
    "collapsed": true
   },
   "outputs": [],
   "source": [
    "ticket_df['Summary'] = ticket_df['Summary'].apply(lambda x: \" \".join(x for x in x.split() if len(x)>=2 and len(x)<15))"
   ]
  },
  {
   "cell_type": "code",
   "execution_count": 203,
   "metadata": {
    "collapsed": true
   },
   "outputs": [],
   "source": [
    "ticket_df['Summary']= ticket_df['Summary'].apply(lambda row: \" \".join([w.lemma_ for w in nlp(row)]))"
   ]
  },
  {
   "cell_type": "code",
   "execution_count": 204,
   "metadata": {
    "collapsed": false
   },
   "outputs": [
    {
     "data": {
      "text/html": [
       "<div>\n",
       "<table border=\"1\" class=\"dataframe\">\n",
       "  <thead>\n",
       "    <tr style=\"text-align: right;\">\n",
       "      <th></th>\n",
       "      <th>TicketID</th>\n",
       "      <th>Summary</th>\n",
       "      <th>unclean</th>\n",
       "    </tr>\n",
       "  </thead>\n",
       "  <tbody>\n",
       "    <tr>\n",
       "      <th>0</th>\n",
       "      <td>INC0812702</td>\n",
       "      <td>april month end criticalhigh request lockunloc...</td>\n",
       "      <td>[April month end - Critical/High] Request for ...</td>\n",
       "    </tr>\n",
       "    <tr>\n",
       "      <th>1</th>\n",
       "      <td>INC0812704</td>\n",
       "      <td>uschibkclu datum protection job fail</td>\n",
       "      <td>USCHIBKCLU -Data Protection - Job Failed</td>\n",
       "    </tr>\n",
       "    <tr>\n",
       "      <th>2</th>\n",
       "      <td>INC0812705</td>\n",
       "      <td>major problem occur</td>\n",
       "      <td>MAJOR: Problem occurred on uswstssqld01.na.glo...</td>\n",
       "    </tr>\n",
       "    <tr>\n",
       "      <th>3</th>\n",
       "      <td>INC0812706</td>\n",
       "      <td>transaction log space database loyalhom high b...</td>\n",
       "      <td>% of transaction log space used (91.00%) in da...</td>\n",
       "    </tr>\n",
       "    <tr>\n",
       "      <th>4</th>\n",
       "      <td>INC0812707</td>\n",
       "      <td>lock use high uswstssqld policy mssqlserver</td>\n",
       "      <td>% locks in use (81.37%) too high (&gt;=80.00%) fo...</td>\n",
       "    </tr>\n",
       "  </tbody>\n",
       "</table>\n",
       "</div>"
      ],
      "text/plain": [
       "     TicketID                                            Summary  \\\n",
       "0  INC0812702  april month end criticalhigh request lockunloc...   \n",
       "1  INC0812704               uschibkclu datum protection job fail   \n",
       "2  INC0812705                                major problem occur   \n",
       "3  INC0812706  transaction log space database loyalhom high b...   \n",
       "4  INC0812707        lock use high uswstssqld policy mssqlserver   \n",
       "\n",
       "                                             unclean  \n",
       "0  [April month end - Critical/High] Request for ...  \n",
       "1           USCHIBKCLU -Data Protection - Job Failed  \n",
       "2  MAJOR: Problem occurred on uswstssqld01.na.glo...  \n",
       "3  % of transaction log space used (91.00%) in da...  \n",
       "4  % locks in use (81.37%) too high (>=80.00%) fo...  "
      ]
     },
     "execution_count": 204,
     "metadata": {},
     "output_type": "execute_result"
    }
   ],
   "source": [
    "ticket_df.head()"
   ]
  },
  {
   "cell_type": "code",
   "execution_count": 205,
   "metadata": {
    "collapsed": true
   },
   "outputs": [],
   "source": [
    "\n",
    "\n",
    "def get_ngrams(text, n ):\n",
    "    n_grams = ngrams(word_tokenize(text), n)\n",
    "    return [ ' '.join(grams) for grams in n_grams]"
   ]
  },
  {
   "cell_type": "code",
   "execution_count": 206,
   "metadata": {
    "collapsed": false
   },
   "outputs": [],
   "source": [
    "# ticket_df.to_csv('final words.csv')"
   ]
  },
  {
   "cell_type": "code",
   "execution_count": null,
   "metadata": {
    "collapsed": false
   },
   "outputs": [],
   "source": []
  },
  {
   "cell_type": "code",
   "execution_count": 207,
   "metadata": {
    "collapsed": false
   },
   "outputs": [],
   "source": [
    "\n",
    "ui=collections.Counter()\n",
    "\n",
    "for i in ticket_df['Summary']:\n",
    "    x = i.rstrip().split(\" \")\n",
    "    ui.update(ngrams(x, n=1))"
   ]
  },
  {
   "cell_type": "code",
   "execution_count": null,
   "metadata": {
    "collapsed": false
   },
   "outputs": [],
   "source": []
  },
  {
   "cell_type": "code",
   "execution_count": 208,
   "metadata": {
    "collapsed": true
   },
   "outputs": [],
   "source": [
    "ui_counter = pd.DataFrame.from_dict(ui, orient='index')\n",
    "ui_counter.to_csv('uigrams.csv')\n",
    "ui_df=pd.read_csv('uigrams.csv',index_col=False)\n",
    "ui_df['Unnamed: 0'] = ui_df['Unnamed: 0'].str.lower().str.replace(r'[^a-z\\s]', '')\n",
    "dict_ui=ui_df.set_index('Unnamed: 0')['0'].to_dict()"
   ]
  },
  {
   "cell_type": "code",
   "execution_count": null,
   "metadata": {
    "collapsed": false
   },
   "outputs": [],
   "source": []
  },
  {
   "cell_type": "code",
   "execution_count": 209,
   "metadata": {
    "collapsed": false
   },
   "outputs": [],
   "source": [
    "\n",
    "bi=collections.Counter()\n",
    "for i in ticket_df['Summary']:\n",
    "    x = i.rstrip().split(\" \")\n",
    "    bi.update(set(zip(x[:-1],x[1:])))"
   ]
  },
  {
   "cell_type": "code",
   "execution_count": null,
   "metadata": {
    "collapsed": false
   },
   "outputs": [],
   "source": []
  },
  {
   "cell_type": "code",
   "execution_count": 210,
   "metadata": {
    "collapsed": false
   },
   "outputs": [],
   "source": [
    "bigram_counter = pd.DataFrame.from_dict(bi, orient='index')\n",
    "bigram_counter.to_csv('bigrams.csv')\n",
    "bigram_df=pd.read_csv('bigrams.csv',index_col=False)\n",
    "bigram_df['Unnamed: 0'] = bigram_df['Unnamed: 0'].str.lower().str.replace(r'[^a-z\\s]', '')\n",
    "dict_bigram=bigram_df.set_index('Unnamed: 0')['0'].to_dict()"
   ]
  },
  {
   "cell_type": "code",
   "execution_count": null,
   "metadata": {
    "collapsed": false
   },
   "outputs": [],
   "source": []
  },
  {
   "cell_type": "code",
   "execution_count": 211,
   "metadata": {
    "collapsed": false,
    "scrolled": true
   },
   "outputs": [],
   "source": [
    "\n",
    "tri=collections.Counter()\n",
    "for i in ticket_df['Summary']:\n",
    "    x = i.rstrip().split(\" \")\n",
    "    tri.update(set(zip(x[:-2],x[1:-1],x[2:])))"
   ]
  },
  {
   "cell_type": "code",
   "execution_count": 212,
   "metadata": {
    "collapsed": false
   },
   "outputs": [],
   "source": [
    "trigram_counter = pd.DataFrame.from_dict(tri, orient='index')\n",
    "trigram_counter.to_csv('trigram.csv')"
   ]
  },
  {
   "cell_type": "code",
   "execution_count": 213,
   "metadata": {
    "collapsed": false,
    "scrolled": true
   },
   "outputs": [],
   "source": [
    "trigram_df=pd.read_csv('trigram.csv',index_col=False)\n",
    "trigram_df['Unnamed: 0'] = trigram_df['Unnamed: 0'].str.lower().str.replace(r'[^a-z\\s]', '')\n",
    "dict_trigram=trigram_df.set_index('Unnamed: 0')['0'].to_dict()"
   ]
  },
  {
   "cell_type": "code",
   "execution_count": 214,
   "metadata": {
    "collapsed": false
   },
   "outputs": [],
   "source": [
    "\n",
    "four=collections.Counter()\n",
    "\n",
    "for i in ticket_df['Summary']:\n",
    "    x = i.rstrip().split(\" \")\n",
    "    four.update(ngrams(x, n=4))"
   ]
  },
  {
   "cell_type": "code",
   "execution_count": 215,
   "metadata": {
    "collapsed": false
   },
   "outputs": [],
   "source": [
    "fourgram_counter = pd.DataFrame.from_dict(four, orient='index')\n",
    "fourgram_counter.to_csv('fourgram.csv')\n",
    "fourgram_df=pd.read_csv('fourgram.csv',index_col=False)\n",
    "fourgram_df['Unnamed: 0'] = fourgram_df['Unnamed: 0'].str.lower().str.replace(r'[^a-z\\s]', '')\n",
    "dict_four=fourgram_df.set_index('Unnamed: 0')['0'].to_dict()"
   ]
  },
  {
   "cell_type": "code",
   "execution_count": null,
   "metadata": {
    "collapsed": false,
    "scrolled": true
   },
   "outputs": [],
   "source": []
  },
  {
   "cell_type": "code",
   "execution_count": 216,
   "metadata": {
    "collapsed": false
   },
   "outputs": [],
   "source": [
    "\n",
    "def top_grams(dicti, N):\n",
    "    res_topgram=[]\n",
    "    for text in ticket_df['Summary']:  \n",
    "\n",
    "        comp_list=get_ngrams(text,N)\n",
    "        n = {k: dicti[k] for k in comp_list if k in dicti}\n",
    "        flag=bool(n)\n",
    "        res=''\n",
    "        if flag==True:\n",
    "            res=max(n, key=n.get)\n",
    "        else:\n",
    "            res='No Pattern'\n",
    "        res_topgram.append(res)\n",
    "        \n",
    "    return res_topgram"
   ]
  },
  {
   "cell_type": "code",
   "execution_count": null,
   "metadata": {
    "collapsed": false
   },
   "outputs": [],
   "source": []
  },
  {
   "cell_type": "code",
   "execution_count": 217,
   "metadata": {
    "collapsed": false
   },
   "outputs": [],
   "source": [
    "\n",
    "res_bigram=top_grams(dict_ui,1)\n",
    "ticket_df['Top1Grams']=pd.DataFrame({'Top1Grams':res_bigram})"
   ]
  },
  {
   "cell_type": "code",
   "execution_count": null,
   "metadata": {
    "collapsed": true
   },
   "outputs": [],
   "source": []
  },
  {
   "cell_type": "code",
   "execution_count": 218,
   "metadata": {
    "collapsed": false
   },
   "outputs": [],
   "source": [
    "\n",
    "res_bigram=top_grams(dict_bigram,2)\n",
    "ticket_df['Top2Grams']=pd.DataFrame({'Top2Grams':res_bigram})"
   ]
  },
  {
   "cell_type": "code",
   "execution_count": 219,
   "metadata": {
    "collapsed": false
   },
   "outputs": [
    {
     "data": {
      "text/html": [
       "<div>\n",
       "<table border=\"1\" class=\"dataframe\">\n",
       "  <thead>\n",
       "    <tr style=\"text-align: right;\">\n",
       "      <th></th>\n",
       "      <th>TicketID</th>\n",
       "      <th>Summary</th>\n",
       "      <th>unclean</th>\n",
       "      <th>Top1Grams</th>\n",
       "      <th>Top2Grams</th>\n",
       "    </tr>\n",
       "  </thead>\n",
       "  <tbody>\n",
       "    <tr>\n",
       "      <th>0</th>\n",
       "      <td>INC0812702</td>\n",
       "      <td>april month end criticalhigh request lockunloc...</td>\n",
       "      <td>[April month end - Critical/High] Request for ...</td>\n",
       "      <td>sap</td>\n",
       "      <td>april month</td>\n",
       "    </tr>\n",
       "    <tr>\n",
       "      <th>1</th>\n",
       "      <td>INC0812704</td>\n",
       "      <td>uschibkclu datum protection job fail</td>\n",
       "      <td>USCHIBKCLU -Data Protection - Job Failed</td>\n",
       "      <td>datum</td>\n",
       "      <td>datum protection</td>\n",
       "    </tr>\n",
       "    <tr>\n",
       "      <th>2</th>\n",
       "      <td>INC0812705</td>\n",
       "      <td>major problem occur</td>\n",
       "      <td>MAJOR: Problem occurred on uswstssqld01.na.glo...</td>\n",
       "      <td>problem</td>\n",
       "      <td>problem occur</td>\n",
       "    </tr>\n",
       "    <tr>\n",
       "      <th>3</th>\n",
       "      <td>INC0812706</td>\n",
       "      <td>transaction log space database loyalhom high b...</td>\n",
       "      <td>% of transaction log space used (91.00%) in da...</td>\n",
       "      <td>space</td>\n",
       "      <td>space database</td>\n",
       "    </tr>\n",
       "    <tr>\n",
       "      <th>4</th>\n",
       "      <td>INC0812707</td>\n",
       "      <td>lock use high uswstssqld policy mssqlserver</td>\n",
       "      <td>% locks in use (81.37%) too high (&gt;=80.00%) fo...</td>\n",
       "      <td>policy</td>\n",
       "      <td>high uswstssqld</td>\n",
       "    </tr>\n",
       "  </tbody>\n",
       "</table>\n",
       "</div>"
      ],
      "text/plain": [
       "     TicketID                                            Summary  \\\n",
       "0  INC0812702  april month end criticalhigh request lockunloc...   \n",
       "1  INC0812704               uschibkclu datum protection job fail   \n",
       "2  INC0812705                                major problem occur   \n",
       "3  INC0812706  transaction log space database loyalhom high b...   \n",
       "4  INC0812707        lock use high uswstssqld policy mssqlserver   \n",
       "\n",
       "                                             unclean Top1Grams  \\\n",
       "0  [April month end - Critical/High] Request for ...       sap   \n",
       "1           USCHIBKCLU -Data Protection - Job Failed     datum   \n",
       "2  MAJOR: Problem occurred on uswstssqld01.na.glo...   problem   \n",
       "3  % of transaction log space used (91.00%) in da...     space   \n",
       "4  % locks in use (81.37%) too high (>=80.00%) fo...    policy   \n",
       "\n",
       "          Top2Grams  \n",
       "0       april month  \n",
       "1  datum protection  \n",
       "2     problem occur  \n",
       "3    space database  \n",
       "4   high uswstssqld  "
      ]
     },
     "execution_count": 219,
     "metadata": {},
     "output_type": "execute_result"
    }
   ],
   "source": [
    "ticket_df.head()\n"
   ]
  },
  {
   "cell_type": "code",
   "execution_count": 220,
   "metadata": {
    "collapsed": true
   },
   "outputs": [],
   "source": [
    "res_trigram=top_grams(dict_trigram, 3)\n",
    "ticket_df['Top3Grams']=pd.DataFrame({'Top3Grams':res_trigram})"
   ]
  },
  {
   "cell_type": "code",
   "execution_count": 221,
   "metadata": {
    "collapsed": false
   },
   "outputs": [
    {
     "data": {
      "text/html": [
       "<div>\n",
       "<table border=\"1\" class=\"dataframe\">\n",
       "  <thead>\n",
       "    <tr style=\"text-align: right;\">\n",
       "      <th></th>\n",
       "      <th>TicketID</th>\n",
       "      <th>Summary</th>\n",
       "      <th>unclean</th>\n",
       "      <th>Top1Grams</th>\n",
       "      <th>Top2Grams</th>\n",
       "      <th>Top3Grams</th>\n",
       "    </tr>\n",
       "  </thead>\n",
       "  <tbody>\n",
       "    <tr>\n",
       "      <th>0</th>\n",
       "      <td>INC0812702</td>\n",
       "      <td>april month end criticalhigh request lockunloc...</td>\n",
       "      <td>[April month end - Critical/High] Request for ...</td>\n",
       "      <td>sap</td>\n",
       "      <td>april month</td>\n",
       "      <td>april month end</td>\n",
       "    </tr>\n",
       "    <tr>\n",
       "      <th>1</th>\n",
       "      <td>INC0812704</td>\n",
       "      <td>uschibkclu datum protection job fail</td>\n",
       "      <td>USCHIBKCLU -Data Protection - Job Failed</td>\n",
       "      <td>datum</td>\n",
       "      <td>datum protection</td>\n",
       "      <td>protection job fail</td>\n",
       "    </tr>\n",
       "    <tr>\n",
       "      <th>2</th>\n",
       "      <td>INC0812705</td>\n",
       "      <td>major problem occur</td>\n",
       "      <td>MAJOR: Problem occurred on uswstssqld01.na.glo...</td>\n",
       "      <td>problem</td>\n",
       "      <td>problem occur</td>\n",
       "      <td>major problem occur</td>\n",
       "    </tr>\n",
       "    <tr>\n",
       "      <th>3</th>\n",
       "      <td>INC0812706</td>\n",
       "      <td>transaction log space database loyalhom high b...</td>\n",
       "      <td>% of transaction log space used (91.00%) in da...</td>\n",
       "      <td>space</td>\n",
       "      <td>space database</td>\n",
       "      <td>log space database</td>\n",
       "    </tr>\n",
       "    <tr>\n",
       "      <th>4</th>\n",
       "      <td>INC0812707</td>\n",
       "      <td>lock use high uswstssqld policy mssqlserver</td>\n",
       "      <td>% locks in use (81.37%) too high (&gt;=80.00%) fo...</td>\n",
       "      <td>policy</td>\n",
       "      <td>high uswstssqld</td>\n",
       "      <td>use high uswstssqld</td>\n",
       "    </tr>\n",
       "  </tbody>\n",
       "</table>\n",
       "</div>"
      ],
      "text/plain": [
       "     TicketID                                            Summary  \\\n",
       "0  INC0812702  april month end criticalhigh request lockunloc...   \n",
       "1  INC0812704               uschibkclu datum protection job fail   \n",
       "2  INC0812705                                major problem occur   \n",
       "3  INC0812706  transaction log space database loyalhom high b...   \n",
       "4  INC0812707        lock use high uswstssqld policy mssqlserver   \n",
       "\n",
       "                                             unclean Top1Grams  \\\n",
       "0  [April month end - Critical/High] Request for ...       sap   \n",
       "1           USCHIBKCLU -Data Protection - Job Failed     datum   \n",
       "2  MAJOR: Problem occurred on uswstssqld01.na.glo...   problem   \n",
       "3  % of transaction log space used (91.00%) in da...     space   \n",
       "4  % locks in use (81.37%) too high (>=80.00%) fo...    policy   \n",
       "\n",
       "          Top2Grams            Top3Grams  \n",
       "0       april month      april month end  \n",
       "1  datum protection  protection job fail  \n",
       "2     problem occur  major problem occur  \n",
       "3    space database   log space database  \n",
       "4   high uswstssqld  use high uswstssqld  "
      ]
     },
     "execution_count": 221,
     "metadata": {},
     "output_type": "execute_result"
    }
   ],
   "source": [
    "ticket_df.head()\n"
   ]
  },
  {
   "cell_type": "code",
   "execution_count": 222,
   "metadata": {
    "collapsed": false
   },
   "outputs": [],
   "source": [
    "\n",
    "res_fourgram=top_grams(dict_four,4)\n",
    "ticket_df['Top4Grams']=pd.DataFrame({'Top4Grams':res_fourgram})"
   ]
  },
  {
   "cell_type": "code",
   "execution_count": 223,
   "metadata": {
    "collapsed": false
   },
   "outputs": [
    {
     "data": {
      "text/html": [
       "<div>\n",
       "<table border=\"1\" class=\"dataframe\">\n",
       "  <thead>\n",
       "    <tr style=\"text-align: right;\">\n",
       "      <th></th>\n",
       "      <th>TicketID</th>\n",
       "      <th>Summary</th>\n",
       "      <th>unclean</th>\n",
       "      <th>Top1Grams</th>\n",
       "      <th>Top2Grams</th>\n",
       "      <th>Top3Grams</th>\n",
       "      <th>Top4Grams</th>\n",
       "    </tr>\n",
       "  </thead>\n",
       "  <tbody>\n",
       "    <tr>\n",
       "      <th>4994</th>\n",
       "      <td>INC0820282</td>\n",
       "      <td>desbloqueo sap sap unlocking</td>\n",
       "      <td>* desbloqueo SAP 03 / * SAP unlocking 03</td>\n",
       "      <td>sap</td>\n",
       "      <td>sap sap</td>\n",
       "      <td>sap sap unlocking</td>\n",
       "      <td>desbloqueo sap sap unlocking</td>\n",
       "    </tr>\n",
       "    <tr>\n",
       "      <th>4995</th>\n",
       "      <td>INC0820283</td>\n",
       "      <td>receipt deploy cisco switch david fame</td>\n",
       "      <td>UPON RECEIPT: Deploy Cisco Switches to David Fame</td>\n",
       "      <td>switch</td>\n",
       "      <td>receipt deploy</td>\n",
       "      <td>switch david fame</td>\n",
       "      <td>deploy cisco switch david</td>\n",
       "    </tr>\n",
       "    <tr>\n",
       "      <th>4996</th>\n",
       "      <td>INC0820284</td>\n",
       "      <td>brmogsbkmstbkp datum protection backup day</td>\n",
       "      <td>brmogsbkmst1-bkp -Data Protection - No Backup ...</td>\n",
       "      <td>datum</td>\n",
       "      <td>datum protection</td>\n",
       "      <td>protection backup day</td>\n",
       "      <td>brmogsbkmstbkp datum protection backup</td>\n",
       "    </tr>\n",
       "    <tr>\n",
       "      <th>4997</th>\n",
       "      <td>INC0820285</td>\n",
       "      <td>brmogsbkmstbkp datum protection backup day</td>\n",
       "      <td>brmogsbkmst1-bkp -Data Protection - No Backup ...</td>\n",
       "      <td>datum</td>\n",
       "      <td>datum protection</td>\n",
       "      <td>protection backup day</td>\n",
       "      <td>brmogsbkmstbkp datum protection backup</td>\n",
       "    </tr>\n",
       "    <tr>\n",
       "      <th>4998</th>\n",
       "      <td>INC0820286</td>\n",
       "      <td>need access sap qat currently sap give error t...</td>\n",
       "      <td>I need to have access to SAP QAT, I currently ...</td>\n",
       "      <td>access</td>\n",
       "      <td>access sap</td>\n",
       "      <td>qat currently sap</td>\n",
       "      <td>need access sap qat</td>\n",
       "    </tr>\n",
       "  </tbody>\n",
       "</table>\n",
       "</div>"
      ],
      "text/plain": [
       "        TicketID                                            Summary  \\\n",
       "4994  INC0820282                       desbloqueo sap sap unlocking   \n",
       "4995  INC0820283             receipt deploy cisco switch david fame   \n",
       "4996  INC0820284         brmogsbkmstbkp datum protection backup day   \n",
       "4997  INC0820285         brmogsbkmstbkp datum protection backup day   \n",
       "4998  INC0820286  need access sap qat currently sap give error t...   \n",
       "\n",
       "                                                unclean Top1Grams  \\\n",
       "4994           * desbloqueo SAP 03 / * SAP unlocking 03       sap   \n",
       "4995  UPON RECEIPT: Deploy Cisco Switches to David Fame    switch   \n",
       "4996  brmogsbkmst1-bkp -Data Protection - No Backup ...     datum   \n",
       "4997  brmogsbkmst1-bkp -Data Protection - No Backup ...     datum   \n",
       "4998  I need to have access to SAP QAT, I currently ...    access   \n",
       "\n",
       "             Top2Grams              Top3Grams  \\\n",
       "4994           sap sap      sap sap unlocking   \n",
       "4995    receipt deploy      switch david fame   \n",
       "4996  datum protection  protection backup day   \n",
       "4997  datum protection  protection backup day   \n",
       "4998        access sap      qat currently sap   \n",
       "\n",
       "                                   Top4Grams  \n",
       "4994            desbloqueo sap sap unlocking  \n",
       "4995               deploy cisco switch david  \n",
       "4996  brmogsbkmstbkp datum protection backup  \n",
       "4997  brmogsbkmstbkp datum protection backup  \n",
       "4998                     need access sap qat  "
      ]
     },
     "execution_count": 223,
     "metadata": {},
     "output_type": "execute_result"
    }
   ],
   "source": [
    "ticket_df.tail()"
   ]
  },
  {
   "cell_type": "code",
   "execution_count": 224,
   "metadata": {
    "collapsed": false
   },
   "outputs": [],
   "source": [
    "ticket_df.to_csv('ticket_df_with_topgrams.csv')"
   ]
  },
  {
   "cell_type": "code",
   "execution_count": 225,
   "metadata": {
    "collapsed": false
   },
   "outputs": [],
   "source": [
    "path = os.chdir('C://Users//ar393556//Documents//Ticket grams//CIKeyword')\n",
    "files = os.listdir(path)\n",
    "\n",
    "automation_df=pd.read_excel('CIKeywords.xlsx')"
   ]
  },
  {
   "cell_type": "code",
   "execution_count": 226,
   "metadata": {
    "collapsed": false
   },
   "outputs": [
    {
     "data": {
      "text/html": [
       "<div>\n",
       "<table border=\"1\" class=\"dataframe\">\n",
       "  <thead>\n",
       "    <tr style=\"text-align: right;\">\n",
       "      <th></th>\n",
       "      <th>Keyword</th>\n",
       "      <th>Description</th>\n",
       "      <th>Group-Classification</th>\n",
       "      <th>AutomationCategory</th>\n",
       "      <th>Weight</th>\n",
       "      <th>SearchType</th>\n",
       "    </tr>\n",
       "  </thead>\n",
       "  <tbody>\n",
       "    <tr>\n",
       "      <th>0</th>\n",
       "      <td>*overrunning*</td>\n",
       "      <td>NaN</td>\n",
       "      <td>NaN</td>\n",
       "      <td>Evaluate for Automation</td>\n",
       "      <td>1</td>\n",
       "      <td>0</td>\n",
       "    </tr>\n",
       "    <tr>\n",
       "      <th>1</th>\n",
       "      <td>*monitoring*</td>\n",
       "      <td>NaN</td>\n",
       "      <td>NaN</td>\n",
       "      <td>Service Improvement</td>\n",
       "      <td>1</td>\n",
       "      <td>0</td>\n",
       "    </tr>\n",
       "    <tr>\n",
       "      <th>2</th>\n",
       "      <td>*conference*</td>\n",
       "      <td>NaN</td>\n",
       "      <td>NaN</td>\n",
       "      <td>Service Improvement</td>\n",
       "      <td>1</td>\n",
       "      <td>0</td>\n",
       "    </tr>\n",
       "    <tr>\n",
       "      <th>3</th>\n",
       "      <td>*dutymanager*</td>\n",
       "      <td>NaN</td>\n",
       "      <td>NaN</td>\n",
       "      <td>Not Likely Automatable</td>\n",
       "      <td>1</td>\n",
       "      <td>0</td>\n",
       "    </tr>\n",
       "    <tr>\n",
       "      <th>4</th>\n",
       "      <td>*smartcard*</td>\n",
       "      <td>NaN</td>\n",
       "      <td>NaN</td>\n",
       "      <td>Evaluate for Automation</td>\n",
       "      <td>1</td>\n",
       "      <td>0</td>\n",
       "    </tr>\n",
       "  </tbody>\n",
       "</table>\n",
       "</div>"
      ],
      "text/plain": [
       "         Keyword Description  Group-Classification       AutomationCategory  \\\n",
       "0  *overrunning*         NaN                   NaN  Evaluate for Automation   \n",
       "1   *monitoring*         NaN                   NaN      Service Improvement   \n",
       "2   *conference*         NaN                   NaN      Service Improvement   \n",
       "3  *dutymanager*         NaN                   NaN   Not Likely Automatable   \n",
       "4    *smartcard*         NaN                   NaN  Evaluate for Automation   \n",
       "\n",
       "   Weight  SearchType  \n",
       "0       1           0  \n",
       "1       1           0  \n",
       "2       1           0  \n",
       "3       1           0  \n",
       "4       1           0  "
      ]
     },
     "execution_count": 226,
     "metadata": {},
     "output_type": "execute_result"
    }
   ],
   "source": [
    "automation_df.head()"
   ]
  },
  {
   "cell_type": "code",
   "execution_count": 227,
   "metadata": {
    "collapsed": false
   },
   "outputs": [],
   "source": [
    "automation_df['Keyword']=automation_df['Keyword'].apply(lambda x: x.strip(punctuation))\n",
    "automation_df['Keyword']=automation_df['Keyword'].str.replace('*',' ')"
   ]
  },
  {
   "cell_type": "code",
   "execution_count": 228,
   "metadata": {
    "collapsed": false
   },
   "outputs": [],
   "source": [
    "# To remove punchuation, numbers and converting the string to lower\n",
    "automation_df['Keyword']=automation_df['Keyword'].str.lower()"
   ]
  },
  {
   "cell_type": "code",
   "execution_count": 229,
   "metadata": {
    "collapsed": false
   },
   "outputs": [],
   "source": [
    "automation_df['Keyword']=automation_df['Keyword'].apply(lambda row: \" \".join([w.lemma_ for w in nlp(row)]))"
   ]
  },
  {
   "cell_type": "code",
   "execution_count": 230,
   "metadata": {
    "collapsed": false
   },
   "outputs": [
    {
     "data": {
      "text/html": [
       "<div>\n",
       "<table border=\"1\" class=\"dataframe\">\n",
       "  <thead>\n",
       "    <tr style=\"text-align: right;\">\n",
       "      <th></th>\n",
       "      <th>Keyword</th>\n",
       "      <th>Description</th>\n",
       "      <th>Group-Classification</th>\n",
       "      <th>AutomationCategory</th>\n",
       "      <th>Weight</th>\n",
       "      <th>SearchType</th>\n",
       "    </tr>\n",
       "  </thead>\n",
       "  <tbody>\n",
       "    <tr>\n",
       "      <th>0</th>\n",
       "      <td>overrun</td>\n",
       "      <td>NaN</td>\n",
       "      <td>NaN</td>\n",
       "      <td>Evaluate for Automation</td>\n",
       "      <td>1</td>\n",
       "      <td>0</td>\n",
       "    </tr>\n",
       "    <tr>\n",
       "      <th>1</th>\n",
       "      <td>monitor</td>\n",
       "      <td>NaN</td>\n",
       "      <td>NaN</td>\n",
       "      <td>Service Improvement</td>\n",
       "      <td>1</td>\n",
       "      <td>0</td>\n",
       "    </tr>\n",
       "    <tr>\n",
       "      <th>2</th>\n",
       "      <td>conference</td>\n",
       "      <td>NaN</td>\n",
       "      <td>NaN</td>\n",
       "      <td>Service Improvement</td>\n",
       "      <td>1</td>\n",
       "      <td>0</td>\n",
       "    </tr>\n",
       "    <tr>\n",
       "      <th>3</th>\n",
       "      <td>dutymanager</td>\n",
       "      <td>NaN</td>\n",
       "      <td>NaN</td>\n",
       "      <td>Not Likely Automatable</td>\n",
       "      <td>1</td>\n",
       "      <td>0</td>\n",
       "    </tr>\n",
       "    <tr>\n",
       "      <th>4</th>\n",
       "      <td>smartcard</td>\n",
       "      <td>NaN</td>\n",
       "      <td>NaN</td>\n",
       "      <td>Evaluate for Automation</td>\n",
       "      <td>1</td>\n",
       "      <td>0</td>\n",
       "    </tr>\n",
       "  </tbody>\n",
       "</table>\n",
       "</div>"
      ],
      "text/plain": [
       "       Keyword Description  Group-Classification       AutomationCategory  \\\n",
       "0      overrun         NaN                   NaN  Evaluate for Automation   \n",
       "1      monitor         NaN                   NaN      Service Improvement   \n",
       "2   conference         NaN                   NaN      Service Improvement   \n",
       "3  dutymanager         NaN                   NaN   Not Likely Automatable   \n",
       "4    smartcard         NaN                   NaN  Evaluate for Automation   \n",
       "\n",
       "   Weight  SearchType  \n",
       "0       1           0  \n",
       "1       1           0  \n",
       "2       1           0  \n",
       "3       1           0  \n",
       "4       1           0  "
      ]
     },
     "execution_count": 230,
     "metadata": {},
     "output_type": "execute_result"
    }
   ],
   "source": [
    "automation_df.head()"
   ]
  },
  {
   "cell_type": "code",
   "execution_count": 231,
   "metadata": {
    "collapsed": true
   },
   "outputs": [],
   "source": [
    "dict_keyword=automation_df.set_index('Keyword')['Weight'].to_dict()\n"
   ]
  },
  {
   "cell_type": "code",
   "execution_count": 232,
   "metadata": {
    "collapsed": true
   },
   "outputs": [],
   "source": [
    "dict_automation_text=automation_df.set_index('Keyword')['AutomationCategory'].to_dict()"
   ]
  },
  {
   "cell_type": "code",
   "execution_count": 233,
   "metadata": {
    "collapsed": false
   },
   "outputs": [
    {
     "data": {
      "text/plain": [
       "4999"
      ]
     },
     "execution_count": 233,
     "metadata": {},
     "output_type": "execute_result"
    }
   ],
   "source": [
    "len(ticket_df)"
   ]
  },
  {
   "cell_type": "code",
   "execution_count": 234,
   "metadata": {
    "collapsed": false
   },
   "outputs": [],
   "source": [
    "automation_col=[]\n",
    "# for i in columns:\n",
    "for record in range(0,len(ticket_df)):\n",
    "    \n",
    "    grams_list_record=[]\n",
    "    grams_list_record.append(ticket_df['Top1Grams'][record])\n",
    "    grams_list_record.append(ticket_df['Top2Grams'][record])\n",
    "    grams_list_record.append(ticket_df['Top3Grams'][record])\n",
    "    n = {k: dict_keyword[k] for k in grams_list_record if k in dict_keyword}\n",
    "    \n",
    "    flag=bool(n)\n",
    "    res=''\n",
    "    if flag==True:\n",
    "        res=max(n, key=n.get)\n",
    "    else:\n",
    "        res=''\n",
    "    automation_col.append(res)"
   ]
  },
  {
   "cell_type": "code",
   "execution_count": 235,
   "metadata": {
    "collapsed": false
   },
   "outputs": [
    {
     "data": {
      "text/plain": [
       "4999"
      ]
     },
     "execution_count": 235,
     "metadata": {},
     "output_type": "execute_result"
    }
   ],
   "source": [
    "len(automation_col)"
   ]
  },
  {
   "cell_type": "code",
   "execution_count": 236,
   "metadata": {
    "collapsed": false
   },
   "outputs": [
    {
     "data": {
      "text/plain": [
       "'network'"
      ]
     },
     "execution_count": 236,
     "metadata": {},
     "output_type": "execute_result"
    }
   ],
   "source": [
    "automation_col[2555]"
   ]
  },
  {
   "cell_type": "code",
   "execution_count": 237,
   "metadata": {
    "collapsed": false
   },
   "outputs": [
    {
     "data": {
      "text/plain": [
       "562"
      ]
     },
     "execution_count": 237,
     "metadata": {},
     "output_type": "execute_result"
    }
   ],
   "source": [
    "len(dict_automation_text)"
   ]
  },
  {
   "cell_type": "code",
   "execution_count": null,
   "metadata": {
    "collapsed": false
   },
   "outputs": [],
   "source": []
  },
  {
   "cell_type": "code",
   "execution_count": 238,
   "metadata": {
    "collapsed": true
   },
   "outputs": [],
   "source": [
    "# final_values = {k: dict_automation_text[k] for k in automation_col if k in dict_automation_text }\n",
    "automation_text = [dict_automation_text[k] for k in automation_col if k in dict_automation_text]\n",
    "# automation_text=list(final_values.values())"
   ]
  },
  {
   "cell_type": "code",
   "execution_count": 241,
   "metadata": {
    "collapsed": false
   },
   "outputs": [],
   "source": [
    "ticket_df['Automation Category']=pd.DataFrame({'Automation Category':automation_text})\n"
   ]
  },
  {
   "cell_type": "code",
   "execution_count": null,
   "metadata": {
    "collapsed": false
   },
   "outputs": [],
   "source": []
  },
  {
   "cell_type": "code",
   "execution_count": 242,
   "metadata": {
    "collapsed": true
   },
   "outputs": [],
   "source": [
    "ticket_df.to_csv('ticket_df_with_topgrams_automation_category.csv')"
   ]
  },
  {
   "cell_type": "code",
   "execution_count": null,
   "metadata": {
    "collapsed": false
   },
   "outputs": [],
   "source": []
  },
  {
   "cell_type": "code",
   "execution_count": null,
   "metadata": {
    "collapsed": true
   },
   "outputs": [],
   "source": []
  }
 ],
 "metadata": {
  "anaconda-cloud": {},
  "kernelspec": {
   "display_name": "Python [Anaconda3]",
   "language": "python",
   "name": "Python [Anaconda3]"
  },
  "language_info": {
   "codemirror_mode": {
    "name": "ipython",
    "version": 3
   },
   "file_extension": ".py",
   "mimetype": "text/x-python",
   "name": "python",
   "nbconvert_exporter": "python",
   "pygments_lexer": "ipython3",
   "version": "3.5.2"
  }
 },
 "nbformat": 4,
 "nbformat_minor": 0
}
