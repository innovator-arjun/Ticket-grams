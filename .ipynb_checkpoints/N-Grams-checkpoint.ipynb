{
 "cells": [
  {
   "cell_type": "code",
   "execution_count": 91,
   "metadata": {
    "collapsed": true
   },
   "outputs": [],
   "source": [
    "import os\n",
    "import pandas as pd\n",
    "\n",
    "import matplotlib.pyplot as plt\n",
    "%matplotlib inline\n",
    "import seaborn as sns\n",
    "\n",
    "from nltk.tokenize import RegexpTokenizer\n",
    "import re"
   ]
  },
  {
   "cell_type": "code",
   "execution_count": 92,
   "metadata": {
    "collapsed": false
   },
   "outputs": [
    {
     "data": {
      "text/plain": [
       "['CI 99 Cents_636626064943787079.xlsx']"
      ]
     },
     "execution_count": 92,
     "metadata": {},
     "output_type": "execute_result"
    }
   ],
   "source": [
    "#pointing the source and listing the file names under that path\n",
    "path = os.chdir('C://Users//ar393556//Documents//Ticket grams//sample')\n",
    "files = os.listdir(path)\n",
    "files"
   ]
  },
  {
   "cell_type": "code",
   "execution_count": 93,
   "metadata": {
    "collapsed": false
   },
   "outputs": [
    {
     "data": {
      "text/plain": [
       "['CI 99 Cents_636626064943787079.xlsx']"
      ]
     },
     "execution_count": 93,
     "metadata": {},
     "output_type": "execute_result"
    }
   ],
   "source": [
    "#Fetching only xlsx files\n",
    "files_xls = [f for f in files if f[-4:] == 'xlsx']\n",
    "files_xls"
   ]
  },
  {
   "cell_type": "code",
   "execution_count": 94,
   "metadata": {
    "collapsed": false
   },
   "outputs": [],
   "source": [
    "df = pd.DataFrame()\n",
    "\n",
    "#Reading the files and appending the data in the DataFrame format\n",
    "for f in files_xls:\n",
    "    data = pd.read_excel(f,sheet_name='CI-Data')\n",
    "    df = df.append(data)"
   ]
  },
  {
   "cell_type": "code",
   "execution_count": 95,
   "metadata": {
    "collapsed": true
   },
   "outputs": [],
   "source": [
    "#Taking only TicketID and Summary which are essential\n",
    "\n",
    "ticket_df_full = pd.DataFrame(df, columns= ['Summary'])"
   ]
  },
  {
   "cell_type": "code",
   "execution_count": 96,
   "metadata": {
    "collapsed": false
   },
   "outputs": [],
   "source": [
    "ticket_df=ticket_df_full['Summary'][:100]"
   ]
  },
  {
   "cell_type": "code",
   "execution_count": 98,
   "metadata": {
    "collapsed": false
   },
   "outputs": [
    {
     "data": {
      "text/plain": [
       "(100,)"
      ]
     },
     "execution_count": 98,
     "metadata": {},
     "output_type": "execute_result"
    }
   ],
   "source": [
    "#no. of records and columns\n",
    "ticket_df.shape"
   ]
  },
  {
   "cell_type": "code",
   "execution_count": 99,
   "metadata": {
    "collapsed": true
   },
   "outputs": [],
   "source": [
    "#Dropping null/blank records\n",
    "ticket_df=ticket_df.dropna()"
   ]
  },
  {
   "cell_type": "code",
   "execution_count": 100,
   "metadata": {
    "collapsed": false
   },
   "outputs": [
    {
     "data": {
      "text/plain": [
       "(100,)"
      ]
     },
     "execution_count": 100,
     "metadata": {},
     "output_type": "execute_result"
    }
   ],
   "source": [
    "#New table data shape\n",
    "ticket_df.shape"
   ]
  },
  {
   "cell_type": "code",
   "execution_count": 101,
   "metadata": {
    "collapsed": false
   },
   "outputs": [
    {
     "data": {
      "text/plain": [
       "0    Alert: PRIORITY 2 - Trickle Files Stuck: STORE_67\n",
       "1    Alert: PRIORITY 2 - Back Office Trickle Files ...\n",
       "2                      Express Server 161 Disk D: 100%\n",
       "3    Alert: PRIORITY 1 - XPS Service has Stopped: S...\n",
       "4    Alert: PRIORITY 1 - XPS Service has Stopped: S...\n",
       "Name: Summary, dtype: object"
      ]
     },
     "execution_count": 101,
     "metadata": {},
     "output_type": "execute_result"
    }
   ],
   "source": [
    "ticket_df.head()"
   ]
  },
  {
   "cell_type": "code",
   "execution_count": 103,
   "metadata": {
    "collapsed": false
   },
   "outputs": [],
   "source": [
    "from nltk.corpus import stopwords\n",
    "stop = stopwords.words('english')\n",
    "ticket_df = ticket_df.apply(lambda x: \" \".join(x for x in x.split() if x not in stop))"
   ]
  },
  {
   "cell_type": "code",
   "execution_count": 104,
   "metadata": {
    "collapsed": false
   },
   "outputs": [],
   "source": [
    "# To remove punchuation, numbers and converting the string to lower\n",
    "ticket_df = ticket_df.str.lower().str.replace(r'[^a-z\\s]', '')\n"
   ]
  },
  {
   "cell_type": "code",
   "execution_count": 105,
   "metadata": {
    "collapsed": false
   },
   "outputs": [
    {
     "data": {
      "text/plain": [
       "0           alert priority   trickle files stuck store\n",
       "1    alert priority   back office trickle files stu...\n",
       "2                              express server  disk d \n",
       "3           alert priority   xps service stopped store\n",
       "4           alert priority   xps service stopped store\n",
       "Name: Summary, dtype: object"
      ]
     },
     "execution_count": 105,
     "metadata": {},
     "output_type": "execute_result"
    }
   ],
   "source": [
    "ticket_df.head()    "
   ]
  },
  {
   "cell_type": "code",
   "execution_count": 106,
   "metadata": {
    "collapsed": false
   },
   "outputs": [],
   "source": [
    "import spacy\n",
    "nlp=spacy.load('en_core_web_sm')"
   ]
  },
  {
   "cell_type": "code",
   "execution_count": 107,
   "metadata": {
    "collapsed": false,
    "scrolled": true
   },
   "outputs": [],
   "source": [
    "# ticket_df['Summary'] = ticket_df['Summary'].apply(lambda row: \" \".join([w.lemma_ for w in nlp(row)]))"
   ]
  },
  {
   "cell_type": "code",
   "execution_count": 108,
   "metadata": {
    "collapsed": false
   },
   "outputs": [
    {
     "data": {
      "text/plain": [
       "0           alert priority   trickle files stuck store\n",
       "1    alert priority   back office trickle files stu...\n",
       "2                              express server  disk d \n",
       "3           alert priority   xps service stopped store\n",
       "4           alert priority   xps service stopped store\n",
       "Name: Summary, dtype: object"
      ]
     },
     "execution_count": 108,
     "metadata": {},
     "output_type": "execute_result"
    }
   ],
   "source": [
    "ticket_df.head()"
   ]
  },
  {
   "cell_type": "code",
   "execution_count": 17,
   "metadata": {
    "collapsed": false
   },
   "outputs": [],
   "source": [
    "# freq = pd.Series(' '.join(ticket_df['Summary']).split()).value_counts()[-1000:]\n",
    "# freq"
   ]
  },
  {
   "cell_type": "code",
   "execution_count": 110,
   "metadata": {
    "collapsed": false
   },
   "outputs": [],
   "source": [
    "unigrams  = ticket_df.str.split(expand=True).stack()"
   ]
  },
  {
   "cell_type": "code",
   "execution_count": 111,
   "metadata": {
    "collapsed": false
   },
   "outputs": [],
   "source": [
    "bigrams=unigrams+' '+unigrams.shift(-1)"
   ]
  },
  {
   "cell_type": "code",
   "execution_count": 112,
   "metadata": {
    "collapsed": false
   },
   "outputs": [
    {
     "data": {
      "text/plain": [
       "0  0      alert priority\n",
       "   1    priority trickle\n",
       "   2       trickle files\n",
       "   3         files stuck\n",
       "   4         stuck store\n",
       "dtype: object"
      ]
     },
     "execution_count": 112,
     "metadata": {},
     "output_type": "execute_result"
    }
   ],
   "source": [
    "bigrams[0:5]"
   ]
  },
  {
   "cell_type": "code",
   "execution_count": 113,
   "metadata": {
    "collapsed": false
   },
   "outputs": [],
   "source": [
    "trigrams = bigrams + ' ' + unigrams.shift(-2)"
   ]
  },
  {
   "cell_type": "code",
   "execution_count": 114,
   "metadata": {
    "collapsed": true
   },
   "outputs": [],
   "source": [
    "fourgrams = trigrams + ' ' + unigrams.shift(-4)\n"
   ]
  },
  {
   "cell_type": "code",
   "execution_count": 115,
   "metadata": {
    "collapsed": false
   },
   "outputs": [
    {
     "data": {
      "text/plain": [
       "pandas.core.series.Series"
      ]
     },
     "execution_count": 115,
     "metadata": {},
     "output_type": "execute_result"
    }
   ],
   "source": [
    "type(bigrams)"
   ]
  },
  {
   "cell_type": "code",
   "execution_count": 116,
   "metadata": {
    "collapsed": false
   },
   "outputs": [
    {
     "name": "stdout",
     "output_type": "stream",
     "text": [
      "398\n",
      "398\n",
      "398\n"
     ]
    }
   ],
   "source": [
    "print(len(bigrams))\n",
    "print(len(trigrams))\n",
    "\n",
    "print(len(fourgrams))"
   ]
  },
  {
   "cell_type": "code",
   "execution_count": 122,
   "metadata": {
    "collapsed": false
   },
   "outputs": [],
   "source": [
    "import nltk\n",
    "is_noun = lambda pos: pos[:2] == 'NN'\n",
    "nouns = [word for (word, pos) in nltk.pos_tag(ticket_df) if is_noun(pos)] "
   ]
  },
  {
   "cell_type": "code",
   "execution_count": 123,
   "metadata": {
    "collapsed": false
   },
   "outputs": [
    {
     "data": {
      "text/plain": [
       "['back office pc slow',\n",
       " 'sm taking credentials',\n",
       " 'warning disk space utilization production server ladsappp  ',\n",
       " 'sm taking password',\n",
       " 'ceridian question',\n",
       " 'boc vigile application error',\n",
       " 'sales tax rate change  effective sunday ',\n",
       " 'pos password reset',\n",
       " 'ceridian tc error',\n",
       " 'r pinpad error',\n",
       " 'dayforce password asm',\n",
       " 'sales tax rate change  effective sunday ',\n",
       " 'toner request',\n",
       " 'item found',\n",
       " 'r pinpad error',\n",
       " 'pos account lock',\n",
       " 'active password reset',\n",
       " 'unlock payroll',\n",
       " 'network',\n",
       " 'dayforce password reset',\n",
       " 'pos account password reset',\n",
       " 'item price check',\n",
       " 'dayforce password reset e',\n",
       " 'er  jedi  daily odm data validation report',\n",
       " 'item price error',\n",
       " 'item pricing issue',\n",
       " 'employee sales error',\n",
       " 'server connected error',\n",
       " 'r ncr scanner error',\n",
       " 'bo printer offline',\n",
       " 'vmbackupnew backup failed  servers',\n",
       " 'r drawer error',\n",
       " 'lms passowrd reset',\n",
       " 'r ncr scanner error',\n",
       " 'r printer error unable print',\n",
       " 'pinpad register  blank',\n",
       " 'ism order question',\n",
       " 'register  frozen',\n",
       " 'critical cpu utilization critical prod server ktadfsvp    p',\n",
       " 'printer back office printing fax',\n",
       " 'reg letting finish cashout',\n",
       " 'permissons request asm',\n",
       " 'r  frozen scale error',\n",
       " 'reg got frozen',\n",
       " 'alert priority   xps service stopped store',\n",
       " 'pin pad issue log constantly every day reg',\n",
       " 'payroll unlock request',\n",
       " 'tellermate connecting']"
      ]
     },
     "execution_count": 123,
     "metadata": {},
     "output_type": "execute_result"
    }
   ],
   "source": [
    "nouns"
   ]
  },
  {
   "cell_type": "code",
   "execution_count": 66,
   "metadata": {
    "collapsed": true
   },
   "outputs": [],
   "source": [
    "ticket_df['Summary']=ticket_df['Summary'].head(10)"
   ]
  },
  {
   "cell_type": "code",
   "execution_count": null,
   "metadata": {
    "collapsed": false
   },
   "outputs": [],
   "source": []
  },
  {
   "cell_type": "code",
   "execution_count": 67,
   "metadata": {
    "collapsed": false
   },
   "outputs": [
    {
     "data": {
      "text/plain": [
       "0               alert priority   trickle files stuck store\n",
       "1        alert priority   back office trickle files stu...\n",
       "2                                  express server  disk d \n",
       "3               alert priority   xps service stopped store\n",
       "4               alert priority   xps service stopped store\n",
       "5               alert priority   xps service stopped store\n",
       "6              alert priority   download files stuck store\n",
       "7        alert priority   dbs t service is not running ...\n",
       "8                                      back office pc slow\n",
       "9                                                      NaN\n",
       "10                                                     NaN\n",
       "11                                                     NaN\n",
       "12                                                     NaN\n",
       "13                                                     NaN\n",
       "14                                                     NaN\n",
       "15                                                     NaN\n",
       "16                                                     NaN\n",
       "17                                                     NaN\n",
       "18                                                     NaN\n",
       "19                                                     NaN\n",
       "20                                                     NaN\n",
       "21                                                     NaN\n",
       "22                                                     NaN\n",
       "23                                                     NaN\n",
       "24                                                     NaN\n",
       "25                                                     NaN\n",
       "26                                                     NaN\n",
       "27                                                     NaN\n",
       "28                                                     NaN\n",
       "29                                                     NaN\n",
       "                               ...                        \n",
       "43589                                                  NaN\n",
       "43590                                                  NaN\n",
       "43591                                                  NaN\n",
       "43592                                                  NaN\n",
       "43593                                                  NaN\n",
       "43594                                                  NaN\n",
       "43595                                                  NaN\n",
       "43596                                                  NaN\n",
       "43597                                                  NaN\n",
       "43598                                                  NaN\n",
       "43599                                                  NaN\n",
       "43600                                                  NaN\n",
       "43601                                                  NaN\n",
       "43602                                                  NaN\n",
       "43603                                                  NaN\n",
       "43604                                                  NaN\n",
       "43605                                                  NaN\n",
       "43606                                                  NaN\n",
       "43607                                                  NaN\n",
       "43608                                                  NaN\n",
       "43609                                                  NaN\n",
       "43610                                                  NaN\n",
       "43611                                                  NaN\n",
       "43612                                                  NaN\n",
       "43613                                                  NaN\n",
       "43614                                                  NaN\n",
       "43615                                                  NaN\n",
       "43616                                                  NaN\n",
       "43617                                                  NaN\n",
       "43618                                                  NaN\n",
       "Name: Summary, dtype: object"
      ]
     },
     "execution_count": 67,
     "metadata": {},
     "output_type": "execute_result"
    }
   ],
   "source": [
    "ticket_df['Summary']"
   ]
  },
  {
   "cell_type": "code",
   "execution_count": null,
   "metadata": {
    "collapsed": true
   },
   "outputs": [],
   "source": []
  }
 ],
 "metadata": {
  "anaconda-cloud": {},
  "kernelspec": {
   "display_name": "Python [Anaconda3]",
   "language": "python",
   "name": "Python [Anaconda3]"
  },
  "language_info": {
   "codemirror_mode": {
    "name": "ipython",
    "version": 3
   },
   "file_extension": ".py",
   "mimetype": "text/x-python",
   "name": "python",
   "nbconvert_exporter": "python",
   "pygments_lexer": "ipython3",
   "version": "3.5.2"
  }
 },
 "nbformat": 4,
 "nbformat_minor": 0
}
