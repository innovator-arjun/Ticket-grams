{
 "cells": [
  {
   "cell_type": "code",
   "execution_count": 134,
   "metadata": {
    "collapsed": true
   },
   "outputs": [],
   "source": [
    "import os\n",
    "import pandas as pd\n",
    "from nltk.tokenize import word_tokenize\n",
    "from nltk.util import ngrams\n",
    "import matplotlib.pyplot as plt\n",
    "%matplotlib inline\n",
    "import seaborn as sns\n",
    "from string import punctuation\n",
    "from nltk.tokenize import RegexpTokenizer\n",
    "import re\n",
    "import collections\n",
    "from past.builtins import xrange\n",
    "import spacy\n",
    "nlp=spacy.load('en_core_web_sm')"
   ]
  },
  {
   "cell_type": "code",
   "execution_count": 135,
   "metadata": {
    "collapsed": false
   },
   "outputs": [
    {
     "data": {
      "text/plain": [
       "['back 1-ticket_df_with_topgrams_automation_category.csv',\n",
       " 'bigrams.csv',\n",
       " 'CIandSI_Test1.xlsx',\n",
       " 'dict_file.csv',\n",
       " 'Diff_words.csv',\n",
       " 'final words.csv',\n",
       " 'fourgram.csv',\n",
       " 'sample_words.txtdic',\n",
       " 'ticket_df_with_bigram.csv',\n",
       " 'ticket_df_with_topgrams.csv',\n",
       " 'trigram.csv']"
      ]
     },
     "execution_count": 135,
     "metadata": {},
     "output_type": "execute_result"
    }
   ],
   "source": [
    "#pointing the source and listing the file names under that path\n",
    "path = os.chdir('C://Users//ar393556//Documents//Ticket grams//sample')\n",
    "files = os.listdir(path)\n",
    "files"
   ]
  },
  {
   "cell_type": "code",
   "execution_count": 136,
   "metadata": {
    "collapsed": false
   },
   "outputs": [
    {
     "data": {
      "text/plain": [
       "['CIandSI_Test1.xlsx']"
      ]
     },
     "execution_count": 136,
     "metadata": {},
     "output_type": "execute_result"
    }
   ],
   "source": [
    "#Fetching only xlsx files\n",
    "files_xls = [f for f in files if f[-4:] == 'xlsx']\n",
    "files_xls"
   ]
  },
  {
   "cell_type": "code",
   "execution_count": 137,
   "metadata": {
    "collapsed": false
   },
   "outputs": [],
   "source": [
    "df = pd.DataFrame()\n",
    "\n",
    "#Reading the files and appending the data in the DataFrame format\n",
    "for f in files_xls:\n",
    "    data = pd.read_excel(f,sheet_name='CI-Data')\n",
    "    df = df.append(data)"
   ]
  },
  {
   "cell_type": "code",
   "execution_count": 138,
   "metadata": {
    "collapsed": false
   },
   "outputs": [],
   "source": [
    "#Taking only TicketID and Summary which are essential\n",
    "\n",
    "ticket_df_full = pd.DataFrame(df, columns= ['TicketID','Summary'])\n",
    "\n",
    "ticket_df=ticket_df_full[['TicketID','Summary']]\n",
    "\n",
    "#no. of records and columns\n",
    "ticket_df.shape\n",
    "\n",
    "#Dropping null/blank records\n",
    "ticket_df=ticket_df.dropna()"
   ]
  },
  {
   "cell_type": "code",
   "execution_count": 139,
   "metadata": {
    "collapsed": false
   },
   "outputs": [
    {
     "data": {
      "text/plain": [
       "(2561, 2)"
      ]
     },
     "execution_count": 139,
     "metadata": {},
     "output_type": "execute_result"
    }
   ],
   "source": [
    "#New table data shape\n",
    "ticket_df.shape"
   ]
  },
  {
   "cell_type": "code",
   "execution_count": 140,
   "metadata": {
    "collapsed": false
   },
   "outputs": [
    {
     "data": {
      "text/html": [
       "<div>\n",
       "<table border=\"1\" class=\"dataframe\">\n",
       "  <thead>\n",
       "    <tr style=\"text-align: right;\">\n",
       "      <th></th>\n",
       "      <th>TicketID</th>\n",
       "      <th>Summary</th>\n",
       "    </tr>\n",
       "  </thead>\n",
       "  <tbody>\n",
       "    <tr>\n",
       "      <th>0</th>\n",
       "      <td>543244</td>\n",
       "      <td>Class bandwidth Allocation</td>\n",
       "    </tr>\n",
       "    <tr>\n",
       "      <th>1</th>\n",
       "      <td>675379</td>\n",
       "      <td>Classification change</td>\n",
       "    </tr>\n",
       "    <tr>\n",
       "      <th>2</th>\n",
       "      <td>1077865</td>\n",
       "      <td>client latop – office 365 , not working</td>\n",
       "    </tr>\n",
       "    <tr>\n",
       "      <th>3</th>\n",
       "      <td>1018957</td>\n",
       "      <td>Client Mail box needs to be configure in outlook</td>\n",
       "    </tr>\n",
       "    <tr>\n",
       "      <th>4</th>\n",
       "      <td>801584</td>\n",
       "      <td>Client need to install software</td>\n",
       "    </tr>\n",
       "  </tbody>\n",
       "</table>\n",
       "</div>"
      ],
      "text/plain": [
       "   TicketID                                           Summary\n",
       "0    543244                        Class bandwidth Allocation\n",
       "1    675379                             Classification change\n",
       "2   1077865           client latop – office 365 , not working\n",
       "3   1018957  Client Mail box needs to be configure in outlook\n",
       "4    801584                   Client need to install software"
      ]
     },
     "execution_count": 140,
     "metadata": {},
     "output_type": "execute_result"
    }
   ],
   "source": [
    "ticket_df.head()"
   ]
  },
  {
   "cell_type": "code",
   "execution_count": 141,
   "metadata": {
    "collapsed": true
   },
   "outputs": [],
   "source": [
    "ticket_df['unclean']=ticket_df['Summary']"
   ]
  },
  {
   "cell_type": "code",
   "execution_count": 142,
   "metadata": {
    "collapsed": false
   },
   "outputs": [
    {
     "data": {
      "text/html": [
       "<div>\n",
       "<table border=\"1\" class=\"dataframe\">\n",
       "  <thead>\n",
       "    <tr style=\"text-align: right;\">\n",
       "      <th></th>\n",
       "      <th>TicketID</th>\n",
       "      <th>Summary</th>\n",
       "      <th>unclean</th>\n",
       "    </tr>\n",
       "  </thead>\n",
       "  <tbody>\n",
       "    <tr>\n",
       "      <th>0</th>\n",
       "      <td>543244</td>\n",
       "      <td>Class bandwidth Allocation</td>\n",
       "      <td>Class bandwidth Allocation</td>\n",
       "    </tr>\n",
       "    <tr>\n",
       "      <th>1</th>\n",
       "      <td>675379</td>\n",
       "      <td>Classification change</td>\n",
       "      <td>Classification change</td>\n",
       "    </tr>\n",
       "    <tr>\n",
       "      <th>2</th>\n",
       "      <td>1077865</td>\n",
       "      <td>client latop – office 365 , not working</td>\n",
       "      <td>client latop – office 365 , not working</td>\n",
       "    </tr>\n",
       "    <tr>\n",
       "      <th>3</th>\n",
       "      <td>1018957</td>\n",
       "      <td>Client Mail box needs to be configure in outlook</td>\n",
       "      <td>Client Mail box needs to be configure in outlook</td>\n",
       "    </tr>\n",
       "    <tr>\n",
       "      <th>4</th>\n",
       "      <td>801584</td>\n",
       "      <td>Client need to install software</td>\n",
       "      <td>Client need to install software</td>\n",
       "    </tr>\n",
       "  </tbody>\n",
       "</table>\n",
       "</div>"
      ],
      "text/plain": [
       "   TicketID                                           Summary  \\\n",
       "0    543244                        Class bandwidth Allocation   \n",
       "1    675379                             Classification change   \n",
       "2   1077865           client latop – office 365 , not working   \n",
       "3   1018957  Client Mail box needs to be configure in outlook   \n",
       "4    801584                   Client need to install software   \n",
       "\n",
       "                                            unclean  \n",
       "0                        Class bandwidth Allocation  \n",
       "1                             Classification change  \n",
       "2           client latop – office 365 , not working  \n",
       "3  Client Mail box needs to be configure in outlook  \n",
       "4                   Client need to install software  "
      ]
     },
     "execution_count": 142,
     "metadata": {},
     "output_type": "execute_result"
    }
   ],
   "source": [
    "ticket_df.head()"
   ]
  },
  {
   "cell_type": "code",
   "execution_count": 143,
   "metadata": {
    "collapsed": false
   },
   "outputs": [],
   "source": [
    "# To remove punchuation, numbers and converting the string to lower\n",
    "ticket_df['Summary'] = ticket_df['Summary'].str.lower().str.replace(r'[^a-z\\s]', '')\n"
   ]
  },
  {
   "cell_type": "code",
   "execution_count": 144,
   "metadata": {
    "collapsed": false
   },
   "outputs": [
    {
     "data": {
      "text/html": [
       "<div>\n",
       "<table border=\"1\" class=\"dataframe\">\n",
       "  <thead>\n",
       "    <tr style=\"text-align: right;\">\n",
       "      <th></th>\n",
       "      <th>TicketID</th>\n",
       "      <th>Summary</th>\n",
       "      <th>unclean</th>\n",
       "    </tr>\n",
       "  </thead>\n",
       "  <tbody>\n",
       "    <tr>\n",
       "      <th>0</th>\n",
       "      <td>543244</td>\n",
       "      <td>class bandwidth allocation</td>\n",
       "      <td>Class bandwidth Allocation</td>\n",
       "    </tr>\n",
       "    <tr>\n",
       "      <th>1</th>\n",
       "      <td>675379</td>\n",
       "      <td>classification change</td>\n",
       "      <td>Classification change</td>\n",
       "    </tr>\n",
       "    <tr>\n",
       "      <th>2</th>\n",
       "      <td>1077865</td>\n",
       "      <td>client latop  office   not working</td>\n",
       "      <td>client latop – office 365 , not working</td>\n",
       "    </tr>\n",
       "    <tr>\n",
       "      <th>3</th>\n",
       "      <td>1018957</td>\n",
       "      <td>client mail box needs to be configure in outlook</td>\n",
       "      <td>Client Mail box needs to be configure in outlook</td>\n",
       "    </tr>\n",
       "    <tr>\n",
       "      <th>4</th>\n",
       "      <td>801584</td>\n",
       "      <td>client need to install software</td>\n",
       "      <td>Client need to install software</td>\n",
       "    </tr>\n",
       "  </tbody>\n",
       "</table>\n",
       "</div>"
      ],
      "text/plain": [
       "   TicketID                                           Summary  \\\n",
       "0    543244                        class bandwidth allocation   \n",
       "1    675379                             classification change   \n",
       "2   1077865                client latop  office   not working   \n",
       "3   1018957  client mail box needs to be configure in outlook   \n",
       "4    801584                   client need to install software   \n",
       "\n",
       "                                            unclean  \n",
       "0                        Class bandwidth Allocation  \n",
       "1                             Classification change  \n",
       "2           client latop – office 365 , not working  \n",
       "3  Client Mail box needs to be configure in outlook  \n",
       "4                   Client need to install software  "
      ]
     },
     "execution_count": 144,
     "metadata": {},
     "output_type": "execute_result"
    }
   ],
   "source": [
    "ticket_df.head()    "
   ]
  },
  {
   "cell_type": "code",
   "execution_count": null,
   "metadata": {
    "collapsed": true
   },
   "outputs": [],
   "source": []
  },
  {
   "cell_type": "code",
   "execution_count": 145,
   "metadata": {
    "collapsed": false
   },
   "outputs": [],
   "source": [
    "nlp.Defaults.stop_words.add('thanks')\n",
    "nlp.Defaults.stop_words.add('please')\n",
    "nlp.Defaults.stop_words.add('team')\n",
    "nlp.Defaults.stop_words.add('dear')\n",
    "nlp.Defaults.stop_words.add('hi')"
   ]
  },
  {
   "cell_type": "code",
   "execution_count": 146,
   "metadata": {
    "collapsed": false
   },
   "outputs": [
    {
     "ename": "KeyError",
     "evalue": "'not'",
     "output_type": "error",
     "traceback": [
      "\u001b[1;31m---------------------------------------------------------------------------\u001b[0m",
      "\u001b[1;31mKeyError\u001b[0m                                  Traceback (most recent call last)",
      "\u001b[1;32m<ipython-input-146-40411a0e944f>\u001b[0m in \u001b[0;36m<module>\u001b[1;34m()\u001b[0m\n\u001b[1;32m----> 1\u001b[1;33m \u001b[0mnlp\u001b[0m\u001b[1;33m.\u001b[0m\u001b[0mDefaults\u001b[0m\u001b[1;33m.\u001b[0m\u001b[0mstop_words\u001b[0m\u001b[1;33m.\u001b[0m\u001b[0mremove\u001b[0m\u001b[1;33m(\u001b[0m\u001b[1;34m'not'\u001b[0m\u001b[1;33m)\u001b[0m\u001b[1;33m\u001b[0m\u001b[0m\n\u001b[0m\u001b[0;32m      2\u001b[0m \u001b[0mnlp\u001b[0m\u001b[1;33m.\u001b[0m\u001b[0mDefaults\u001b[0m\u001b[1;33m.\u001b[0m\u001b[0mstop_words\u001b[0m\u001b[1;33m.\u001b[0m\u001b[0mremove\u001b[0m\u001b[1;33m(\u001b[0m\u001b[1;34m'cannot'\u001b[0m\u001b[1;33m)\u001b[0m\u001b[1;33m\u001b[0m\u001b[0m\n\u001b[0;32m      3\u001b[0m \u001b[0mnlp\u001b[0m\u001b[1;33m.\u001b[0m\u001b[0mDefaults\u001b[0m\u001b[1;33m.\u001b[0m\u001b[0mstop_words\u001b[0m\u001b[1;33m.\u001b[0m\u001b[0mremove\u001b[0m\u001b[1;33m(\u001b[0m\u001b[1;34m'nothing'\u001b[0m\u001b[1;33m)\u001b[0m\u001b[1;33m\u001b[0m\u001b[0m\n",
      "\u001b[1;31mKeyError\u001b[0m: 'not'"
     ]
    }
   ],
   "source": [
    "nlp.Defaults.stop_words.remove('not')\n",
    "nlp.Defaults.stop_words.remove('cannot')\n",
    "nlp.Defaults.stop_words.remove('nothing')"
   ]
  },
  {
   "cell_type": "code",
   "execution_count": 147,
   "metadata": {
    "collapsed": true
   },
   "outputs": [],
   "source": [
    "stop_words=nlp.Defaults.stop_words"
   ]
  },
  {
   "cell_type": "code",
   "execution_count": 148,
   "metadata": {
    "collapsed": true
   },
   "outputs": [],
   "source": [
    "\n",
    "\n",
    "ticket_df['Summary'] = ticket_df['Summary'].apply(lambda x: \" \".join(x for x in x.split() if x not in stop_words))"
   ]
  },
  {
   "cell_type": "code",
   "execution_count": 149,
   "metadata": {
    "collapsed": true
   },
   "outputs": [],
   "source": [
    "ticket_df['Summary'] = ticket_df['Summary'].apply(lambda x: \" \".join(x for x in x.split() if len(x)>=2 and len(x)<15))"
   ]
  },
  {
   "cell_type": "code",
   "execution_count": 150,
   "metadata": {
    "collapsed": true
   },
   "outputs": [],
   "source": [
    "ticket_df['Summary']= ticket_df['Summary'].apply(lambda row: \" \".join([w.lemma_ for w in nlp(row)]))"
   ]
  },
  {
   "cell_type": "code",
   "execution_count": 151,
   "metadata": {
    "collapsed": false
   },
   "outputs": [
    {
     "data": {
      "text/html": [
       "<div>\n",
       "<table border=\"1\" class=\"dataframe\">\n",
       "  <thead>\n",
       "    <tr style=\"text-align: right;\">\n",
       "      <th></th>\n",
       "      <th>TicketID</th>\n",
       "      <th>Summary</th>\n",
       "      <th>unclean</th>\n",
       "    </tr>\n",
       "  </thead>\n",
       "  <tbody>\n",
       "    <tr>\n",
       "      <th>0</th>\n",
       "      <td>543244</td>\n",
       "      <td>class bandwidth allocation</td>\n",
       "      <td>Class bandwidth Allocation</td>\n",
       "    </tr>\n",
       "    <tr>\n",
       "      <th>1</th>\n",
       "      <td>675379</td>\n",
       "      <td>classification change</td>\n",
       "      <td>Classification change</td>\n",
       "    </tr>\n",
       "    <tr>\n",
       "      <th>2</th>\n",
       "      <td>1077865</td>\n",
       "      <td>client latop office not work</td>\n",
       "      <td>client latop – office 365 , not working</td>\n",
       "    </tr>\n",
       "    <tr>\n",
       "      <th>3</th>\n",
       "      <td>1018957</td>\n",
       "      <td>client mail box need configure outlook</td>\n",
       "      <td>Client Mail box needs to be configure in outlook</td>\n",
       "    </tr>\n",
       "    <tr>\n",
       "      <th>4</th>\n",
       "      <td>801584</td>\n",
       "      <td>client need install software</td>\n",
       "      <td>Client need to install software</td>\n",
       "    </tr>\n",
       "  </tbody>\n",
       "</table>\n",
       "</div>"
      ],
      "text/plain": [
       "   TicketID                                 Summary  \\\n",
       "0    543244              class bandwidth allocation   \n",
       "1    675379                   classification change   \n",
       "2   1077865            client latop office not work   \n",
       "3   1018957  client mail box need configure outlook   \n",
       "4    801584            client need install software   \n",
       "\n",
       "                                            unclean  \n",
       "0                        Class bandwidth Allocation  \n",
       "1                             Classification change  \n",
       "2           client latop – office 365 , not working  \n",
       "3  Client Mail box needs to be configure in outlook  \n",
       "4                   Client need to install software  "
      ]
     },
     "execution_count": 151,
     "metadata": {},
     "output_type": "execute_result"
    }
   ],
   "source": [
    "ticket_df.head()"
   ]
  },
  {
   "cell_type": "code",
   "execution_count": 152,
   "metadata": {
    "collapsed": true
   },
   "outputs": [],
   "source": [
    "\n",
    "\n",
    "def get_ngrams(text, n ):\n",
    "    n_grams = ngrams(word_tokenize(text), n)\n",
    "    return [ ' '.join(grams) for grams in n_grams]"
   ]
  },
  {
   "cell_type": "code",
   "execution_count": 30,
   "metadata": {
    "collapsed": false
   },
   "outputs": [],
   "source": [
    "# ticket_df.to_csv('final words.csv')"
   ]
  },
  {
   "cell_type": "code",
   "execution_count": 124,
   "metadata": {
    "collapsed": false
   },
   "outputs": [],
   "source": []
  },
  {
   "cell_type": "code",
   "execution_count": 153,
   "metadata": {
    "collapsed": false
   },
   "outputs": [],
   "source": [
    "\n",
    "ui=collections.Counter()\n",
    "\n",
    "for i in ticket_df['Summary']:\n",
    "    x = i.rstrip().split(\" \")\n",
    "    ui.update(ngrams(x, n=1))"
   ]
  },
  {
   "cell_type": "code",
   "execution_count": null,
   "metadata": {
    "collapsed": false
   },
   "outputs": [],
   "source": []
  },
  {
   "cell_type": "code",
   "execution_count": 154,
   "metadata": {
    "collapsed": true
   },
   "outputs": [],
   "source": [
    "ui_counter = pd.DataFrame.from_dict(ui, orient='index')\n",
    "ui_counter.to_csv('uigrams.csv')\n",
    "ui_df=pd.read_csv('uigrams.csv',index_col=False)\n",
    "ui_df['Unnamed: 0'] = ui_df['Unnamed: 0'].str.lower().str.replace(r'[^a-z\\s]', '')\n",
    "dict_ui=ui_df.set_index('Unnamed: 0')['0'].to_dict()"
   ]
  },
  {
   "cell_type": "code",
   "execution_count": null,
   "metadata": {
    "collapsed": false
   },
   "outputs": [],
   "source": []
  },
  {
   "cell_type": "code",
   "execution_count": 155,
   "metadata": {
    "collapsed": false
   },
   "outputs": [],
   "source": [
    "\n",
    "bi=collections.Counter()\n",
    "for i in ticket_df['Summary']:\n",
    "    x = i.rstrip().split(\" \")\n",
    "    bi.update(set(zip(x[:-1],x[1:])))"
   ]
  },
  {
   "cell_type": "code",
   "execution_count": null,
   "metadata": {
    "collapsed": false
   },
   "outputs": [],
   "source": []
  },
  {
   "cell_type": "code",
   "execution_count": 156,
   "metadata": {
    "collapsed": false
   },
   "outputs": [],
   "source": [
    "bigram_counter = pd.DataFrame.from_dict(bi, orient='index')\n",
    "bigram_counter.to_csv('bigrams.csv')\n",
    "bigram_df=pd.read_csv('bigrams.csv',index_col=False)\n",
    "bigram_df['Unnamed: 0'] = bigram_df['Unnamed: 0'].str.lower().str.replace(r'[^a-z\\s]', '')\n",
    "dict_bigram=bigram_df.set_index('Unnamed: 0')['0'].to_dict()"
   ]
  },
  {
   "cell_type": "code",
   "execution_count": null,
   "metadata": {
    "collapsed": false
   },
   "outputs": [],
   "source": []
  },
  {
   "cell_type": "code",
   "execution_count": 157,
   "metadata": {
    "collapsed": false,
    "scrolled": true
   },
   "outputs": [],
   "source": [
    "\n",
    "tri=collections.Counter()\n",
    "for i in ticket_df['Summary']:\n",
    "    x = i.rstrip().split(\" \")\n",
    "    tri.update(set(zip(x[:-2],x[1:-1],x[2:])))"
   ]
  },
  {
   "cell_type": "code",
   "execution_count": 158,
   "metadata": {
    "collapsed": false
   },
   "outputs": [],
   "source": [
    "trigram_counter = pd.DataFrame.from_dict(tri, orient='index')\n",
    "trigram_counter.to_csv('trigram.csv')"
   ]
  },
  {
   "cell_type": "code",
   "execution_count": 159,
   "metadata": {
    "collapsed": false,
    "scrolled": true
   },
   "outputs": [],
   "source": [
    "trigram_df=pd.read_csv('trigram.csv',index_col=False)\n",
    "trigram_df['Unnamed: 0'] = trigram_df['Unnamed: 0'].str.lower().str.replace(r'[^a-z\\s]', '')\n",
    "dict_trigram=trigram_df.set_index('Unnamed: 0')['0'].to_dict()"
   ]
  },
  {
   "cell_type": "code",
   "execution_count": 160,
   "metadata": {
    "collapsed": false
   },
   "outputs": [],
   "source": [
    "\n",
    "four=collections.Counter()\n",
    "\n",
    "for i in ticket_df['Summary']:\n",
    "    x = i.rstrip().split(\" \")\n",
    "    four.update(ngrams(x, n=4))"
   ]
  },
  {
   "cell_type": "code",
   "execution_count": 161,
   "metadata": {
    "collapsed": false
   },
   "outputs": [],
   "source": [
    "fourgram_counter = pd.DataFrame.from_dict(four, orient='index')\n",
    "fourgram_counter.to_csv('fourgram.csv')\n",
    "fourgram_df=pd.read_csv('fourgram.csv',index_col=False)\n",
    "fourgram_df['Unnamed: 0'] = fourgram_df['Unnamed: 0'].str.lower().str.replace(r'[^a-z\\s]', '')\n",
    "dict_four=fourgram_df.set_index('Unnamed: 0')['0'].to_dict()"
   ]
  },
  {
   "cell_type": "code",
   "execution_count": null,
   "metadata": {
    "collapsed": false,
    "scrolled": true
   },
   "outputs": [],
   "source": []
  },
  {
   "cell_type": "code",
   "execution_count": 162,
   "metadata": {
    "collapsed": false
   },
   "outputs": [],
   "source": [
    "\n",
    "def top_grams(dicti, N):\n",
    "    res_topgram=[]\n",
    "    for text in ticket_df['Summary']:  \n",
    "\n",
    "        comp_list=get_ngrams(text,N)\n",
    "        n = {k: dicti[k] for k in comp_list if k in dicti}\n",
    "        flag=bool(n)\n",
    "        res=''\n",
    "        if flag==True:\n",
    "            res=max(n, key=n.get)\n",
    "        else:\n",
    "            res='No Pattern'\n",
    "        res_topgram.append(res)\n",
    "        \n",
    "    return res_topgram"
   ]
  },
  {
   "cell_type": "code",
   "execution_count": null,
   "metadata": {
    "collapsed": false
   },
   "outputs": [],
   "source": []
  },
  {
   "cell_type": "code",
   "execution_count": 163,
   "metadata": {
    "collapsed": false
   },
   "outputs": [],
   "source": [
    "\n",
    "res_bigram=top_grams(dict_ui,1)\n",
    "ticket_df['Top1Grams']=pd.DataFrame({'Top1Grams':res_bigram})"
   ]
  },
  {
   "cell_type": "code",
   "execution_count": null,
   "metadata": {
    "collapsed": true
   },
   "outputs": [],
   "source": []
  },
  {
   "cell_type": "code",
   "execution_count": 164,
   "metadata": {
    "collapsed": false
   },
   "outputs": [],
   "source": [
    "\n",
    "res_bigram=top_grams(dict_bigram,2)\n",
    "ticket_df['Top2Grams']=pd.DataFrame({'Top2Grams':res_bigram})"
   ]
  },
  {
   "cell_type": "code",
   "execution_count": 165,
   "metadata": {
    "collapsed": false
   },
   "outputs": [
    {
     "data": {
      "text/html": [
       "<div>\n",
       "<table border=\"1\" class=\"dataframe\">\n",
       "  <thead>\n",
       "    <tr style=\"text-align: right;\">\n",
       "      <th></th>\n",
       "      <th>TicketID</th>\n",
       "      <th>Summary</th>\n",
       "      <th>unclean</th>\n",
       "      <th>Top1Grams</th>\n",
       "      <th>Top2Grams</th>\n",
       "    </tr>\n",
       "  </thead>\n",
       "  <tbody>\n",
       "    <tr>\n",
       "      <th>0</th>\n",
       "      <td>543244</td>\n",
       "      <td>class bandwidth allocation</td>\n",
       "      <td>Class bandwidth Allocation</td>\n",
       "      <td>class</td>\n",
       "      <td>class bandwidth</td>\n",
       "    </tr>\n",
       "    <tr>\n",
       "      <th>1</th>\n",
       "      <td>675379</td>\n",
       "      <td>classification change</td>\n",
       "      <td>Classification change</td>\n",
       "      <td>change</td>\n",
       "      <td>classification change</td>\n",
       "    </tr>\n",
       "    <tr>\n",
       "      <th>2</th>\n",
       "      <td>1077865</td>\n",
       "      <td>client latop office not work</td>\n",
       "      <td>client latop – office 365 , not working</td>\n",
       "      <td>not</td>\n",
       "      <td>not work</td>\n",
       "    </tr>\n",
       "    <tr>\n",
       "      <th>3</th>\n",
       "      <td>1018957</td>\n",
       "      <td>client mail box need configure outlook</td>\n",
       "      <td>Client Mail box needs to be configure in outlook</td>\n",
       "      <td>need</td>\n",
       "      <td>need configure</td>\n",
       "    </tr>\n",
       "    <tr>\n",
       "      <th>4</th>\n",
       "      <td>801584</td>\n",
       "      <td>client need install software</td>\n",
       "      <td>Client need to install software</td>\n",
       "      <td>need</td>\n",
       "      <td>install software</td>\n",
       "    </tr>\n",
       "  </tbody>\n",
       "</table>\n",
       "</div>"
      ],
      "text/plain": [
       "   TicketID                                 Summary  \\\n",
       "0    543244              class bandwidth allocation   \n",
       "1    675379                   classification change   \n",
       "2   1077865            client latop office not work   \n",
       "3   1018957  client mail box need configure outlook   \n",
       "4    801584            client need install software   \n",
       "\n",
       "                                            unclean Top1Grams  \\\n",
       "0                        Class bandwidth Allocation     class   \n",
       "1                             Classification change    change   \n",
       "2           client latop – office 365 , not working       not   \n",
       "3  Client Mail box needs to be configure in outlook      need   \n",
       "4                   Client need to install software      need   \n",
       "\n",
       "               Top2Grams  \n",
       "0        class bandwidth  \n",
       "1  classification change  \n",
       "2               not work  \n",
       "3         need configure  \n",
       "4       install software  "
      ]
     },
     "execution_count": 165,
     "metadata": {},
     "output_type": "execute_result"
    }
   ],
   "source": [
    "ticket_df.head()\n"
   ]
  },
  {
   "cell_type": "code",
   "execution_count": 166,
   "metadata": {
    "collapsed": true
   },
   "outputs": [],
   "source": [
    "res_trigram=top_grams(dict_trigram, 3)\n",
    "ticket_df['Top3Grams']=pd.DataFrame({'Top3Grams':res_trigram})"
   ]
  },
  {
   "cell_type": "code",
   "execution_count": 167,
   "metadata": {
    "collapsed": false
   },
   "outputs": [
    {
     "data": {
      "text/html": [
       "<div>\n",
       "<table border=\"1\" class=\"dataframe\">\n",
       "  <thead>\n",
       "    <tr style=\"text-align: right;\">\n",
       "      <th></th>\n",
       "      <th>TicketID</th>\n",
       "      <th>Summary</th>\n",
       "      <th>unclean</th>\n",
       "      <th>Top1Grams</th>\n",
       "      <th>Top2Grams</th>\n",
       "      <th>Top3Grams</th>\n",
       "    </tr>\n",
       "  </thead>\n",
       "  <tbody>\n",
       "    <tr>\n",
       "      <th>0</th>\n",
       "      <td>543244</td>\n",
       "      <td>class bandwidth allocation</td>\n",
       "      <td>Class bandwidth Allocation</td>\n",
       "      <td>class</td>\n",
       "      <td>class bandwidth</td>\n",
       "      <td>class bandwidth allocation</td>\n",
       "    </tr>\n",
       "    <tr>\n",
       "      <th>1</th>\n",
       "      <td>675379</td>\n",
       "      <td>classification change</td>\n",
       "      <td>Classification change</td>\n",
       "      <td>change</td>\n",
       "      <td>classification change</td>\n",
       "      <td>No Pattern</td>\n",
       "    </tr>\n",
       "    <tr>\n",
       "      <th>2</th>\n",
       "      <td>1077865</td>\n",
       "      <td>client latop office not work</td>\n",
       "      <td>client latop – office 365 , not working</td>\n",
       "      <td>not</td>\n",
       "      <td>not work</td>\n",
       "      <td>office not work</td>\n",
       "    </tr>\n",
       "    <tr>\n",
       "      <th>3</th>\n",
       "      <td>1018957</td>\n",
       "      <td>client mail box need configure outlook</td>\n",
       "      <td>Client Mail box needs to be configure in outlook</td>\n",
       "      <td>need</td>\n",
       "      <td>need configure</td>\n",
       "      <td>mail box need</td>\n",
       "    </tr>\n",
       "    <tr>\n",
       "      <th>4</th>\n",
       "      <td>801584</td>\n",
       "      <td>client need install software</td>\n",
       "      <td>Client need to install software</td>\n",
       "      <td>need</td>\n",
       "      <td>install software</td>\n",
       "      <td>client need install</td>\n",
       "    </tr>\n",
       "  </tbody>\n",
       "</table>\n",
       "</div>"
      ],
      "text/plain": [
       "   TicketID                                 Summary  \\\n",
       "0    543244              class bandwidth allocation   \n",
       "1    675379                   classification change   \n",
       "2   1077865            client latop office not work   \n",
       "3   1018957  client mail box need configure outlook   \n",
       "4    801584            client need install software   \n",
       "\n",
       "                                            unclean Top1Grams  \\\n",
       "0                        Class bandwidth Allocation     class   \n",
       "1                             Classification change    change   \n",
       "2           client latop – office 365 , not working       not   \n",
       "3  Client Mail box needs to be configure in outlook      need   \n",
       "4                   Client need to install software      need   \n",
       "\n",
       "               Top2Grams                   Top3Grams  \n",
       "0        class bandwidth  class bandwidth allocation  \n",
       "1  classification change                  No Pattern  \n",
       "2               not work             office not work  \n",
       "3         need configure               mail box need  \n",
       "4       install software         client need install  "
      ]
     },
     "execution_count": 167,
     "metadata": {},
     "output_type": "execute_result"
    }
   ],
   "source": [
    "ticket_df.head()\n"
   ]
  },
  {
   "cell_type": "code",
   "execution_count": 168,
   "metadata": {
    "collapsed": false
   },
   "outputs": [],
   "source": [
    "\n",
    "res_fourgram=top_grams(dict_four,4)\n",
    "ticket_df['Top4Grams']=pd.DataFrame({'Top4Grams':res_fourgram})"
   ]
  },
  {
   "cell_type": "code",
   "execution_count": 169,
   "metadata": {
    "collapsed": false
   },
   "outputs": [
    {
     "data": {
      "text/html": [
       "<div>\n",
       "<table border=\"1\" class=\"dataframe\">\n",
       "  <thead>\n",
       "    <tr style=\"text-align: right;\">\n",
       "      <th></th>\n",
       "      <th>TicketID</th>\n",
       "      <th>Summary</th>\n",
       "      <th>unclean</th>\n",
       "      <th>Top1Grams</th>\n",
       "      <th>Top2Grams</th>\n",
       "      <th>Top3Grams</th>\n",
       "      <th>Top4Grams</th>\n",
       "    </tr>\n",
       "  </thead>\n",
       "  <tbody>\n",
       "    <tr>\n",
       "      <th>2556</th>\n",
       "      <td>803493</td>\n",
       "      <td>need bind mac address schwab ec</td>\n",
       "      <td>Need to bind the mac address on schwab @ EC</td>\n",
       "      <td>need</td>\n",
       "      <td>mac address</td>\n",
       "      <td>bind mac address</td>\n",
       "      <td>need bind mac address</td>\n",
       "    </tr>\n",
       "    <tr>\n",
       "      <th>2557</th>\n",
       "      <td>431839</td>\n",
       "      <td>need bind mac address schwab ec</td>\n",
       "      <td>Need to bind the mac address on schwab @ EC</td>\n",
       "      <td>need</td>\n",
       "      <td>mac address</td>\n",
       "      <td>bind mac address</td>\n",
       "      <td>need bind mac address</td>\n",
       "    </tr>\n",
       "    <tr>\n",
       "      <th>2558</th>\n",
       "      <td>896847</td>\n",
       "      <td>need bind mac address schwab sjp</td>\n",
       "      <td>Need to bind the mac address on schwab @ SJP</td>\n",
       "      <td>need</td>\n",
       "      <td>mac address</td>\n",
       "      <td>bind mac address</td>\n",
       "      <td>need bind mac address</td>\n",
       "    </tr>\n",
       "    <tr>\n",
       "      <th>2559</th>\n",
       "      <td>619910</td>\n",
       "      <td>need bind mac address schwab sjp</td>\n",
       "      <td>Need to bind the mac address on schwab @ SJP</td>\n",
       "      <td>need</td>\n",
       "      <td>mac address</td>\n",
       "      <td>bind mac address</td>\n",
       "      <td>need bind mac address</td>\n",
       "    </tr>\n",
       "    <tr>\n",
       "      <th>2560</th>\n",
       "      <td>796602</td>\n",
       "      <td>need bit lokcer encryption key</td>\n",
       "      <td>Need to Bit lokcer encryption key</td>\n",
       "      <td>need</td>\n",
       "      <td>lokcer encryption</td>\n",
       "      <td>lokcer encryption key</td>\n",
       "      <td>bit lokcer encryption key</td>\n",
       "    </tr>\n",
       "  </tbody>\n",
       "</table>\n",
       "</div>"
      ],
      "text/plain": [
       "      TicketID                           Summary  \\\n",
       "2556    803493   need bind mac address schwab ec   \n",
       "2557    431839   need bind mac address schwab ec   \n",
       "2558    896847  need bind mac address schwab sjp   \n",
       "2559    619910  need bind mac address schwab sjp   \n",
       "2560    796602    need bit lokcer encryption key   \n",
       "\n",
       "                                           unclean Top1Grams  \\\n",
       "2556   Need to bind the mac address on schwab @ EC      need   \n",
       "2557   Need to bind the mac address on schwab @ EC      need   \n",
       "2558  Need to bind the mac address on schwab @ SJP      need   \n",
       "2559  Need to bind the mac address on schwab @ SJP      need   \n",
       "2560             Need to Bit lokcer encryption key      need   \n",
       "\n",
       "              Top2Grams              Top3Grams                  Top4Grams  \n",
       "2556        mac address       bind mac address      need bind mac address  \n",
       "2557        mac address       bind mac address      need bind mac address  \n",
       "2558        mac address       bind mac address      need bind mac address  \n",
       "2559        mac address       bind mac address      need bind mac address  \n",
       "2560  lokcer encryption  lokcer encryption key  bit lokcer encryption key  "
      ]
     },
     "execution_count": 169,
     "metadata": {},
     "output_type": "execute_result"
    }
   ],
   "source": [
    "ticket_df.tail()"
   ]
  },
  {
   "cell_type": "code",
   "execution_count": 170,
   "metadata": {
    "collapsed": false
   },
   "outputs": [],
   "source": [
    "ticket_df.to_csv('ticket_df_with_topgrams.csv')"
   ]
  },
  {
   "cell_type": "code",
   "execution_count": 171,
   "metadata": {
    "collapsed": false
   },
   "outputs": [],
   "source": [
    "path = os.chdir('C://Users//ar393556//Documents//Ticket grams//CIKeyword')\n",
    "files = os.listdir(path)\n",
    "\n",
    "automation_df=pd.read_excel('CIKeywords.xlsx')"
   ]
  },
  {
   "cell_type": "code",
   "execution_count": 172,
   "metadata": {
    "collapsed": false
   },
   "outputs": [
    {
     "data": {
      "text/html": [
       "<div>\n",
       "<table border=\"1\" class=\"dataframe\">\n",
       "  <thead>\n",
       "    <tr style=\"text-align: right;\">\n",
       "      <th></th>\n",
       "      <th>Keyword</th>\n",
       "      <th>Description</th>\n",
       "      <th>Group-Classification</th>\n",
       "      <th>AutomationCategory</th>\n",
       "      <th>Weight</th>\n",
       "      <th>SearchType</th>\n",
       "    </tr>\n",
       "  </thead>\n",
       "  <tbody>\n",
       "    <tr>\n",
       "      <th>0</th>\n",
       "      <td>*overrunning*</td>\n",
       "      <td>NaN</td>\n",
       "      <td>NaN</td>\n",
       "      <td>Evaluate for Automation</td>\n",
       "      <td>1</td>\n",
       "      <td>0</td>\n",
       "    </tr>\n",
       "    <tr>\n",
       "      <th>1</th>\n",
       "      <td>*monitoring*</td>\n",
       "      <td>NaN</td>\n",
       "      <td>NaN</td>\n",
       "      <td>Service Improvement</td>\n",
       "      <td>1</td>\n",
       "      <td>0</td>\n",
       "    </tr>\n",
       "    <tr>\n",
       "      <th>2</th>\n",
       "      <td>*conference*</td>\n",
       "      <td>NaN</td>\n",
       "      <td>NaN</td>\n",
       "      <td>Service Improvement</td>\n",
       "      <td>1</td>\n",
       "      <td>0</td>\n",
       "    </tr>\n",
       "    <tr>\n",
       "      <th>3</th>\n",
       "      <td>*dutymanager*</td>\n",
       "      <td>NaN</td>\n",
       "      <td>NaN</td>\n",
       "      <td>Not Likely Automatable</td>\n",
       "      <td>1</td>\n",
       "      <td>0</td>\n",
       "    </tr>\n",
       "    <tr>\n",
       "      <th>4</th>\n",
       "      <td>*smartcard*</td>\n",
       "      <td>NaN</td>\n",
       "      <td>NaN</td>\n",
       "      <td>Evaluate for Automation</td>\n",
       "      <td>1</td>\n",
       "      <td>0</td>\n",
       "    </tr>\n",
       "  </tbody>\n",
       "</table>\n",
       "</div>"
      ],
      "text/plain": [
       "         Keyword Description  Group-Classification       AutomationCategory  \\\n",
       "0  *overrunning*         NaN                   NaN  Evaluate for Automation   \n",
       "1   *monitoring*         NaN                   NaN      Service Improvement   \n",
       "2   *conference*         NaN                   NaN      Service Improvement   \n",
       "3  *dutymanager*         NaN                   NaN   Not Likely Automatable   \n",
       "4    *smartcard*         NaN                   NaN  Evaluate for Automation   \n",
       "\n",
       "   Weight  SearchType  \n",
       "0       1           0  \n",
       "1       1           0  \n",
       "2       1           0  \n",
       "3       1           0  \n",
       "4       1           0  "
      ]
     },
     "execution_count": 172,
     "metadata": {},
     "output_type": "execute_result"
    }
   ],
   "source": [
    "automation_df.head()"
   ]
  },
  {
   "cell_type": "code",
   "execution_count": 173,
   "metadata": {
    "collapsed": false
   },
   "outputs": [],
   "source": [
    "automation_df['Keyword']=automation_df['Keyword'].apply(lambda x: x.strip(punctuation))\n",
    "automation_df['Keyword']=automation_df['Keyword'].str.replace('*',' ')"
   ]
  },
  {
   "cell_type": "code",
   "execution_count": 174,
   "metadata": {
    "collapsed": false
   },
   "outputs": [],
   "source": [
    "# To remove punchuation, numbers and converting the string to lower\n",
    "automation_df['Keyword']=automation_df['Keyword'].str.lower()"
   ]
  },
  {
   "cell_type": "code",
   "execution_count": 175,
   "metadata": {
    "collapsed": false
   },
   "outputs": [],
   "source": [
    "automation_df['Keyword']=automation_df['Keyword'].apply(lambda row: \" \".join([w.lemma_ for w in nlp(row)]))"
   ]
  },
  {
   "cell_type": "code",
   "execution_count": 176,
   "metadata": {
    "collapsed": false
   },
   "outputs": [
    {
     "data": {
      "text/html": [
       "<div>\n",
       "<table border=\"1\" class=\"dataframe\">\n",
       "  <thead>\n",
       "    <tr style=\"text-align: right;\">\n",
       "      <th></th>\n",
       "      <th>Keyword</th>\n",
       "      <th>Description</th>\n",
       "      <th>Group-Classification</th>\n",
       "      <th>AutomationCategory</th>\n",
       "      <th>Weight</th>\n",
       "      <th>SearchType</th>\n",
       "    </tr>\n",
       "  </thead>\n",
       "  <tbody>\n",
       "    <tr>\n",
       "      <th>0</th>\n",
       "      <td>overrun</td>\n",
       "      <td>NaN</td>\n",
       "      <td>NaN</td>\n",
       "      <td>Evaluate for Automation</td>\n",
       "      <td>1</td>\n",
       "      <td>0</td>\n",
       "    </tr>\n",
       "    <tr>\n",
       "      <th>1</th>\n",
       "      <td>monitor</td>\n",
       "      <td>NaN</td>\n",
       "      <td>NaN</td>\n",
       "      <td>Service Improvement</td>\n",
       "      <td>1</td>\n",
       "      <td>0</td>\n",
       "    </tr>\n",
       "    <tr>\n",
       "      <th>2</th>\n",
       "      <td>conference</td>\n",
       "      <td>NaN</td>\n",
       "      <td>NaN</td>\n",
       "      <td>Service Improvement</td>\n",
       "      <td>1</td>\n",
       "      <td>0</td>\n",
       "    </tr>\n",
       "    <tr>\n",
       "      <th>3</th>\n",
       "      <td>dutymanager</td>\n",
       "      <td>NaN</td>\n",
       "      <td>NaN</td>\n",
       "      <td>Not Likely Automatable</td>\n",
       "      <td>1</td>\n",
       "      <td>0</td>\n",
       "    </tr>\n",
       "    <tr>\n",
       "      <th>4</th>\n",
       "      <td>smartcard</td>\n",
       "      <td>NaN</td>\n",
       "      <td>NaN</td>\n",
       "      <td>Evaluate for Automation</td>\n",
       "      <td>1</td>\n",
       "      <td>0</td>\n",
       "    </tr>\n",
       "  </tbody>\n",
       "</table>\n",
       "</div>"
      ],
      "text/plain": [
       "       Keyword Description  Group-Classification       AutomationCategory  \\\n",
       "0      overrun         NaN                   NaN  Evaluate for Automation   \n",
       "1      monitor         NaN                   NaN      Service Improvement   \n",
       "2   conference         NaN                   NaN      Service Improvement   \n",
       "3  dutymanager         NaN                   NaN   Not Likely Automatable   \n",
       "4    smartcard         NaN                   NaN  Evaluate for Automation   \n",
       "\n",
       "   Weight  SearchType  \n",
       "0       1           0  \n",
       "1       1           0  \n",
       "2       1           0  \n",
       "3       1           0  \n",
       "4       1           0  "
      ]
     },
     "execution_count": 176,
     "metadata": {},
     "output_type": "execute_result"
    }
   ],
   "source": [
    "automation_df.head()"
   ]
  },
  {
   "cell_type": "code",
   "execution_count": 177,
   "metadata": {
    "collapsed": true
   },
   "outputs": [],
   "source": [
    "dict_keyword=automation_df.set_index('Keyword')['Weight'].to_dict()\n"
   ]
  },
  {
   "cell_type": "code",
   "execution_count": 178,
   "metadata": {
    "collapsed": true
   },
   "outputs": [],
   "source": [
    "dict_automation_text=automation_df.set_index('Keyword')['AutomationCategory'].to_dict()"
   ]
  },
  {
   "cell_type": "code",
   "execution_count": 179,
   "metadata": {
    "collapsed": false
   },
   "outputs": [
    {
     "data": {
      "text/plain": [
       "2561"
      ]
     },
     "execution_count": 179,
     "metadata": {},
     "output_type": "execute_result"
    }
   ],
   "source": [
    "len(ticket_df)"
   ]
  },
  {
   "cell_type": "code",
   "execution_count": 180,
   "metadata": {
    "collapsed": false
   },
   "outputs": [],
   "source": [
    "automation_col=[]\n",
    "# for i in columns:\n",
    "for record in range(0,len(ticket_df)):\n",
    "    \n",
    "    grams_list_record=[]\n",
    "    grams_list_record.append(ticket_df['Top1Grams'][record])\n",
    "    grams_list_record.append(ticket_df['Top2Grams'][record])\n",
    "    grams_list_record.append(ticket_df['Top3Grams'][record])\n",
    "    n = {k: dict_keyword[k] for k in grams_list_record if k in dict_keyword}\n",
    "    \n",
    "    flag=bool(n)\n",
    "    res=''\n",
    "    if flag==True:\n",
    "        res=max(n, key=n.get)\n",
    "    else:\n",
    "        res=''\n",
    "    automation_col.append(res)"
   ]
  },
  {
   "cell_type": "code",
   "execution_count": 181,
   "metadata": {
    "collapsed": false
   },
   "outputs": [
    {
     "data": {
      "text/plain": [
       "2561"
      ]
     },
     "execution_count": 181,
     "metadata": {},
     "output_type": "execute_result"
    }
   ],
   "source": [
    "len(automation_col)"
   ]
  },
  {
   "cell_type": "code",
   "execution_count": 182,
   "metadata": {
    "collapsed": false
   },
   "outputs": [
    {
     "data": {
      "text/plain": [
       "''"
      ]
     },
     "execution_count": 182,
     "metadata": {},
     "output_type": "execute_result"
    }
   ],
   "source": [
    "automation_col[2555]"
   ]
  },
  {
   "cell_type": "code",
   "execution_count": 183,
   "metadata": {
    "collapsed": false
   },
   "outputs": [
    {
     "data": {
      "text/plain": [
       "562"
      ]
     },
     "execution_count": 183,
     "metadata": {},
     "output_type": "execute_result"
    }
   ],
   "source": [
    "len(dict_automation_text)"
   ]
  },
  {
   "cell_type": "code",
   "execution_count": null,
   "metadata": {
    "collapsed": false
   },
   "outputs": [],
   "source": []
  },
  {
   "cell_type": "code",
   "execution_count": 184,
   "metadata": {
    "collapsed": true
   },
   "outputs": [],
   "source": [
    "# final_values = {k: dict_automation_text[k] for k in automation_col if k in dict_automation_text }\n",
    "automation_text = [dict_automation_text[k] for k in automation_col if k in dict_automation_text]\n",
    "# automation_text=list(final_values.values())"
   ]
  },
  {
   "cell_type": "code",
   "execution_count": 186,
   "metadata": {
    "collapsed": false
   },
   "outputs": [],
   "source": [
    "ticket_df['Automation Category']=pd.DataFrame({'Automation Category':automation_text})\n",
    "ticket_df.to_csv('ticket_df_with_topgrams_automation_category.csv')"
   ]
  },
  {
   "cell_type": "code",
   "execution_count": 88,
   "metadata": {
    "collapsed": true
   },
   "outputs": [],
   "source": []
  },
  {
   "cell_type": "code",
   "execution_count": 89,
   "metadata": {
    "collapsed": true
   },
   "outputs": [],
   "source": []
  },
  {
   "cell_type": "code",
   "execution_count": null,
   "metadata": {
    "collapsed": false
   },
   "outputs": [],
   "source": []
  },
  {
   "cell_type": "code",
   "execution_count": null,
   "metadata": {
    "collapsed": true
   },
   "outputs": [],
   "source": []
  }
 ],
 "metadata": {
  "anaconda-cloud": {},
  "kernelspec": {
   "display_name": "Python [Anaconda3]",
   "language": "python",
   "name": "Python [Anaconda3]"
  },
  "language_info": {
   "codemirror_mode": {
    "name": "ipython",
    "version": 3
   },
   "file_extension": ".py",
   "mimetype": "text/x-python",
   "name": "python",
   "nbconvert_exporter": "python",
   "pygments_lexer": "ipython3",
   "version": "3.5.2"
  }
 },
 "nbformat": 4,
 "nbformat_minor": 0
}
