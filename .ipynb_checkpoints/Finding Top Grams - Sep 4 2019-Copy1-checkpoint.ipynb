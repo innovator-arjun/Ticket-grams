{
 "cells": [
  {
   "cell_type": "code",
   "execution_count": 12,
   "metadata": {
    "collapsed": true
   },
   "outputs": [],
   "source": [
    "import os\n",
    "import pandas as pd\n",
    "\n",
    "import matplotlib.pyplot as plt\n",
    "%matplotlib inline\n",
    "import seaborn as sns\n",
    "\n",
    "from nltk.tokenize import RegexpTokenizer\n",
    "import re"
   ]
  },
  {
   "cell_type": "code",
   "execution_count": 13,
   "metadata": {
    "collapsed": false
   },
   "outputs": [
    {
     "data": {
      "text/plain": [
       "['bigrams.csv',\n",
       " 'CIandSI_Test1.xlsx',\n",
       " 'dict_file.csv',\n",
       " 'Diff_words.csv',\n",
       " 'final words.csv',\n",
       " 'fourgram.csv',\n",
       " 'sample_words.txtdic',\n",
       " 'ticket_df_with_bigram.csv',\n",
       " 'ticket_df_with_topgrams.csv',\n",
       " 'trigram.csv']"
      ]
     },
     "execution_count": 13,
     "metadata": {},
     "output_type": "execute_result"
    }
   ],
   "source": [
    "#pointing the source and listing the file names under that path\n",
    "path = os.chdir('C://Users//ar393556//Documents//Ticket grams//sample')\n",
    "files = os.listdir(path)\n",
    "files"
   ]
  },
  {
   "cell_type": "code",
   "execution_count": 14,
   "metadata": {
    "collapsed": false
   },
   "outputs": [
    {
     "data": {
      "text/plain": [
       "['CIandSI_Test1.xlsx']"
      ]
     },
     "execution_count": 14,
     "metadata": {},
     "output_type": "execute_result"
    }
   ],
   "source": [
    "#Fetching only xlsx files\n",
    "files_xls = [f for f in files if f[-4:] == 'xlsx']\n",
    "files_xls"
   ]
  },
  {
   "cell_type": "code",
   "execution_count": 15,
   "metadata": {
    "collapsed": false
   },
   "outputs": [],
   "source": [
    "df = pd.DataFrame()\n",
    "\n",
    "#Reading the files and appending the data in the DataFrame format\n",
    "for f in files_xls:\n",
    "    data = pd.read_excel(f,sheet_name='CI-Data')\n",
    "    df = df.append(data)"
   ]
  },
  {
   "cell_type": "code",
   "execution_count": 16,
   "metadata": {
    "collapsed": false
   },
   "outputs": [],
   "source": [
    "#Taking only TicketID and Summary which are essential\n",
    "\n",
    "ticket_df_full = pd.DataFrame(df, columns= ['TicketID','Summary'])\n",
    "\n",
    "ticket_df=ticket_df_full[['TicketID','Summary']]\n",
    "\n",
    "#no. of records and columns\n",
    "ticket_df.shape\n",
    "\n",
    "#Dropping null/blank records\n",
    "ticket_df=ticket_df.dropna()"
   ]
  },
  {
   "cell_type": "code",
   "execution_count": 17,
   "metadata": {
    "collapsed": false
   },
   "outputs": [
    {
     "data": {
      "text/plain": [
       "(2561, 2)"
      ]
     },
     "execution_count": 17,
     "metadata": {},
     "output_type": "execute_result"
    }
   ],
   "source": [
    "#New table data shape\n",
    "ticket_df.shape"
   ]
  },
  {
   "cell_type": "code",
   "execution_count": 18,
   "metadata": {
    "collapsed": false
   },
   "outputs": [
    {
     "data": {
      "text/html": [
       "<div>\n",
       "<table border=\"1\" class=\"dataframe\">\n",
       "  <thead>\n",
       "    <tr style=\"text-align: right;\">\n",
       "      <th></th>\n",
       "      <th>TicketID</th>\n",
       "      <th>Summary</th>\n",
       "    </tr>\n",
       "  </thead>\n",
       "  <tbody>\n",
       "    <tr>\n",
       "      <th>0</th>\n",
       "      <td>543244</td>\n",
       "      <td>Class bandwidth Allocation</td>\n",
       "    </tr>\n",
       "    <tr>\n",
       "      <th>1</th>\n",
       "      <td>675379</td>\n",
       "      <td>Classification change</td>\n",
       "    </tr>\n",
       "    <tr>\n",
       "      <th>2</th>\n",
       "      <td>1077865</td>\n",
       "      <td>client latop – office 365 , not working</td>\n",
       "    </tr>\n",
       "    <tr>\n",
       "      <th>3</th>\n",
       "      <td>1018957</td>\n",
       "      <td>Client Mail box needs to be configure in outlook</td>\n",
       "    </tr>\n",
       "    <tr>\n",
       "      <th>4</th>\n",
       "      <td>801584</td>\n",
       "      <td>Client need to install software</td>\n",
       "    </tr>\n",
       "  </tbody>\n",
       "</table>\n",
       "</div>"
      ],
      "text/plain": [
       "   TicketID                                           Summary\n",
       "0    543244                        Class bandwidth Allocation\n",
       "1    675379                             Classification change\n",
       "2   1077865           client latop – office 365 , not working\n",
       "3   1018957  Client Mail box needs to be configure in outlook\n",
       "4    801584                   Client need to install software"
      ]
     },
     "execution_count": 18,
     "metadata": {},
     "output_type": "execute_result"
    }
   ],
   "source": [
    "ticket_df.head()"
   ]
  },
  {
   "cell_type": "code",
   "execution_count": 19,
   "metadata": {
    "collapsed": true
   },
   "outputs": [],
   "source": [
    "ticket_df['unclean']=ticket_df['Summary']"
   ]
  },
  {
   "cell_type": "code",
   "execution_count": 20,
   "metadata": {
    "collapsed": false
   },
   "outputs": [
    {
     "data": {
      "text/html": [
       "<div>\n",
       "<table border=\"1\" class=\"dataframe\">\n",
       "  <thead>\n",
       "    <tr style=\"text-align: right;\">\n",
       "      <th></th>\n",
       "      <th>TicketID</th>\n",
       "      <th>Summary</th>\n",
       "      <th>unclean</th>\n",
       "    </tr>\n",
       "  </thead>\n",
       "  <tbody>\n",
       "    <tr>\n",
       "      <th>0</th>\n",
       "      <td>543244</td>\n",
       "      <td>Class bandwidth Allocation</td>\n",
       "      <td>Class bandwidth Allocation</td>\n",
       "    </tr>\n",
       "    <tr>\n",
       "      <th>1</th>\n",
       "      <td>675379</td>\n",
       "      <td>Classification change</td>\n",
       "      <td>Classification change</td>\n",
       "    </tr>\n",
       "    <tr>\n",
       "      <th>2</th>\n",
       "      <td>1077865</td>\n",
       "      <td>client latop – office 365 , not working</td>\n",
       "      <td>client latop – office 365 , not working</td>\n",
       "    </tr>\n",
       "    <tr>\n",
       "      <th>3</th>\n",
       "      <td>1018957</td>\n",
       "      <td>Client Mail box needs to be configure in outlook</td>\n",
       "      <td>Client Mail box needs to be configure in outlook</td>\n",
       "    </tr>\n",
       "    <tr>\n",
       "      <th>4</th>\n",
       "      <td>801584</td>\n",
       "      <td>Client need to install software</td>\n",
       "      <td>Client need to install software</td>\n",
       "    </tr>\n",
       "  </tbody>\n",
       "</table>\n",
       "</div>"
      ],
      "text/plain": [
       "   TicketID                                           Summary  \\\n",
       "0    543244                        Class bandwidth Allocation   \n",
       "1    675379                             Classification change   \n",
       "2   1077865           client latop – office 365 , not working   \n",
       "3   1018957  Client Mail box needs to be configure in outlook   \n",
       "4    801584                   Client need to install software   \n",
       "\n",
       "                                            unclean  \n",
       "0                        Class bandwidth Allocation  \n",
       "1                             Classification change  \n",
       "2           client latop – office 365 , not working  \n",
       "3  Client Mail box needs to be configure in outlook  \n",
       "4                   Client need to install software  "
      ]
     },
     "execution_count": 20,
     "metadata": {},
     "output_type": "execute_result"
    }
   ],
   "source": [
    "ticket_df.head()"
   ]
  },
  {
   "cell_type": "code",
   "execution_count": 21,
   "metadata": {
    "collapsed": false
   },
   "outputs": [],
   "source": [
    "# knowledge_base=pd.read_csv('dict_file.csv')"
   ]
  },
  {
   "cell_type": "code",
   "execution_count": 22,
   "metadata": {
    "collapsed": false
   },
   "outputs": [],
   "source": [
    "# knowledge_base=knowledge_base['Words']"
   ]
  },
  {
   "cell_type": "code",
   "execution_count": 23,
   "metadata": {
    "collapsed": false
   },
   "outputs": [],
   "source": [
    "# knowledge_base=knowledge_base.tolist()"
   ]
  },
  {
   "cell_type": "code",
   "execution_count": 24,
   "metadata": {
    "collapsed": false
   },
   "outputs": [],
   "source": [
    "# len(knowledge_base)"
   ]
  },
  {
   "cell_type": "code",
   "execution_count": 25,
   "metadata": {
    "collapsed": false
   },
   "outputs": [],
   "source": [
    "# To remove punchuation, numbers and converting the string to lower\n",
    "ticket_df['Summary'] = ticket_df['Summary'].str.lower().str.replace(r'[^a-z\\s]', '')\n"
   ]
  },
  {
   "cell_type": "code",
   "execution_count": 26,
   "metadata": {
    "collapsed": false
   },
   "outputs": [
    {
     "data": {
      "text/html": [
       "<div>\n",
       "<table border=\"1\" class=\"dataframe\">\n",
       "  <thead>\n",
       "    <tr style=\"text-align: right;\">\n",
       "      <th></th>\n",
       "      <th>TicketID</th>\n",
       "      <th>Summary</th>\n",
       "      <th>unclean</th>\n",
       "    </tr>\n",
       "  </thead>\n",
       "  <tbody>\n",
       "    <tr>\n",
       "      <th>0</th>\n",
       "      <td>543244</td>\n",
       "      <td>class bandwidth allocation</td>\n",
       "      <td>Class bandwidth Allocation</td>\n",
       "    </tr>\n",
       "    <tr>\n",
       "      <th>1</th>\n",
       "      <td>675379</td>\n",
       "      <td>classification change</td>\n",
       "      <td>Classification change</td>\n",
       "    </tr>\n",
       "    <tr>\n",
       "      <th>2</th>\n",
       "      <td>1077865</td>\n",
       "      <td>client latop  office   not working</td>\n",
       "      <td>client latop – office 365 , not working</td>\n",
       "    </tr>\n",
       "    <tr>\n",
       "      <th>3</th>\n",
       "      <td>1018957</td>\n",
       "      <td>client mail box needs to be configure in outlook</td>\n",
       "      <td>Client Mail box needs to be configure in outlook</td>\n",
       "    </tr>\n",
       "    <tr>\n",
       "      <th>4</th>\n",
       "      <td>801584</td>\n",
       "      <td>client need to install software</td>\n",
       "      <td>Client need to install software</td>\n",
       "    </tr>\n",
       "  </tbody>\n",
       "</table>\n",
       "</div>"
      ],
      "text/plain": [
       "   TicketID                                           Summary  \\\n",
       "0    543244                        class bandwidth allocation   \n",
       "1    675379                             classification change   \n",
       "2   1077865                client latop  office   not working   \n",
       "3   1018957  client mail box needs to be configure in outlook   \n",
       "4    801584                   client need to install software   \n",
       "\n",
       "                                            unclean  \n",
       "0                        Class bandwidth Allocation  \n",
       "1                             Classification change  \n",
       "2           client latop – office 365 , not working  \n",
       "3  Client Mail box needs to be configure in outlook  \n",
       "4                   Client need to install software  "
      ]
     },
     "execution_count": 26,
     "metadata": {},
     "output_type": "execute_result"
    }
   ],
   "source": [
    "ticket_df.head()    "
   ]
  },
  {
   "cell_type": "code",
   "execution_count": 27,
   "metadata": {
    "collapsed": true
   },
   "outputs": [],
   "source": [
    "import spacy\n",
    "nlp=spacy.load('en_core_web_sm')"
   ]
  },
  {
   "cell_type": "code",
   "execution_count": 28,
   "metadata": {
    "collapsed": true
   },
   "outputs": [],
   "source": [
    "# ticket_df= ticket_df.apply(lambda row: \" \".join([w.lemma_ for w in nlp(row)]))"
   ]
  },
  {
   "cell_type": "code",
   "execution_count": 29,
   "metadata": {
    "collapsed": false
   },
   "outputs": [],
   "source": [
    "# from nltk.corpus import stopwords\n",
    "# # stop_words = stopwords.words('english')\n",
    "# len(stop_words)"
   ]
  },
  {
   "cell_type": "code",
   "execution_count": 30,
   "metadata": {
    "collapsed": false
   },
   "outputs": [],
   "source": [
    "#print(nlp.Defaults.stop_words)"
   ]
  },
  {
   "cell_type": "code",
   "execution_count": 31,
   "metadata": {
    "collapsed": false
   },
   "outputs": [],
   "source": [
    "nlp.Defaults.stop_words.add('thanks')\n",
    "nlp.Defaults.stop_words.add('please')\n",
    "nlp.Defaults.stop_words.add('team')\n",
    "nlp.Defaults.stop_words.add('dear')\n",
    "nlp.Defaults.stop_words.add('hi')"
   ]
  },
  {
   "cell_type": "code",
   "execution_count": 32,
   "metadata": {
    "collapsed": false
   },
   "outputs": [],
   "source": [
    "nlp.Defaults.stop_words.remove('not')\n",
    "nlp.Defaults.stop_words.remove('cannot')\n",
    "nlp.Defaults.stop_words.remove('nothing')"
   ]
  },
  {
   "cell_type": "code",
   "execution_count": 33,
   "metadata": {
    "collapsed": true
   },
   "outputs": [],
   "source": [
    "stop_words=nlp.Defaults.stop_words"
   ]
  },
  {
   "cell_type": "code",
   "execution_count": null,
   "metadata": {
    "collapsed": true
   },
   "outputs": [],
   "source": []
  },
  {
   "cell_type": "code",
   "execution_count": 34,
   "metadata": {
    "collapsed": false
   },
   "outputs": [],
   "source": [
    "# stop_words=stopword"
   ]
  },
  {
   "cell_type": "code",
   "execution_count": 35,
   "metadata": {
    "collapsed": false
   },
   "outputs": [],
   "source": [
    "\n",
    "\n",
    "# new_stopwords = ['thanks','please','team','dear']\n",
    "# new_stopwords_list = stop_words.update(new_stopwords)\n",
    "# not_stopwords = {'not'} \n",
    "# final_stop_words = set([word for word in new_stopwords_list if word not in not_stopwords])\n",
    "\n",
    "\n",
    "ticket_df['Summary'] = ticket_df['Summary'].apply(lambda x: \" \".join(x for x in x.split() if x not in stop_words))"
   ]
  },
  {
   "cell_type": "code",
   "execution_count": 36,
   "metadata": {
    "collapsed": false
   },
   "outputs": [],
   "source": [
    "# ticket_df.head()"
   ]
  },
  {
   "cell_type": "code",
   "execution_count": 37,
   "metadata": {
    "collapsed": true
   },
   "outputs": [],
   "source": [
    "# freq = pd.Series(' '.join(ticket_df).split()).value_counts()\n",
    "# imp_words=freq[freq<2]"
   ]
  },
  {
   "cell_type": "code",
   "execution_count": 38,
   "metadata": {
    "collapsed": true
   },
   "outputs": [],
   "source": [
    "# freq = list(imp_words.index)\n",
    "# ticket_df['Summary'] = ticket_df['Summary'].apply(lambda x: \" \".join(x for x in x.split() if x not in freq))"
   ]
  },
  {
   "cell_type": "code",
   "execution_count": 39,
   "metadata": {
    "collapsed": true
   },
   "outputs": [],
   "source": [
    "ticket_df['Summary'] = ticket_df['Summary'].apply(lambda x: \" \".join(x for x in x.split() if len(x)>=2 and len(x)<15))"
   ]
  },
  {
   "cell_type": "code",
   "execution_count": 40,
   "metadata": {
    "collapsed": true
   },
   "outputs": [],
   "source": [
    "ticket_df['Summary']= ticket_df['Summary'].apply(lambda row: \" \".join([w.lemma_ for w in nlp(row)]))"
   ]
  },
  {
   "cell_type": "code",
   "execution_count": null,
   "metadata": {
    "collapsed": true
   },
   "outputs": [],
   "source": []
  },
  {
   "cell_type": "code",
   "execution_count": null,
   "metadata": {
    "collapsed": true
   },
   "outputs": [],
   "source": []
  },
  {
   "cell_type": "code",
   "execution_count": null,
   "metadata": {
    "collapsed": true
   },
   "outputs": [],
   "source": []
  },
  {
   "cell_type": "code",
   "execution_count": 41,
   "metadata": {
    "collapsed": false
   },
   "outputs": [],
   "source": [
    "# knowledge_base = list(knowledge_base)\n",
    "# ticket_df['Summary'] = ticket_df['Summary'].apply(lambda x: \" \".join(x for x in x.split() if x in knowledge_base))"
   ]
  },
  {
   "cell_type": "code",
   "execution_count": 42,
   "metadata": {
    "collapsed": false
   },
   "outputs": [
    {
     "data": {
      "text/html": [
       "<div>\n",
       "<table border=\"1\" class=\"dataframe\">\n",
       "  <thead>\n",
       "    <tr style=\"text-align: right;\">\n",
       "      <th></th>\n",
       "      <th>TicketID</th>\n",
       "      <th>Summary</th>\n",
       "      <th>unclean</th>\n",
       "    </tr>\n",
       "  </thead>\n",
       "  <tbody>\n",
       "    <tr>\n",
       "      <th>0</th>\n",
       "      <td>543244</td>\n",
       "      <td>class bandwidth allocation</td>\n",
       "      <td>Class bandwidth Allocation</td>\n",
       "    </tr>\n",
       "    <tr>\n",
       "      <th>1</th>\n",
       "      <td>675379</td>\n",
       "      <td>classification change</td>\n",
       "      <td>Classification change</td>\n",
       "    </tr>\n",
       "    <tr>\n",
       "      <th>2</th>\n",
       "      <td>1077865</td>\n",
       "      <td>client latop office not work</td>\n",
       "      <td>client latop – office 365 , not working</td>\n",
       "    </tr>\n",
       "    <tr>\n",
       "      <th>3</th>\n",
       "      <td>1018957</td>\n",
       "      <td>client mail box need configure outlook</td>\n",
       "      <td>Client Mail box needs to be configure in outlook</td>\n",
       "    </tr>\n",
       "    <tr>\n",
       "      <th>4</th>\n",
       "      <td>801584</td>\n",
       "      <td>client need install software</td>\n",
       "      <td>Client need to install software</td>\n",
       "    </tr>\n",
       "    <tr>\n",
       "      <th>5</th>\n",
       "      <td>1051754</td>\n",
       "      <td>client vpn issue</td>\n",
       "      <td>Client VPN issue</td>\n",
       "    </tr>\n",
       "    <tr>\n",
       "      <th>6</th>\n",
       "      <td>1170038</td>\n",
       "      <td>cm raise</td>\n",
       "      <td>cm # 30202 raised</td>\n",
       "    </tr>\n",
       "    <tr>\n",
       "      <th>7</th>\n",
       "      <td>938538</td>\n",
       "      <td>cmd error popup</td>\n",
       "      <td>CMD Error popup</td>\n",
       "    </tr>\n",
       "    <tr>\n",
       "      <th>8</th>\n",
       "      <td>726914</td>\n",
       "      <td>cmf sit</td>\n",
       "      <td>CMF SIT</td>\n",
       "    </tr>\n",
       "    <tr>\n",
       "      <th>9</th>\n",
       "      <td>899330</td>\n",
       "      <td>cmf sit request check ip clash wt</td>\n",
       "      <td>CMF SIT request to check IP clash with WT</td>\n",
       "    </tr>\n",
       "    <tr>\n",
       "      <th>10</th>\n",
       "      <td>393203</td>\n",
       "      <td>cmr travel class</td>\n",
       "      <td>CMR implkementation for K2 travel class.</td>\n",
       "    </tr>\n",
       "    <tr>\n",
       "      <th>11</th>\n",
       "      <td>829973</td>\n",
       "      <td>cmr need raise requirement description</td>\n",
       "      <td>CMR need to be raised for the below requiremen...</td>\n",
       "    </tr>\n",
       "    <tr>\n",
       "      <th>12</th>\n",
       "      <td>565693</td>\n",
       "      <td>cmr need raise requirement description</td>\n",
       "      <td>CMR need to be raised for the below requiremen...</td>\n",
       "    </tr>\n",
       "    <tr>\n",
       "      <th>13</th>\n",
       "      <td>524202</td>\n",
       "      <td>cmr need raise requirement description</td>\n",
       "      <td>CMR need to be raised for the below requiremen...</td>\n",
       "    </tr>\n",
       "    <tr>\n",
       "      <th>14</th>\n",
       "      <td>602403</td>\n",
       "      <td>cmr need raise requirement description</td>\n",
       "      <td>CMR need to be raised for the below requiremen...</td>\n",
       "    </tr>\n",
       "    <tr>\n",
       "      <th>15</th>\n",
       "      <td>627653</td>\n",
       "      <td>cmr impelematation</td>\n",
       "      <td>CMR# Impelematation.</td>\n",
       "    </tr>\n",
       "    <tr>\n",
       "      <th>16</th>\n",
       "      <td>627641</td>\n",
       "      <td>cmr</td>\n",
       "      <td>CMR#2515</td>\n",
       "    </tr>\n",
       "    <tr>\n",
       "      <th>17</th>\n",
       "      <td>530180</td>\n",
       "      <td>cneed configure</td>\n",
       "      <td>cNeed to configure O365</td>\n",
       "    </tr>\n",
       "    <tr>\n",
       "      <th>18</th>\n",
       "      <td>483488</td>\n",
       "      <td>coach project device installation</td>\n",
       "      <td>Coach project device installation</td>\n",
       "    </tr>\n",
       "    <tr>\n",
       "      <th>19</th>\n",
       "      <td>505188</td>\n",
       "      <td>colour printer issue</td>\n",
       "      <td>Colour Printer Issue.</td>\n",
       "    </tr>\n",
       "  </tbody>\n",
       "</table>\n",
       "</div>"
      ],
      "text/plain": [
       "    TicketID                                 Summary  \\\n",
       "0     543244              class bandwidth allocation   \n",
       "1     675379                   classification change   \n",
       "2    1077865            client latop office not work   \n",
       "3    1018957  client mail box need configure outlook   \n",
       "4     801584            client need install software   \n",
       "5    1051754                        client vpn issue   \n",
       "6    1170038                                cm raise   \n",
       "7     938538                         cmd error popup   \n",
       "8     726914                                 cmf sit   \n",
       "9     899330       cmf sit request check ip clash wt   \n",
       "10    393203                        cmr travel class   \n",
       "11    829973  cmr need raise requirement description   \n",
       "12    565693  cmr need raise requirement description   \n",
       "13    524202  cmr need raise requirement description   \n",
       "14    602403  cmr need raise requirement description   \n",
       "15    627653                      cmr impelematation   \n",
       "16    627641                                     cmr   \n",
       "17    530180                         cneed configure   \n",
       "18    483488       coach project device installation   \n",
       "19    505188                    colour printer issue   \n",
       "\n",
       "                                              unclean  \n",
       "0                          Class bandwidth Allocation  \n",
       "1                               Classification change  \n",
       "2             client latop – office 365 , not working  \n",
       "3    Client Mail box needs to be configure in outlook  \n",
       "4                     Client need to install software  \n",
       "5                                    Client VPN issue  \n",
       "6                                   cm # 30202 raised  \n",
       "7                                     CMD Error popup  \n",
       "8                                             CMF SIT  \n",
       "9           CMF SIT request to check IP clash with WT  \n",
       "10           CMR implkementation for K2 travel class.  \n",
       "11  CMR need to be raised for the below requiremen...  \n",
       "12  CMR need to be raised for the below requiremen...  \n",
       "13  CMR need to be raised for the below requiremen...  \n",
       "14  CMR need to be raised for the below requiremen...  \n",
       "15                               CMR# Impelematation.  \n",
       "16                                           CMR#2515  \n",
       "17                            cNeed to configure O365  \n",
       "18                  Coach project device installation  \n",
       "19                              Colour Printer Issue.  "
      ]
     },
     "execution_count": 42,
     "metadata": {},
     "output_type": "execute_result"
    }
   ],
   "source": [
    "ticket_df.head(20)"
   ]
  },
  {
   "cell_type": "code",
   "execution_count": 51,
   "metadata": {
    "collapsed": true
   },
   "outputs": [],
   "source": [
    "from nltk.tokenize import word_tokenize\n",
    "from nltk.util import ngrams\n",
    "\n",
    "def get_ngrams(text, n ):\n",
    "    n_grams = ngrams(word_tokenize(text), n)\n",
    "    return [ ' '.join(grams) for grams in n_grams]"
   ]
  },
  {
   "cell_type": "code",
   "execution_count": 43,
   "metadata": {
    "collapsed": false
   },
   "outputs": [],
   "source": [
    "# ticket_df.to_csv('final words.csv')"
   ]
  },
  {
   "cell_type": "code",
   "execution_count": 44,
   "metadata": {
    "collapsed": false
   },
   "outputs": [],
   "source": [
    "import collections\n",
    "bi=collections.Counter()\n",
    "for i in ticket_df['Summary']:\n",
    "    x = i.rstrip().split(\" \")\n",
    "    bi.update(set(zip(x[:-1],x[1:])))"
   ]
  },
  {
   "cell_type": "code",
   "execution_count": null,
   "metadata": {
    "collapsed": false
   },
   "outputs": [],
   "source": []
  },
  {
   "cell_type": "code",
   "execution_count": 45,
   "metadata": {
    "collapsed": false
   },
   "outputs": [],
   "source": [
    "bigram_counter = pd.DataFrame.from_dict(bi, orient='index')\n",
    "bigram_counter.to_csv('bigrams.csv')\n",
    "bigram_df=pd.read_csv('bigrams.csv',index_col=False)\n",
    "bigram_df['Unnamed: 0'] = bigram_df['Unnamed: 0'].str.lower().str.replace(r'[^a-z\\s]', '')\n",
    "dict_bigram=bigram_df.set_index('Unnamed: 0')['0'].to_dict()"
   ]
  },
  {
   "cell_type": "code",
   "execution_count": null,
   "metadata": {
    "collapsed": false
   },
   "outputs": [],
   "source": []
  },
  {
   "cell_type": "code",
   "execution_count": 46,
   "metadata": {
    "collapsed": false,
    "scrolled": true
   },
   "outputs": [],
   "source": [
    "import collections\n",
    "tri=collections.Counter()\n",
    "for i in ticket_df['Summary']:\n",
    "    x = i.rstrip().split(\" \")\n",
    "    tri.update(set(zip(x[:-2],x[1:-1],x[2:])))"
   ]
  },
  {
   "cell_type": "code",
   "execution_count": 47,
   "metadata": {
    "collapsed": false
   },
   "outputs": [],
   "source": [
    "trigram_counter = pd.DataFrame.from_dict(tri, orient='index')\n",
    "trigram_counter.to_csv('trigram.csv')"
   ]
  },
  {
   "cell_type": "code",
   "execution_count": 48,
   "metadata": {
    "collapsed": false,
    "scrolled": true
   },
   "outputs": [],
   "source": [
    "trigram_df=pd.read_csv('trigram.csv',index_col=False)\n",
    "trigram_df['Unnamed: 0'] = trigram_df['Unnamed: 0'].str.lower().str.replace(r'[^a-z\\s]', '')\n",
    "dict_trigram=trigram_df.set_index('Unnamed: 0')['0'].to_dict()"
   ]
  },
  {
   "cell_type": "code",
   "execution_count": 52,
   "metadata": {
    "collapsed": false
   },
   "outputs": [],
   "source": [
    "import collections\n",
    "four=collections.Counter()\n",
    "\n",
    "for i in ticket_df['Summary']:\n",
    "    x = i.rstrip().split(\" \")\n",
    "    four.update(ngrams(x, n=4))"
   ]
  },
  {
   "cell_type": "code",
   "execution_count": 53,
   "metadata": {
    "collapsed": false
   },
   "outputs": [],
   "source": [
    "fourgram_counter = pd.DataFrame.from_dict(four, orient='index')\n",
    "fourgram_counter.to_csv('fourgram.csv')\n",
    "fourgram_df=pd.read_csv('fourgram.csv',index_col=False)\n",
    "fourgram_df['Unnamed: 0'] = fourgram_df['Unnamed: 0'].str.lower().str.replace(r'[^a-z\\s]', '')\n",
    "dict_four=fourgram_df.set_index('Unnamed: 0')['0'].to_dict()"
   ]
  },
  {
   "cell_type": "code",
   "execution_count": null,
   "metadata": {
    "collapsed": false,
    "scrolled": true
   },
   "outputs": [],
   "source": []
  },
  {
   "cell_type": "code",
   "execution_count": 85,
   "metadata": {
    "collapsed": false
   },
   "outputs": [],
   "source": [
    "from past.builtins import xrange\n",
    "\n",
    "def top_grams(dicti, N):\n",
    "    res_topgram=[]\n",
    "    for text in ticket_df['Summary']:  \n",
    "        if len(text.split())<N:  #reduces time by 20% in this computation                        \n",
    "            continue\n",
    "        comp_list=get_ngrams(text,N)\n",
    "        n = {k: dicti[k] for k in comp_list if k in dicti}\n",
    "        flag=bool(n)\n",
    "        res=''\n",
    "        if flag==True:\n",
    "            res=max(n, key=n.get)\n",
    "        else:\n",
    "            res='No Pattern'\n",
    "        res_topgram.append(res)\n",
    "        \n",
    "    return res_topgram"
   ]
  },
  {
   "cell_type": "code",
   "execution_count": null,
   "metadata": {
    "collapsed": false
   },
   "outputs": [],
   "source": []
  },
  {
   "cell_type": "code",
   "execution_count": null,
   "metadata": {
    "collapsed": false
   },
   "outputs": [],
   "source": []
  },
  {
   "cell_type": "code",
   "execution_count": 72,
   "metadata": {
    "collapsed": false
   },
   "outputs": [
    {
     "name": "stdout",
     "output_type": "stream",
     "text": [
      "Wall time: 362 ms\n"
     ]
    }
   ],
   "source": [
    "\n",
    "res_bigram=top_grams(dict_bigram,2)\n",
    "ticket_df['Top2Grams']=pd.DataFrame({'Top2Grams':res_bigram})"
   ]
  },
  {
   "cell_type": "code",
   "execution_count": 73,
   "metadata": {
    "collapsed": false
   },
   "outputs": [
    {
     "data": {
      "text/html": [
       "<div>\n",
       "<table border=\"1\" class=\"dataframe\">\n",
       "  <thead>\n",
       "    <tr style=\"text-align: right;\">\n",
       "      <th></th>\n",
       "      <th>TicketID</th>\n",
       "      <th>Summary</th>\n",
       "      <th>unclean</th>\n",
       "      <th>Top2Grams</th>\n",
       "    </tr>\n",
       "  </thead>\n",
       "  <tbody>\n",
       "    <tr>\n",
       "      <th>0</th>\n",
       "      <td>543244</td>\n",
       "      <td>class bandwidth allocation</td>\n",
       "      <td>Class bandwidth Allocation</td>\n",
       "      <td>class bandwidth</td>\n",
       "    </tr>\n",
       "    <tr>\n",
       "      <th>1</th>\n",
       "      <td>675379</td>\n",
       "      <td>classification change</td>\n",
       "      <td>Classification change</td>\n",
       "      <td>classification change</td>\n",
       "    </tr>\n",
       "    <tr>\n",
       "      <th>2</th>\n",
       "      <td>1077865</td>\n",
       "      <td>client latop office not work</td>\n",
       "      <td>client latop – office 365 , not working</td>\n",
       "      <td>not work</td>\n",
       "    </tr>\n",
       "    <tr>\n",
       "      <th>3</th>\n",
       "      <td>1018957</td>\n",
       "      <td>client mail box need configure outlook</td>\n",
       "      <td>Client Mail box needs to be configure in outlook</td>\n",
       "      <td>need configure</td>\n",
       "    </tr>\n",
       "    <tr>\n",
       "      <th>4</th>\n",
       "      <td>801584</td>\n",
       "      <td>client need install software</td>\n",
       "      <td>Client need to install software</td>\n",
       "      <td>install software</td>\n",
       "    </tr>\n",
       "  </tbody>\n",
       "</table>\n",
       "</div>"
      ],
      "text/plain": [
       "   TicketID                                 Summary  \\\n",
       "0    543244              class bandwidth allocation   \n",
       "1    675379                   classification change   \n",
       "2   1077865            client latop office not work   \n",
       "3   1018957  client mail box need configure outlook   \n",
       "4    801584            client need install software   \n",
       "\n",
       "                                            unclean              Top2Grams  \n",
       "0                        Class bandwidth Allocation        class bandwidth  \n",
       "1                             Classification change  classification change  \n",
       "2           client latop – office 365 , not working               not work  \n",
       "3  Client Mail box needs to be configure in outlook         need configure  \n",
       "4                   Client need to install software       install software  "
      ]
     },
     "execution_count": 73,
     "metadata": {},
     "output_type": "execute_result"
    }
   ],
   "source": [
    "ticket_df.head()\n"
   ]
  },
  {
   "cell_type": "code",
   "execution_count": 74,
   "metadata": {
    "collapsed": true
   },
   "outputs": [],
   "source": [
    "res_trigram=top_grams(dict_trigram, 3)\n",
    "ticket_df['Top3Grams']=pd.DataFrame({'Top3Grams':res_trigram})"
   ]
  },
  {
   "cell_type": "code",
   "execution_count": 75,
   "metadata": {
    "collapsed": false
   },
   "outputs": [
    {
     "data": {
      "text/html": [
       "<div>\n",
       "<table border=\"1\" class=\"dataframe\">\n",
       "  <thead>\n",
       "    <tr style=\"text-align: right;\">\n",
       "      <th></th>\n",
       "      <th>TicketID</th>\n",
       "      <th>Summary</th>\n",
       "      <th>unclean</th>\n",
       "      <th>Top2Grams</th>\n",
       "      <th>Top3Grams</th>\n",
       "    </tr>\n",
       "  </thead>\n",
       "  <tbody>\n",
       "    <tr>\n",
       "      <th>0</th>\n",
       "      <td>543244</td>\n",
       "      <td>class bandwidth allocation</td>\n",
       "      <td>Class bandwidth Allocation</td>\n",
       "      <td>class bandwidth</td>\n",
       "      <td>class bandwidth allocation</td>\n",
       "    </tr>\n",
       "    <tr>\n",
       "      <th>1</th>\n",
       "      <td>675379</td>\n",
       "      <td>classification change</td>\n",
       "      <td>Classification change</td>\n",
       "      <td>classification change</td>\n",
       "      <td>No Pattern</td>\n",
       "    </tr>\n",
       "    <tr>\n",
       "      <th>2</th>\n",
       "      <td>1077865</td>\n",
       "      <td>client latop office not work</td>\n",
       "      <td>client latop – office 365 , not working</td>\n",
       "      <td>not work</td>\n",
       "      <td>latop office not</td>\n",
       "    </tr>\n",
       "    <tr>\n",
       "      <th>3</th>\n",
       "      <td>1018957</td>\n",
       "      <td>client mail box need configure outlook</td>\n",
       "      <td>Client Mail box needs to be configure in outlook</td>\n",
       "      <td>need configure</td>\n",
       "      <td>mail box need</td>\n",
       "    </tr>\n",
       "    <tr>\n",
       "      <th>4</th>\n",
       "      <td>801584</td>\n",
       "      <td>client need install software</td>\n",
       "      <td>Client need to install software</td>\n",
       "      <td>install software</td>\n",
       "      <td>need install software</td>\n",
       "    </tr>\n",
       "  </tbody>\n",
       "</table>\n",
       "</div>"
      ],
      "text/plain": [
       "   TicketID                                 Summary  \\\n",
       "0    543244              class bandwidth allocation   \n",
       "1    675379                   classification change   \n",
       "2   1077865            client latop office not work   \n",
       "3   1018957  client mail box need configure outlook   \n",
       "4    801584            client need install software   \n",
       "\n",
       "                                            unclean              Top2Grams  \\\n",
       "0                        Class bandwidth Allocation        class bandwidth   \n",
       "1                             Classification change  classification change   \n",
       "2           client latop – office 365 , not working               not work   \n",
       "3  Client Mail box needs to be configure in outlook         need configure   \n",
       "4                   Client need to install software       install software   \n",
       "\n",
       "                    Top3Grams  \n",
       "0  class bandwidth allocation  \n",
       "1                  No Pattern  \n",
       "2            latop office not  \n",
       "3               mail box need  \n",
       "4       need install software  "
      ]
     },
     "execution_count": 75,
     "metadata": {},
     "output_type": "execute_result"
    }
   ],
   "source": [
    "ticket_df.head()\n"
   ]
  },
  {
   "cell_type": "code",
   "execution_count": 88,
   "metadata": {
    "collapsed": false
   },
   "outputs": [
    {
     "name": "stdout",
     "output_type": "stream",
     "text": [
      "Wall time: 205 ms\n"
     ]
    }
   ],
   "source": [
    "\n",
    "res_fourgram=top_grams(dict_four,4)\n",
    "ticket_df['Top4Grams']=pd.DataFrame({'Top4Grams':res_fourgram})"
   ]
  },
  {
   "cell_type": "code",
   "execution_count": 89,
   "metadata": {
    "collapsed": false
   },
   "outputs": [
    {
     "data": {
      "text/html": [
       "<div>\n",
       "<table border=\"1\" class=\"dataframe\">\n",
       "  <thead>\n",
       "    <tr style=\"text-align: right;\">\n",
       "      <th></th>\n",
       "      <th>TicketID</th>\n",
       "      <th>Summary</th>\n",
       "      <th>unclean</th>\n",
       "      <th>Top2Grams</th>\n",
       "      <th>Top3Grams</th>\n",
       "      <th>Top4Grams</th>\n",
       "    </tr>\n",
       "  </thead>\n",
       "  <tbody>\n",
       "    <tr>\n",
       "      <th>0</th>\n",
       "      <td>543244</td>\n",
       "      <td>class bandwidth allocation</td>\n",
       "      <td>Class bandwidth Allocation</td>\n",
       "      <td>class bandwidth</td>\n",
       "      <td>class bandwidth allocation</td>\n",
       "      <td>latop office not work</td>\n",
       "    </tr>\n",
       "    <tr>\n",
       "      <th>1</th>\n",
       "      <td>675379</td>\n",
       "      <td>classification change</td>\n",
       "      <td>Classification change</td>\n",
       "      <td>classification change</td>\n",
       "      <td>No Pattern</td>\n",
       "      <td>box need configure outlook</td>\n",
       "    </tr>\n",
       "    <tr>\n",
       "      <th>2</th>\n",
       "      <td>1077865</td>\n",
       "      <td>client latop office not work</td>\n",
       "      <td>client latop – office 365 , not working</td>\n",
       "      <td>not work</td>\n",
       "      <td>latop office not</td>\n",
       "      <td>client need install software</td>\n",
       "    </tr>\n",
       "    <tr>\n",
       "      <th>3</th>\n",
       "      <td>1018957</td>\n",
       "      <td>client mail box need configure outlook</td>\n",
       "      <td>Client Mail box needs to be configure in outlook</td>\n",
       "      <td>need configure</td>\n",
       "      <td>mail box need</td>\n",
       "      <td>sit request check ip</td>\n",
       "    </tr>\n",
       "    <tr>\n",
       "      <th>4</th>\n",
       "      <td>801584</td>\n",
       "      <td>client need install software</td>\n",
       "      <td>Client need to install software</td>\n",
       "      <td>install software</td>\n",
       "      <td>need install software</td>\n",
       "      <td>need raise requirement description</td>\n",
       "    </tr>\n",
       "    <tr>\n",
       "      <th>5</th>\n",
       "      <td>1051754</td>\n",
       "      <td>client vpn issue</td>\n",
       "      <td>Client VPN issue</td>\n",
       "      <td>vpn issue</td>\n",
       "      <td>client vpn issue</td>\n",
       "      <td>need raise requirement description</td>\n",
       "    </tr>\n",
       "    <tr>\n",
       "      <th>6</th>\n",
       "      <td>1170038</td>\n",
       "      <td>cm raise</td>\n",
       "      <td>cm # 30202 raised</td>\n",
       "      <td>cm raise</td>\n",
       "      <td>No Pattern</td>\n",
       "      <td>need raise requirement description</td>\n",
       "    </tr>\n",
       "    <tr>\n",
       "      <th>7</th>\n",
       "      <td>938538</td>\n",
       "      <td>cmd error popup</td>\n",
       "      <td>CMD Error popup</td>\n",
       "      <td>error popup</td>\n",
       "      <td>cmd error popup</td>\n",
       "      <td>need raise requirement description</td>\n",
       "    </tr>\n",
       "    <tr>\n",
       "      <th>8</th>\n",
       "      <td>726914</td>\n",
       "      <td>cmf sit</td>\n",
       "      <td>CMF SIT</td>\n",
       "      <td>cmf sit</td>\n",
       "      <td>No Pattern</td>\n",
       "      <td>coach project device installation</td>\n",
       "    </tr>\n",
       "    <tr>\n",
       "      <th>9</th>\n",
       "      <td>899330</td>\n",
       "      <td>cmf sit request check ip clash wt</td>\n",
       "      <td>CMF SIT request to check IP clash with WT</td>\n",
       "      <td>cmf sit</td>\n",
       "      <td>request check ip</td>\n",
       "      <td>commit bw netsuite mb</td>\n",
       "    </tr>\n",
       "    <tr>\n",
       "      <th>10</th>\n",
       "      <td>393203</td>\n",
       "      <td>cmr travel class</td>\n",
       "      <td>CMR implkementation for K2 travel class.</td>\n",
       "      <td>travel class</td>\n",
       "      <td>cmr travel class</td>\n",
       "      <td>not work segment sa</td>\n",
       "    </tr>\n",
       "    <tr>\n",
       "      <th>11</th>\n",
       "      <td>829973</td>\n",
       "      <td>cmr need raise requirement description</td>\n",
       "      <td>CMR need to be raised for the below requiremen...</td>\n",
       "      <td>need raise</td>\n",
       "      <td>raise requirement description</td>\n",
       "      <td>slow ness issue pm</td>\n",
       "    </tr>\n",
       "    <tr>\n",
       "      <th>12</th>\n",
       "      <td>565693</td>\n",
       "      <td>cmr need raise requirement description</td>\n",
       "      <td>CMR need to be raised for the below requiremen...</td>\n",
       "      <td>need raise</td>\n",
       "      <td>raise requirement description</td>\n",
       "      <td>broadcast cdc vtp switch</td>\n",
       "    </tr>\n",
       "    <tr>\n",
       "      <th>13</th>\n",
       "      <td>524202</td>\n",
       "      <td>cmr need raise requirement description</td>\n",
       "      <td>CMR need to be raised for the below requiremen...</td>\n",
       "      <td>need raise</td>\n",
       "      <td>raise requirement description</td>\n",
       "      <td>configure log sap vpn</td>\n",
       "    </tr>\n",
       "    <tr>\n",
       "      <th>14</th>\n",
       "      <td>602403</td>\n",
       "      <td>cmr need raise requirement description</td>\n",
       "      <td>CMR need to be raised for the below requiremen...</td>\n",
       "      <td>need raise</td>\n",
       "      <td>raise requirement description</td>\n",
       "      <td>backup client installation backup</td>\n",
       "    </tr>\n",
       "    <tr>\n",
       "      <th>15</th>\n",
       "      <td>627653</td>\n",
       "      <td>cmr impelematation</td>\n",
       "      <td>CMR# Impelematation.</td>\n",
       "      <td>cmr impelematation</td>\n",
       "      <td>No Pattern</td>\n",
       "      <td>connect backup password reset</td>\n",
       "    </tr>\n",
       "    <tr>\n",
       "      <th>16</th>\n",
       "      <td>627641</td>\n",
       "      <td>cmr</td>\n",
       "      <td>CMR#2515</td>\n",
       "      <td>No Pattern</td>\n",
       "      <td>No Pattern</td>\n",
       "      <td>not appear internet explorer</td>\n",
       "    </tr>\n",
       "    <tr>\n",
       "      <th>17</th>\n",
       "      <td>530180</td>\n",
       "      <td>cneed configure</td>\n",
       "      <td>cNeed to configure O365</td>\n",
       "      <td>cneed configure</td>\n",
       "      <td>No Pattern</td>\n",
       "      <td>corporate network not work</td>\n",
       "    </tr>\n",
       "    <tr>\n",
       "      <th>18</th>\n",
       "      <td>483488</td>\n",
       "      <td>coach project device installation</td>\n",
       "      <td>Coach project device installation</td>\n",
       "      <td>project device</td>\n",
       "      <td>coach project device</td>\n",
       "      <td>not open mail box</td>\n",
       "    </tr>\n",
       "    <tr>\n",
       "      <th>19</th>\n",
       "      <td>505188</td>\n",
       "      <td>colour printer issue</td>\n",
       "      <td>Colour Printer Issue.</td>\n",
       "      <td>colour printer</td>\n",
       "      <td>colour printer issue</td>\n",
       "      <td>kindly provide report month</td>\n",
       "    </tr>\n",
       "  </tbody>\n",
       "</table>\n",
       "</div>"
      ],
      "text/plain": [
       "    TicketID                                 Summary  \\\n",
       "0     543244              class bandwidth allocation   \n",
       "1     675379                   classification change   \n",
       "2    1077865            client latop office not work   \n",
       "3    1018957  client mail box need configure outlook   \n",
       "4     801584            client need install software   \n",
       "5    1051754                        client vpn issue   \n",
       "6    1170038                                cm raise   \n",
       "7     938538                         cmd error popup   \n",
       "8     726914                                 cmf sit   \n",
       "9     899330       cmf sit request check ip clash wt   \n",
       "10    393203                        cmr travel class   \n",
       "11    829973  cmr need raise requirement description   \n",
       "12    565693  cmr need raise requirement description   \n",
       "13    524202  cmr need raise requirement description   \n",
       "14    602403  cmr need raise requirement description   \n",
       "15    627653                      cmr impelematation   \n",
       "16    627641                                     cmr   \n",
       "17    530180                         cneed configure   \n",
       "18    483488       coach project device installation   \n",
       "19    505188                    colour printer issue   \n",
       "\n",
       "                                              unclean              Top2Grams  \\\n",
       "0                          Class bandwidth Allocation        class bandwidth   \n",
       "1                               Classification change  classification change   \n",
       "2             client latop – office 365 , not working               not work   \n",
       "3    Client Mail box needs to be configure in outlook         need configure   \n",
       "4                     Client need to install software       install software   \n",
       "5                                    Client VPN issue              vpn issue   \n",
       "6                                   cm # 30202 raised               cm raise   \n",
       "7                                     CMD Error popup            error popup   \n",
       "8                                             CMF SIT                cmf sit   \n",
       "9           CMF SIT request to check IP clash with WT                cmf sit   \n",
       "10           CMR implkementation for K2 travel class.           travel class   \n",
       "11  CMR need to be raised for the below requiremen...             need raise   \n",
       "12  CMR need to be raised for the below requiremen...             need raise   \n",
       "13  CMR need to be raised for the below requiremen...             need raise   \n",
       "14  CMR need to be raised for the below requiremen...             need raise   \n",
       "15                               CMR# Impelematation.     cmr impelematation   \n",
       "16                                           CMR#2515             No Pattern   \n",
       "17                            cNeed to configure O365        cneed configure   \n",
       "18                  Coach project device installation         project device   \n",
       "19                              Colour Printer Issue.         colour printer   \n",
       "\n",
       "                        Top3Grams                           Top4Grams  \n",
       "0      class bandwidth allocation               latop office not work  \n",
       "1                      No Pattern          box need configure outlook  \n",
       "2                latop office not        client need install software  \n",
       "3                   mail box need                sit request check ip  \n",
       "4           need install software  need raise requirement description  \n",
       "5                client vpn issue  need raise requirement description  \n",
       "6                      No Pattern  need raise requirement description  \n",
       "7                 cmd error popup  need raise requirement description  \n",
       "8                      No Pattern   coach project device installation  \n",
       "9                request check ip               commit bw netsuite mb  \n",
       "10               cmr travel class                 not work segment sa  \n",
       "11  raise requirement description                  slow ness issue pm  \n",
       "12  raise requirement description            broadcast cdc vtp switch  \n",
       "13  raise requirement description               configure log sap vpn  \n",
       "14  raise requirement description   backup client installation backup  \n",
       "15                     No Pattern       connect backup password reset  \n",
       "16                     No Pattern        not appear internet explorer  \n",
       "17                     No Pattern          corporate network not work  \n",
       "18           coach project device                   not open mail box  \n",
       "19           colour printer issue         kindly provide report month  "
      ]
     },
     "execution_count": 89,
     "metadata": {},
     "output_type": "execute_result"
    }
   ],
   "source": [
    "ticket_df.head()"
   ]
  },
  {
   "cell_type": "code",
   "execution_count": 90,
   "metadata": {
    "collapsed": false
   },
   "outputs": [],
   "source": [
    "ticket_df.to_csv('ticket_df_with_topgrams.csv')"
   ]
  },
  {
   "cell_type": "code",
   "execution_count": null,
   "metadata": {
    "collapsed": false
   },
   "outputs": [],
   "source": [
    "len()"
   ]
  },
  {
   "cell_type": "code",
   "execution_count": null,
   "metadata": {
    "collapsed": false
   },
   "outputs": [],
   "source": []
  },
  {
   "cell_type": "code",
   "execution_count": 186,
   "metadata": {
    "collapsed": false
   },
   "outputs": [],
   "source": []
  },
  {
   "cell_type": "code",
   "execution_count": 187,
   "metadata": {
    "collapsed": false
   },
   "outputs": [],
   "source": []
  },
  {
   "cell_type": "code",
   "execution_count": null,
   "metadata": {
    "collapsed": false
   },
   "outputs": [],
   "source": []
  },
  {
   "cell_type": "code",
   "execution_count": null,
   "metadata": {
    "collapsed": true
   },
   "outputs": [],
   "source": []
  }
 ],
 "metadata": {
  "anaconda-cloud": {},
  "kernelspec": {
   "display_name": "Python [Anaconda3]",
   "language": "python",
   "name": "Python [Anaconda3]"
  },
  "language_info": {
   "codemirror_mode": {
    "name": "ipython",
    "version": 3
   },
   "file_extension": ".py",
   "mimetype": "text/x-python",
   "name": "python",
   "nbconvert_exporter": "python",
   "pygments_lexer": "ipython3",
   "version": "3.5.2"
  }
 },
 "nbformat": 4,
 "nbformat_minor": 0
}
